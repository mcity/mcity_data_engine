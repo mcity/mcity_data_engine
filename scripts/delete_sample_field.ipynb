{
 "cells": [
  {
   "cell_type": "code",
   "execution_count": null,
   "metadata": {},
   "outputs": [],
   "source": [
    "from pprint import pprint \n",
    "from fiftyone import ViewField as F\n",
    "import fiftyone as fo\n",
    "\n",
    "dataset = fo.load_dataset(\"mcity_fisheye_2000\")\n",
    "dataset.reload()"
   ]
  },
  {
   "cell_type": "code",
   "execution_count": null,
   "metadata": {},
   "outputs": [],
   "source": [
    "print(dataset)"
   ]
  },
  {
   "cell_type": "code",
   "execution_count": null,
   "metadata": {},
   "outputs": [],
   "source": [
    "dataset_schema = dataset.get_field_schema()\n",
    "for field in dataset_schema:\n",
    "    if \"pred_\" in field:\n",
    "        dataset.delete_sample_field(field)\n",
    "        print(f\"Deleted {field}\")"
   ]
  }
 ],
 "metadata": {
  "kernelspec": {
   "display_name": ".venv",
   "language": "python",
   "name": "python3"
  },
  "language_info": {
   "codemirror_mode": {
    "name": "ipython",
    "version": 3
   },
   "file_extension": ".py",
   "mimetype": "text/x-python",
   "name": "python",
   "nbconvert_exporter": "python",
   "pygments_lexer": "ipython3",
   "version": "3.12.3"
  }
 },
 "nbformat": 4,
 "nbformat_minor": 2
}
