{
 "cells": [
  {
   "cell_type": "code",
   "execution_count": null,
   "metadata": {},
   "outputs": [],
   "source": [
    "from pprint import pprint \n",
    "from fiftyone import ViewField as F\n",
    "import fiftyone as fo\n",
    "\n",
    "dataset = fo.load_dataset(\"mcity_fisheye_2000\")\n",
    "dataset.reload()"
   ]
  },
  {
   "cell_type": "code",
   "execution_count": null,
   "metadata": {},
   "outputs": [],
   "source": [
    "print(dataset)"
   ]
  },
  {
   "cell_type": "code",
   "execution_count": null,
   "metadata": {},
   "outputs": [],
   "source": [
    "dataset_schema = dataset.get_field_schema()\n",
    "for field in dataset_schema:\n",
    "    if \"pred_\" in field:\n",
    "        dataset.delete_sample_field(field)\n",
    "        print(f\"Deleted {field}\")"
   ]
  }
 ],
 "metadata": {
  "language_info": {
   "name": "python"
  }
 },
 "nbformat": 4,
 "nbformat_minor": 2
}
