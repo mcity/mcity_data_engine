{
 "cells": [
  {
   "cell_type": "code",
   "execution_count": null,
   "metadata": {},
   "outputs": [],
   "source": [
    "from pprint import pprint \n",
    "from fiftyone import ViewField as F\n",
    "import fiftyone as fo\n",
    "\n",
    "dataset = fo.load_dataset(\"mcity_fisheye_2000\")"
   ]
  },
  {
   "cell_type": "code",
   "execution_count": 2,
   "metadata": {},
   "outputs": [
    {
     "name": "stdout",
     "output_type": "stream",
     "text": [
      "Name:        mcity_fisheye_2000\n",
      "Media type:  image\n",
      "Num samples: 2744\n",
      "Persistent:  True\n",
      "Tags:        []\n",
      "Sample fields:\n",
      "    id:                                  fiftyone.core.fields.ObjectIdField\n",
      "    filepath:                            fiftyone.core.fields.StringField\n",
      "    tags:                                fiftyone.core.fields.ListField(fiftyone.core.fields.StringField)\n",
      "    metadata:                            fiftyone.core.fields.EmbeddedDocumentField(fiftyone.core.metadata.ImageMetadata)\n",
      "    created_at:                          fiftyone.core.fields.DateTimeField\n",
      "    last_modified_at:                    fiftyone.core.fields.DateTimeField\n",
      "    ground_truth:                        fiftyone.core.fields.EmbeddedDocumentField(fiftyone.core.labels.Detections)\n",
      "    location:                            fiftyone.core.fields.StringField\n",
      "    name:                                fiftyone.core.fields.StringField\n",
      "    timestamp:                           fiftyone.core.fields.DateTimeField\n",
      "    pred_omlab_omdet_turbo_swin_tiny_hf: fiftyone.core.fields.EmbeddedDocumentField(fiftyone.core.labels.Detections)\n"
     ]
    }
   ],
   "source": [
    "print(dataset)"
   ]
  },
  {
   "cell_type": "code",
   "execution_count": null,
   "metadata": {},
   "outputs": [],
   "source": [
    "dataset_schema = dataset.get_field_schema()\n",
    "for field in dataset_schema:\n",
    "    if \"pred_\" in field:\n",
    "        dataset.delete_sample_field(\"pred_omlab_omdet_turbo_swin_tiny_hf\")"
   ]
  },
  {
   "cell_type": "code",
   "execution_count": null,
   "metadata": {},
   "outputs": [],
   "source": []
  }
 ],
 "metadata": {
  "kernelspec": {
   "display_name": ".venv",
   "language": "python",
   "name": "python3"
  },
  "language_info": {
   "codemirror_mode": {
    "name": "ipython",
    "version": 3
   },
   "file_extension": ".py",
   "mimetype": "text/x-python",
   "name": "python",
   "nbconvert_exporter": "python",
   "pygments_lexer": "ipython3",
   "version": "3.12.3"
  }
 },
 "nbformat": 4,
 "nbformat_minor": 2
}
