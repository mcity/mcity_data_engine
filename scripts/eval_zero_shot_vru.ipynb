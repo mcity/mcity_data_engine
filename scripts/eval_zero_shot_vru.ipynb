{
 "cells": [
  {
   "cell_type": "code",
   "execution_count": null,
   "metadata": {},
   "outputs": [],
   "source": [
    "import fiftyone as fo\n",
    "from tqdm import tqdm"
   ]
  },
  {
   "cell_type": "code",
   "execution_count": null,
   "metadata": {},
   "outputs": [],
   "source": [
    "dataset_name = \"mcity_fisheye_2000\"\n",
    "dataset = fo.load_dataset(dataset_name)\n",
    "dataset.reload()\n",
    "dataset_schema = dataset.get_field_schema()\n",
    "print(dataset_schema)\n",
    "print(dataset)"
   ]
  },
  {
   "cell_type": "code",
   "execution_count": null,
   "metadata": {},
   "outputs": [],
   "source": [
    "vru_labels = [\"skater\",\n",
    "                \"child\",\n",
    "                \"bicycle\",\n",
    "                \"bicyclist\",\n",
    "                \"cyclist\",\n",
    "                \"bike\",\n",
    "                \"rider\",\n",
    "                \"motorcycle\",\n",
    "                \"motorcyclist\",\n",
    "                \"pedestrian\",\n",
    "                \"person\",\n",
    "                \"walker\",\n",
    "                \"jogger\",\n",
    "                \"runner\",\n",
    "                \"skateboarder\",\n",
    "                \"scooter\",\n",
    "                \"delivery driver\"]\n",
    "\n",
    "gt_vru_labels = [\"motorbike/cycler\", \"pedestrian\"]"
   ]
  },
  {
   "cell_type": "code",
   "execution_count": null,
   "metadata": {},
   "outputs": [],
   "source": [
    "#Get fields of zero shot model predictions\n",
    "pred_fields = []\n",
    "dataset_schema = dataset.get_field_schema()\n",
    "for field in dataset_schema:\n",
    "    if \"pred_\" in field and \"_vru\" not in field:\n",
    "        pred_fields.append(field)\n",
    "        print(field)"
   ]
  },
  {
   "cell_type": "code",
   "execution_count": null,
   "metadata": {},
   "outputs": [],
   "source": [
    "samples_detections = [] # List of lists of list [model][sample][detections]\n",
    "for field in tqdm(pred_fields, desc = \"Getting detection values\"):\n",
    "    field_detections = dataset.values(f\"{field}.detections\")  # list of lists of detections per sample\n",
    "    samples_detections.append(field_detections)"
   ]
  },
  {
   "cell_type": "code",
   "execution_count": null,
   "metadata": {},
   "outputs": [],
   "source": [
    "n_samples = len(dataset)\n",
    "for i in tqdm(range(n_samples)):\n",
    "    for j in range(len(pred_fields)):\n",
    "        detections = samples_detections[j][i]\n",
    "        if detections:\n",
    "            # Create a new list to store kept detections\n",
    "            kept_detections = []\n",
    "            \n",
    "            # Iterate over a copy of the list\n",
    "            for detection in detections[:]:\n",
    "                if detection.label in vru_labels:\n",
    "                    print(f\"Changed {detection.label} to vru\")\n",
    "                    detection.label = \"vru\"\n",
    "                    kept_detections.append(detection)\n",
    "                else:\n",
    "                    print(f\"Removing non-VRU detection: {detection.label}\")\n",
    "            # Replace original list with filtered list\n",
    "            samples_detections[j][i] = kept_detections"
   ]
  },
  {
   "cell_type": "code",
   "execution_count": null,
   "metadata": {},
   "outputs": [],
   "source": [
    "gt_field = \"ground_truth\"\n",
    "field_gt = dataset.values(f\"{gt_field}.detections\")\n",
    "\n",
    "for i in tqdm(range(n_samples)):\n",
    "    detections = field_gt[i]\n",
    "    if detections:\n",
    "        # Create new list for kept detections\n",
    "        kept_detections = []\n",
    "        \n",
    "        # Process each detection\n",
    "        for detection in detections[:]:  # Iterate over copy\n",
    "            if detection.label in gt_vru_labels:\n",
    "                print(f\"Changed {detection.label} to vru\")\n",
    "                detection.label = \"vru\"\n",
    "                kept_detections.append(detection)\n",
    "            else:\n",
    "                print(f\"Removing non-VRU detection: {detection.label}\")\n",
    "        \n",
    "        # Replace with filtered list\n",
    "        field_gt[i] = kept_detections"
   ]
  },
  {
   "cell_type": "code",
   "execution_count": null,
   "metadata": {},
   "outputs": [],
   "source": [
    "for i, field in enumerate(pred_fields):\n",
    "    pred_key = f\"{field}_vru\"\n",
    "    dataset.add_sample_field(\n",
    "                        pred_key,\n",
    "                        fo.EmbeddedDocumentField,\n",
    "                        embedded_doc_type=fo.Detections,\n",
    "                    )\n",
    "    dataset.set_values(f\"{pred_key}.detections\", samples_detections[i]) "
   ]
  },
  {
   "cell_type": "code",
   "execution_count": null,
   "metadata": {},
   "outputs": [],
   "source": [
    "pred_key = f\"{gt_field}_vru\"\n",
    "dataset.add_sample_field(\n",
    "                        pred_key,\n",
    "                        fo.EmbeddedDocumentField,\n",
    "                        embedded_doc_type=fo.Detections,\n",
    "                    )\n",
    "dataset.set_values(f\"{pred_key}.detections\", field_gt) "
   ]
  },
  {
   "cell_type": "code",
   "execution_count": null,
   "metadata": {},
   "outputs": [],
   "source": [
    "#Get fields of simplified VRU zero shot model predictions\n",
    "dataset.reload()\n",
    "dataset_schema = dataset.get_field_schema()\n",
    "eval_results = []\n",
    "for field in tqdm(dataset_schema):\n",
    "    if \"pred_\" in field and \"_vru\" in field:\n",
    "        print(field)\n",
    "        eval_key = field.replace(\"pred_\", \"eval_\")\n",
    "        eval_result = dataset.evaluate_detections(\n",
    "            field,\n",
    "            gt_field=\"ground_truth_vru\",\n",
    "            iou=0.1,\n",
    "            eval_key=eval_key,\n",
    "            compute_mAP=True,\n",
    "        )\n",
    "        eval_results.append(eval_result)"
   ]
  },
  {
   "cell_type": "code",
   "execution_count": null,
   "metadata": {},
   "outputs": [],
   "source": [
    "for field in tqdm(dataset_schema):\n",
    "    if \"pred_\" in field and \"_vru\" in field:\n",
    "        eval_key = field.replace(\"pred_\", \"eval_\")\n",
    "        print(eval_key)\n",
    "        print(\"TP: %d\" % dataset.sum(f\"{eval_key}_tp\"))\n",
    "        print(\"FP: %d\" % dataset.sum(f\"{eval_key}_fp\"))\n",
    "        print(\"FN: %d\" % dataset.sum(f\"{eval_key}_fn\"))"
   ]
  }
 ],
 "metadata": {
  "language_info": {
   "name": "python"
  }
 },
 "nbformat": 4,
 "nbformat_minor": 2
}
