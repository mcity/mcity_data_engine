{
 "cells": [
  {
   "cell_type": "code",
   "execution_count": 1,
   "metadata": {},
   "outputs": [
    {
     "name": "stdout",
     "output_type": "stream",
     "text": [
      " 100% |███████████████| 2000/2000 [4.3s elapsed, 0s remaining, 559.5 samples/s]      \n"
     ]
    },
    {
     "name": "stderr",
     "output_type": "stream",
     "text": [
      "INFO:eta.core.utils: 100% |███████████████| 2000/2000 [4.3s elapsed, 0s remaining, 559.5 samples/s]      \n"
     ]
    },
    {
     "name": "stdout",
     "output_type": "stream",
     "text": [
      " 100% |█████████████████| 744/744 [1.8s elapsed, 0s remaining, 414.1 samples/s]      \n"
     ]
    },
    {
     "name": "stderr",
     "output_type": "stream",
     "text": [
      "INFO:eta.core.utils: 100% |█████████████████| 744/744 [1.8s elapsed, 0s remaining, 414.1 samples/s]      \n"
     ]
    },
    {
     "name": "stdout",
     "output_type": "stream",
     "text": [
      "Computing metadata...\n"
     ]
    },
    {
     "name": "stderr",
     "output_type": "stream",
     "text": [
      "INFO:fiftyone.core.metadata:Computing metadata...\n"
     ]
    },
    {
     "name": "stdout",
     "output_type": "stream",
     "text": [
      " 100% |███████████████| 2744/2744 [365.9ms elapsed, 0s remaining, 7.5K samples/s]      \n"
     ]
    },
    {
     "name": "stderr",
     "output_type": "stream",
     "text": [
      "INFO:eta.core.utils: 100% |███████████████| 2744/2744 [365.9ms elapsed, 0s remaining, 7.5K samples/s]      \n",
      "Deriving metadata from filenames: 100%|██████████| 2744/2744 [00:04<00:00, 640.81it/s]\n"
     ]
    }
   ],
   "source": [
    "# Import YOLO dataset\n",
    "%load_ext autoreload\n",
    "%autoreload 2\n",
    "\n",
    "import sys\n",
    "import os\n",
    "import os.path\n",
    "import fiftyone as fo\n",
    "\n",
    "sys.path.append(\"..\")\n",
    "\n",
    "from utils.dataset_loader import *\n",
    "\n",
    "# Load dataset\n",
    "SELECTED_DATASET = \"mcity_fisheye_2000\"\n",
    "dataset_info = load_dataset_info(\n",
    "    SELECTED_DATASET,\n",
    "    config_path=\"/home/dbogdoll/mcity_data_engine/config/datasets.yaml\",\n",
    ")\n",
    "loader_function = dataset_info.get(\"loader_fct\")\n",
    "dataset = globals()[loader_function](dataset_info)\n",
    "dataset.persistent = False"
   ]
  },
  {
   "cell_type": "code",
   "execution_count": 2,
   "metadata": {},
   "outputs": [
    {
     "name": "stdout",
     "output_type": "stream",
     "text": [
      "Directory '/media/dbogdoll/Datasets/test_fiftyone_dataset' already exists; export will be merged with existing files\n"
     ]
    },
    {
     "name": "stderr",
     "output_type": "stream",
     "text": [
      "WARNING:fiftyone.core.collections:Directory '/media/dbogdoll/Datasets/test_fiftyone_dataset' already exists; export will be merged with existing files\n"
     ]
    },
    {
     "name": "stdout",
     "output_type": "stream",
     "text": [
      "Exporting samples...\n"
     ]
    },
    {
     "name": "stderr",
     "output_type": "stream",
     "text": [
      "INFO:fiftyone.utils.data.exporters:Exporting samples...\n"
     ]
    },
    {
     "name": "stdout",
     "output_type": "stream",
     "text": [
      " 100% |██████████████████| 2744/2744 [3.5s elapsed, 0s remaining, 713.3 docs/s]      \n"
     ]
    },
    {
     "name": "stderr",
     "output_type": "stream",
     "text": [
      "INFO:eta.core.utils: 100% |██████████████████| 2744/2744 [3.5s elapsed, 0s remaining, 713.3 docs/s]      \n"
     ]
    }
   ],
   "source": [
    "# Export as Fiftyone dataset\n",
    "dataset.export(\n",
    "    export_dir=\"/media/dbogdoll/Datasets/test_fiftyone_dataset\",\n",
    "    dataset_type=fo.types.FiftyOneDataset,\n",
    ")"
   ]
  },
  {
   "cell_type": "code",
   "execution_count": 3,
   "metadata": {},
   "outputs": [
    {
     "name": "stdout",
     "output_type": "stream",
     "text": [
      "Importing samples...\n"
     ]
    },
    {
     "name": "stderr",
     "output_type": "stream",
     "text": [
      "INFO:fiftyone.utils.data.importers:Importing samples...\n"
     ]
    },
    {
     "name": "stdout",
     "output_type": "stream",
     "text": [
      " 100% |███████████████| 2744/2744 [51.8ms elapsed, 0s remaining, 53.0K samples/s]   \n"
     ]
    },
    {
     "name": "stderr",
     "output_type": "stream",
     "text": [
      "INFO:eta.core.utils: 100% |███████████████| 2744/2744 [51.8ms elapsed, 0s remaining, 53.0K samples/s]   \n"
     ]
    }
   ],
   "source": [
    "# Import again\n",
    "dataset = fo.Dataset.from_dir(\n",
    "        dataset_dir=\"/media/dbogdoll/Datasets/test_fiftyone_dataset\",\n",
    "        dataset_type=fo.types.FiftyOneDataset,\n",
    "        name=\"fiftyone-import-test\",\n",
    "    )"
   ]
  }
 ],
 "metadata": {
  "kernelspec": {
   "display_name": ".venv",
   "language": "python",
   "name": "python3"
  },
  "language_info": {
   "codemirror_mode": {
    "name": "ipython",
    "version": 3
   },
   "file_extension": ".py",
   "mimetype": "text/x-python",
   "name": "python",
   "nbconvert_exporter": "python",
   "pygments_lexer": "ipython3",
   "version": "3.12.3"
  }
 },
 "nbformat": 4,
 "nbformat_minor": 2
}
