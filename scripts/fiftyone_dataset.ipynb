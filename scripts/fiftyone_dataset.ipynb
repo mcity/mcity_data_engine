{
 "cells": [
  {
   "cell_type": "code",
   "execution_count": null,
   "metadata": {},
   "outputs": [],
   "source": [
    "# Import YOLO dataset\n",
    "%load_ext autoreload\n",
    "%autoreload 2\n",
    "\n",
    "import sys\n",
    "import os\n",
    "import os.path\n",
    "import fiftyone as fo\n",
    "\n",
    "sys.path.append(\"..\")\n",
    "\n",
    "from utils.dataset_loader import *\n",
    "\n",
    "# Load dataset\n",
    "SELECTED_DATASET = \"mcity_fisheye_2000\"\n",
    "dataset_info = load_dataset_info(\n",
    "    SELECTED_DATASET,\n",
    "    config_path=\"/home/dbogdoll/mcity_data_engine/config/datasets.yaml\",\n",
    ")\n",
    "loader_function = dataset_info.get(\"loader_fct\")\n",
    "dataset = globals()[loader_function](dataset_info)\n",
    "dataset.persistent = False"
   ]
  },
  {
   "cell_type": "code",
   "execution_count": null,
   "metadata": {},
   "outputs": [],
   "source": [
    "# Export as Fiftyone dataset\n",
    "dataset.export(\n",
    "    export_dir=\"/media/dbogdoll/Datasets/test_fiftyone_dataset\",\n",
    "    dataset_type=fo.types.FiftyOneDataset,\n",
    ")"
   ]
  },
  {
   "cell_type": "code",
   "execution_count": null,
   "metadata": {},
   "outputs": [],
   "source": [
    "# Import again\n",
    "dataset = fo.Dataset.from_dir(\n",
    "        dataset_dir=\"/media/dbogdoll/Datasets/test_fiftyone_dataset\",\n",
    "        dataset_type=fo.types.FiftyOneDataset,\n",
    "        name=\"fiftyone-import-test\",\n",
    "    )"
   ]
  }
 ],
 "metadata": {
  "language_info": {
   "name": "python"
  }
 },
 "nbformat": 4,
 "nbformat_minor": 2
}
