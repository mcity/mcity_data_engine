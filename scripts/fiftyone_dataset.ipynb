{
 "cells": [
  {
   "cell_type": "code",
   "execution_count": 2,
   "metadata": {},
   "outputs": [
    {
     "name": "stdout",
     "output_type": "stream",
     "text": [
      "The autoreload extension is already loaded. To reload it, use:\n",
      "  %reload_ext autoreload\n",
      " 100% |███████████████| 2000/2000 [4.8s elapsed, 0s remaining, 514.7 samples/s]      \n"
     ]
    },
    {
     "name": "stderr",
     "output_type": "stream",
     "text": [
      "INFO:eta.core.utils: 100% |███████████████| 2000/2000 [4.8s elapsed, 0s remaining, 514.7 samples/s]      \n"
     ]
    },
    {
     "name": "stdout",
     "output_type": "stream",
     "text": [
      " 100% |█████████████████| 744/744 [2.0s elapsed, 0s remaining, 375.6 samples/s]      \n"
     ]
    },
    {
     "name": "stderr",
     "output_type": "stream",
     "text": [
      "INFO:eta.core.utils: 100% |█████████████████| 744/744 [2.0s elapsed, 0s remaining, 375.6 samples/s]      \n"
     ]
    },
    {
     "name": "stdout",
     "output_type": "stream",
     "text": [
      "Computing metadata...\n"
     ]
    },
    {
     "name": "stderr",
     "output_type": "stream",
     "text": [
      "INFO:fiftyone.core.metadata:Computing metadata...\n"
     ]
    },
    {
     "name": "stdout",
     "output_type": "stream",
     "text": [
      " 100% |███████████████| 2744/2744 [326.4ms elapsed, 0s remaining, 8.4K samples/s]      \n"
     ]
    },
    {
     "name": "stderr",
     "output_type": "stream",
     "text": [
      "INFO:eta.core.utils: 100% |███████████████| 2744/2744 [326.4ms elapsed, 0s remaining, 8.4K samples/s]      \n",
      "Deriving metadata from filenames: 100%|██████████| 2744/2744 [00:04<00:00, 584.32it/s]\n"
     ]
    }
   ],
   "source": [
    "# Import YOLO dataset\n",
    "%load_ext autoreload\n",
    "%autoreload 2\n",
    "\n",
    "import sys\n",
    "import os\n",
    "import os.path\n",
    "import fiftyone as fo\n",
    "\n",
    "sys.path.append(\"..\")\n",
    "\n",
    "from utils.dataset_loader import *\n",
    "\n",
    "# Load dataset\n",
    "SELECTED_DATASET = \"mcity_fisheye_2000\"\n",
    "dataset_info = load_dataset_info(\n",
    "    SELECTED_DATASET,\n",
    "    config_path=\"/home/dbogdoll/mcity_data_engine/config/datasets.yaml\",\n",
    ")\n",
    "loader_function = dataset_info.get(\"loader_fct\")\n",
    "dataset = globals()[loader_function](dataset_info)\n",
    "dataset.persistent = False"
   ]
  },
  {
   "cell_type": "code",
   "execution_count": 3,
   "metadata": {},
   "outputs": [
    {
     "name": "stdout",
     "output_type": "stream",
     "text": [
      "Directory '/media/dbogdoll/Datasets/test_fiftyone_dataset' already exists; export will be merged with existing files\n"
     ]
    },
    {
     "name": "stderr",
     "output_type": "stream",
     "text": [
      "WARNING:fiftyone.core.collections:Directory '/media/dbogdoll/Datasets/test_fiftyone_dataset' already exists; export will be merged with existing files\n"
     ]
    },
    {
     "name": "stdout",
     "output_type": "stream",
     "text": [
      "Exporting samples...\n"
     ]
    },
    {
     "name": "stderr",
     "output_type": "stream",
     "text": [
      "INFO:fiftyone.utils.data.exporters:Exporting samples...\n"
     ]
    },
    {
     "name": "stdout",
     "output_type": "stream",
     "text": [
      " 100% |██████████████████| 2744/2744 [2.4s elapsed, 0s remaining, 1.1K docs/s]       \n"
     ]
    },
    {
     "name": "stderr",
     "output_type": "stream",
     "text": [
      "INFO:eta.core.utils: 100% |██████████████████| 2744/2744 [2.4s elapsed, 0s remaining, 1.1K docs/s]       \n"
     ]
    }
   ],
   "source": [
    "# Export as Fiftyone dataset\n",
    "dataset.export(\n",
    "    export_dir=\"/media/dbogdoll/Datasets/test_fiftyone_dataset\",\n",
    "    dataset_type=fo.types.FiftyOneDataset,\n",
    ")"
   ]
  }
 ],
 "metadata": {
  "kernelspec": {
   "display_name": ".venv",
   "language": "python",
   "name": "python3"
  },
  "language_info": {
   "codemirror_mode": {
    "name": "ipython",
    "version": 3
   },
   "file_extension": ".py",
   "mimetype": "text/x-python",
   "name": "python",
   "nbconvert_exporter": "python",
   "pygments_lexer": "ipython3",
   "version": "3.12.3"
  }
 },
 "nbformat": 4,
 "nbformat_minor": 2
}
