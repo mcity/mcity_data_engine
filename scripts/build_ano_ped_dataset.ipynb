{
 "cells": [
  {
   "cell_type": "markdown",
   "metadata": {},
   "source": [
    "This script takes the Mcity **midadvrb_2000** dataset and creates new splits:\n",
    "\n",
    "- The train split does not include any pedestrians.\n",
    "- The val split includes only frames with pedestrians\n",
    "\n",
    "With the new **midadvrb_ano_ped** dataset we can learn a normality without pedestrians and treat them as outliers during validation. This way we might be able to detect new images with pedestrians."
   ]
  },
  {
   "cell_type": "code",
   "execution_count": null,
   "metadata": {},
   "outputs": [],
   "source": [
    "%load_ext autoreload\n",
    "%autoreload 2\n",
    "\n",
    "import sys\n",
    "import os.path\n",
    "\n",
    "sys.path.append(\"..\")\n",
    "\n",
    "from config import SELECTED_DATASET\n",
    "from data_loader.data_loader import *\n",
    "\n",
    "import fiftyone as fo\n",
    "\n",
    "from utils.selector import select_by_class"
   ]
  },
  {
   "cell_type": "code",
   "execution_count": null,
   "metadata": {},
   "outputs": [],
   "source": [
    "dataset_info = load_dataset_info(\n",
    "    SELECTED_DATASET,\n",
    "    config_path=\"/home/dbogdoll/mcity_data_engine/datasets/datasets.yaml\",\n",
    ")\n",
    "loader_function = dataset_info.get(\"loader_fct\")\n",
    "dataset = globals()[loader_function](dataset_info)\n",
    "dataset.persistent = False"
   ]
  },
  {
   "cell_type": "code",
   "execution_count": null,
   "metadata": {},
   "outputs": [],
   "source": [
    "view_train = select_by_class(\n",
    "    dataset, classes_in=[], classes_out=[\"pedestrian\"]\n",
    ")  # Build training dataset (no pedestrians)\n",
    "\n",
    "view_val = select_by_class(\n",
    "    dataset, classes_in=[\"pedestrian\"], classes_out=[]\n",
    ")  # Build validation dataset (1-n pedestrians in each frame)"
   ]
  },
  {
   "cell_type": "code",
   "execution_count": null,
   "metadata": {},
   "outputs": [],
   "source": [
    "# https://github.com/voxel51/fiftyone/issues/1952\n",
    "\n",
    "export_dir = \"/home/dbogdoll/mcity_data_engine/datasets/midadvrb_ano_ped\"\n",
    "label_field = \"ground_truth\"\n",
    "\n",
    "classes = dataset.distinct(\n",
    "    \"ground_truth.detections.label\"\n",
    ")  # Sorted list of all observed labels in a given field\n",
    "\n",
    "view_train.export(\n",
    "    export_dir=export_dir,\n",
    "    dataset_type=fo.types.YOLOv5Dataset,\n",
    "    label_field=label_field,\n",
    "    split=\"train\",\n",
    "    classes=classes,\n",
    ")\n",
    "\n",
    "view_val.export(\n",
    "    export_dir=export_dir,\n",
    "    dataset_type=fo.types.YOLOv5Dataset,\n",
    "    label_field=label_field,\n",
    "    split=\"val\",\n",
    "    classes=classes,\n",
    ")"
   ]
  },
  {
   "cell_type": "code",
   "execution_count": null,
   "metadata": {},
   "outputs": [],
   "source": [
    "session = fo.launch_app(dataset, view=view_train)\n",
    "session.wait(-1)"
   ]
  }
 ],
 "metadata": {
  "kernelspec": {
   "display_name": ".venv",
   "language": "python",
   "name": "python3"
  },
  "language_info": {
   "codemirror_mode": {
    "name": "ipython",
    "version": 3
   },
   "file_extension": ".py",
   "mimetype": "text/x-python",
   "name": "python",
   "nbconvert_exporter": "python",
   "pygments_lexer": "ipython3",
   "version": "3.12.3"
  }
 },
 "nbformat": 4,
 "nbformat_minor": 2
}
