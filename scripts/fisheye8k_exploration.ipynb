{
 "cells": [
  {
   "cell_type": "markdown",
   "metadata": {},
   "source": [
    "This notebook prepares the Fisheye 8k dataset to be used with Voxel51."
   ]
  },
  {
   "cell_type": "code",
   "execution_count": null,
   "metadata": {},
   "outputs": [],
   "source": [
    "import fiftyone as fo\n",
    "import fiftyone.zoo as foz\n",
    "import os\n",
    "import sys\n",
    "\n",
    "sys.path.append(\"..\")\n",
    "\n",
    "from config.config import NUM_WORKERS"
   ]
  },
  {
   "cell_type": "code",
   "execution_count": null,
   "metadata": {},
   "outputs": [],
   "source": [
    "dataset_dir_root = \"/media/dbogdoll/Datasets/fisheye_8k/\"\n",
    "dataset_type = fo.types.COCODetectionDataset\n",
    "dataset_name = \"fisheye_8k\"\n",
    "\n",
    "try:\n",
    "    dataset = fo.Dataset(dataset_name)\n",
    "    dataset.add_dir(\n",
    "        data_path=os.path.join(dataset_dir_root, \"train/images\"),\n",
    "        labels_path=os.path.join(dataset_dir_root, \"train/train.json\"),\n",
    "        dataset_type=dataset_type,\n",
    "        tags=\"train\",\n",
    "    )\n",
    "\n",
    "    dataset.add_dir(\n",
    "        dataset_dir=os.path.join(dataset_dir_root, \"test/images\"),\n",
    "        labels_path=os.path.join(dataset_dir_root, \"test/test.json\"),\n",
    "        dataset_type=dataset_type,\n",
    "        tags=\"test\",\n",
    "    )\n",
    "\n",
    "    dataset.compute_metadata(num_workers=NUM_WORKERS)\n",
    "    print(dataset)\n",
    "except Exception as e:\n",
    "    print(e)\n",
    "    dataset = fo.load_dataset(dataset_name)\n",
    "\n",
    "session = fo.launch_app(dataset)"
   ]
  },
  {
   "cell_type": "code",
   "execution_count": null,
   "metadata": {},
   "outputs": [],
   "source": []
  }
 ],
 "metadata": {
  "language_info": {
   "name": "python"
  }
 },
 "nbformat": 4,
 "nbformat_minor": 2
}
