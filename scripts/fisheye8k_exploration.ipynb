{
 "cells": [
  {
   "cell_type": "markdown",
   "metadata": {},
   "source": [
    "This notebook prepares the Fisheye 8k dataset to be used with Voxel51."
   ]
  },
  {
   "cell_type": "code",
   "execution_count": 1,
   "metadata": {},
   "outputs": [],
   "source": [
    "import fiftyone as fo\n",
    "import fiftyone.zoo as foz\n",
    "import os\n",
    "import sys\n",
    "\n",
    "sys.path.append(\"..\")\n",
    "\n",
    "from config.config import NUM_WORKERS"
   ]
  },
  {
   "cell_type": "code",
   "execution_count": 4,
   "metadata": {},
   "outputs": [
    {
     "name": "stdout",
     "output_type": "stream",
     "text": [
      "Dataset name 'fisheye_8k' is not available\n"
     ]
    },
    {
     "data": {
      "text/html": [
       "\n",
       "        <iframe\n",
       "            width=\"100%\"\n",
       "            height=\"800\"\n",
       "            src=\"http://localhost:5151/?notebook=True&subscription=0a359e29-c979-471e-9e98-62ed989cdd00\"\n",
       "            frameborder=\"0\"\n",
       "            allowfullscreen\n",
       "            \n",
       "        ></iframe>\n",
       "        "
      ],
      "text/plain": [
       "<IPython.lib.display.IFrame at 0x78fe88d004a0>"
      ]
     },
     "metadata": {},
     "output_type": "display_data"
    }
   ],
   "source": [
    "dataset_dir_root = \"/media/dbogdoll/Datasets/fisheye_8k/\"\n",
    "dataset_type = fo.types.COCODetectionDataset\n",
    "dataset_name = \"fisheye_8k\"\n",
    "\n",
    "try:\n",
    "    dataset = fo.Dataset(dataset_name)\n",
    "    dataset.add_dir(\n",
    "        data_path=os.path.join(dataset_dir_root, \"train/images\"),\n",
    "        labels_path=os.path.join(dataset_dir_root, \"train/train.json\"),\n",
    "        dataset_type=dataset_type,\n",
    "        tags=\"train\",\n",
    "    )\n",
    "\n",
    "    dataset.add_dir(\n",
    "        dataset_dir=os.path.join(dataset_dir_root, \"test/images\"),\n",
    "        labels_path=os.path.join(dataset_dir_root, \"test/test.json\"),\n",
    "        dataset_type=dataset_type,\n",
    "        tags=\"test\",\n",
    "    )\n",
    "\n",
    "    dataset.compute_metadata(num_workers=NUM_WORKERS)\n",
    "    print(dataset)\n",
    "except Exception as e:\n",
    "    print(e)\n",
    "    dataset = fo.load_dataset(dataset_name)\n",
    "\n",
    "session = fo.launch_app(dataset)"
   ]
  },
  {
   "cell_type": "code",
   "execution_count": null,
   "metadata": {},
   "outputs": [],
   "source": []
  }
 ],
 "metadata": {
  "kernelspec": {
   "display_name": ".venv",
   "language": "python",
   "name": "python3"
  },
  "language_info": {
   "codemirror_mode": {
    "name": "ipython",
    "version": 3
   },
   "file_extension": ".py",
   "mimetype": "text/x-python",
   "name": "python",
   "nbconvert_exporter": "python",
   "pygments_lexer": "ipython3",
   "version": "3.12.3"
  }
 },
 "nbformat": 4,
 "nbformat_minor": 2
}
