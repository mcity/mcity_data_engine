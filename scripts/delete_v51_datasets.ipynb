{
 "cells": [
  {
   "cell_type": "code",
   "execution_count": 2,
   "metadata": {},
   "outputs": [
    {
     "name": "stdout",
     "output_type": "stream",
     "text": [
      "2024.10.16.15.41.31\n",
      "2024.10.16.15.43.22\n",
      "2024.10.16.15.43.22.240110\n",
      "2024.10.16.15.43.22.261975\n",
      "2024.10.16.15.43.41\n",
      "2024.10.16.15.43.41.296769\n",
      "2024.10.16.15.43.41.314353\n",
      "2024.10.16.15.44.31\n",
      "2024.10.16.15.44.31.681007\n",
      "2024.10.16.15.44.31.696793\n",
      "dbogdollumich/mcity_fisheye_v51\n",
      "fisheye_8k\n",
      "mcity_fisheye_2000\n"
     ]
    }
   ],
   "source": [
    "import fiftyone as fo\n",
    "\n",
    "for dataset_name in fo.list_datasets():\n",
    "    print(dataset_name)"
   ]
  },
  {
   "cell_type": "code",
   "execution_count": 3,
   "metadata": {},
   "outputs": [
    {
     "name": "stdout",
     "output_type": "stream",
     "text": [
      "mcity_fisheye_2000\n"
     ]
    }
   ],
   "source": [
    "to_be_kept = {\"mcity_fisheye_2000\"}\n",
    "for dataset_name in fo.list_datasets():\n",
    "    if dataset_name not in to_be_kept:\n",
    "        fo.delete_dataset(dataset_name)\n",
    "\n",
    "for dataset_name in fo.list_datasets():\n",
    "    print(dataset_name)"
   ]
  }
 ],
 "metadata": {
  "kernelspec": {
   "display_name": ".venv",
   "language": "python",
   "name": "python3"
  },
  "language_info": {
   "codemirror_mode": {
    "name": "ipython",
    "version": 3
   },
   "file_extension": ".py",
   "mimetype": "text/x-python",
   "name": "python",
   "nbconvert_exporter": "python",
   "pygments_lexer": "ipython3",
   "version": "3.12.3"
  }
 },
 "nbformat": 4,
 "nbformat_minor": 2
}
