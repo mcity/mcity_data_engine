{
 "cells": [
  {
   "cell_type": "code",
   "execution_count": 1,
   "metadata": {},
   "outputs": [
    {
     "name": "stdout",
     "output_type": "stream",
     "text": [
      "Data Engine Rolling 20231119_to_20231125\n",
      "Data Engine Rolling Dataset\n",
      "data_engine_rolling_2023-11-19_to_2023-11-25\n",
      "fiftyone-import-test\n",
      "mcity_fisheye_2000\n",
      "mcity_fisheye_3_months\n"
     ]
    }
   ],
   "source": [
    "import fiftyone as fo\n",
    "\n",
    "for dataset_name in fo.list_datasets():\n",
    "    print(dataset_name)"
   ]
  },
  {
   "cell_type": "code",
   "execution_count": 2,
   "metadata": {},
   "outputs": [
    {
     "name": "stdout",
     "output_type": "stream",
     "text": [
      "mcity_fisheye_3_months\n"
     ]
    }
   ],
   "source": [
    "to_be_kept = {\"mcity_fisheye_3_months\"}\n",
    "for dataset_name in fo.list_datasets():\n",
    "    if dataset_name not in to_be_kept:\n",
    "        fo.delete_dataset(dataset_name)\n",
    "\n",
    "for dataset_name in fo.list_datasets():\n",
    "    print(dataset_name)"
   ]
  }
 ],
 "metadata": {
  "kernelspec": {
   "display_name": ".venv",
   "language": "python",
   "name": "python3"
  },
  "language_info": {
   "codemirror_mode": {
    "name": "ipython",
    "version": 3
   },
   "file_extension": ".py",
   "mimetype": "text/x-python",
   "name": "python",
   "nbconvert_exporter": "python",
   "pygments_lexer": "ipython3",
   "version": "3.12.3"
  }
 },
 "nbformat": 4,
 "nbformat_minor": 2
}
