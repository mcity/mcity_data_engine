{
 "cells": [
  {
   "cell_type": "code",
   "execution_count": null,
   "metadata": {},
   "outputs": [],
   "source": [
    "import fiftyone as fo\n",
    "\n",
    "for dataset_name in fo.list_datasets():\n",
    "    print(dataset_name)"
   ]
  },
  {
   "cell_type": "code",
   "execution_count": null,
   "metadata": {},
   "outputs": [],
   "source": [
    "to_be_kept = {\"mcity_fisheye_2000\", \"mcity_fisheye_3_months\", \"v51_dcaic\"}\n",
    "for dataset_name in fo.list_datasets():\n",
    "    if dataset_name not in to_be_kept:\n",
    "        fo.delete_dataset(dataset_name)\n",
    "\n",
    "for dataset_name in fo.list_datasets():\n",
    "    print(dataset_name)"
   ]
  }
 ],
 "metadata": {
  "kernelspec": {
   "display_name": ".venv",
   "language": "python",
   "name": "python3"
  },
  "language_info": {
   "codemirror_mode": {
    "name": "ipython",
    "version": 3
   },
   "file_extension": ".py",
   "mimetype": "text/x-python",
   "name": "python",
   "nbconvert_exporter": "python",
   "pygments_lexer": "ipython3",
   "version": "3.12.3"
  }
 },
 "nbformat": 4,
 "nbformat_minor": 2
}
