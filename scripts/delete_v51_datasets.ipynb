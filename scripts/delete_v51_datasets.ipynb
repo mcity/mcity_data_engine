{
 "cells": [
  {
   "cell_type": "code",
   "execution_count": null,
   "metadata": {},
   "outputs": [],
   "source": [
    "import fiftyone as fo\n",
    "\n",
    "for dataset_name in fo.list_datasets():\n",
    "    print(dataset_name)"
   ]
  },
  {
   "cell_type": "code",
   "execution_count": null,
   "metadata": {},
   "outputs": [],
   "source": [
    "to_be_kept = {\"mcity_fisheye_3_months\"}\n",
    "for dataset_name in fo.list_datasets():\n",
    "    if dataset_name not in to_be_kept:\n",
    "        fo.delete_dataset(dataset_name)\n",
    "\n",
    "for dataset_name in fo.list_datasets():\n",
    "    print(dataset_name)"
   ]
  }
 ],
 "metadata": {
  "language_info": {
   "name": "python"
  }
 },
 "nbformat": 4,
 "nbformat_minor": 2
}
