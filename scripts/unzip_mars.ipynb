{
 "cells": [
  {
   "cell_type": "markdown",
   "metadata": {},
   "source": [
    "This script unzips a downloaded [MARS](https://huggingface.co/datasets/ai4ce/MARS) dataset."
   ]
  },
  {
   "cell_type": "code",
   "execution_count": null,
   "metadata": {},
   "outputs": [],
   "source": [
    "root_path = \"/media/dbogdoll/Datasets/MARS/\"\n",
    "multitraversal_name = \"Multitraversal_2023_10_04-2024_03_08\"\n",
    "multiagent_name = \"Multiagent_53scene\""
   ]
  },
  {
   "cell_type": "code",
   "execution_count": null,
   "metadata": {},
   "outputs": [],
   "source": [
    "import os\n",
    "\n",
    "multiagent_path = os.path.join(root_path, multiagent_name)\n",
    "multitraversal_path = os.path.join(root_path, multitraversal_name)"
   ]
  },
  {
   "cell_type": "markdown",
   "metadata": {},
   "source": []
  }
 ],
 "metadata": {
  "language_info": {
   "name": "python"
  }
 },
 "nbformat": 4,
 "nbformat_minor": 2
}
