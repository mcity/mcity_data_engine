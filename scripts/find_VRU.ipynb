{
 "cells": [
  {
   "cell_type": "code",
   "execution_count": 2,
   "metadata": {},
   "outputs": [],
   "source": [
    "import fiftyone as fo\n",
    "from fiftyone import ViewField as F\n",
    "from tqdm import tqdm\n",
    "import numpy as np"
   ]
  },
  {
   "cell_type": "code",
   "execution_count": 3,
   "metadata": {},
   "outputs": [],
   "source": [
    "dataset_name = \"mcity_fisheye_3_months\"\n",
    "dataset = fo.load_dataset(dataset_name)\n",
    "\n",
    "vru_labels = [\"skater\",\n",
    "                \"child\",\n",
    "                \"bicycle\",\n",
    "                \"bicyclist\",\n",
    "                \"cyclist\",\n",
    "                \"bike\",\n",
    "                \"rider\",\n",
    "                \"motorcycle\",\n",
    "                \"motorcyclist\",\n",
    "                \"pedestrian\",\n",
    "                \"person\",\n",
    "                \"walker\",\n",
    "                \"jogger\",\n",
    "                \"runner\",\n",
    "                \"skateboarder\",\n",
    "                \"scooter\",\n",
    "                \"delivery driver\"]\n",
    "\n",
    "vehicle_labels = [\"vehicle\",\n",
    "                \"car\",\n",
    "                \"bus\",\n",
    "                \"truck\",\n",
    "                \"taxi\",\n",
    "                \"van\",\n",
    "                \"pickup truck\",\n",
    "                \"trailer\",\n",
    "                \"emergency vehicle\",]"
   ]
  },
  {
   "cell_type": "code",
   "execution_count": 4,
   "metadata": {},
   "outputs": [],
   "source": [
    "#Get fields of zero shot model predictions\n",
    "pred_fields = []\n",
    "dataset_schema = dataset.get_field_schema()\n",
    "for field in dataset_schema:\n",
    "    if \"pred_\" in field:\n",
    "        pred_fields.append(field)\n",
    "\n",
    "conditions = [\n",
    "    (F(f\"{field}\") != None) &          # Field exists\n",
    "    (F(f\"{field}.detections\") != []) &  # Field has detections\n",
    "    F(f\"{field}.detections.label\").contains(vru_labels)  # Detections include \"cat\" or \"dog\"\n",
    "    for field in pred_fields\n",
    "]\n",
    "\n",
    "view = dataset.match(F.any(conditions))"
   ]
  },
  {
   "cell_type": "code",
   "execution_count": 5,
   "metadata": {},
   "outputs": [
    {
     "name": "stderr",
     "output_type": "stream",
     "text": [
      "generating view: 100%|██████████| 10/10 [00:00<00:00, 148.76it/s]\n"
     ]
    }
   ],
   "source": [
    "for field in tqdm(pred_fields, desc=\"generating view\"):\n",
    "    view = view.filter_labels(f\"{field}.detections\",F(\"label\").is_in(vru_labels), only_matches=False)\n",
    "n_samples = len(view)"
   ]
  },
  {
   "cell_type": "code",
   "execution_count": 6,
   "metadata": {},
   "outputs": [
    {
     "name": "stderr",
     "output_type": "stream",
     "text": [
      "Getting detection values: 100%|██████████| 10/10 [01:26<00:00,  8.65s/it]\n"
     ]
    }
   ],
   "source": [
    "samples_detections = [] # List of lists of list [model][sample][detections]\n",
    "for field in tqdm(pred_fields, desc = \"Getting detection values\"):\n",
    "    field_detections = view.values(f\"{field}.detections\")  # list of lists of detections per sample\n",
    "    samples_detections.append(field_detections)"
   ]
  },
  {
   "cell_type": "code",
   "execution_count": 95,
   "metadata": {},
   "outputs": [
    {
     "name": "stderr",
     "output_type": "stream",
     "text": [
      "100%|██████████| 49298/49298 [00:01<00:00, 24868.79it/s]\n"
     ]
    }
   ],
   "source": [
    "# Cleanup previous runs\n",
    "v51_tag = \"vru_overlap\"\n",
    "\n",
    "for i in tqdm(range(n_samples)):\n",
    "    for j in range(len(pred_fields)):\n",
    "        detections = samples_detections[j][i]\n",
    "        for k in range(len(detections)):\n",
    "            if len(samples_detections[j][i][k].tags) > 0:\n",
    "                print(samples_detections[j][i][k].tags)\n",
    "            try:\n",
    "                samples_detections[j][i][k].tags.remove(v51_tag)\n",
    "            except:\n",
    "                pass       "
   ]
  },
  {
   "cell_type": "code",
   "execution_count": 53,
   "metadata": {},
   "outputs": [],
   "source": [
    "def calculate_iou(box1, box2):\n",
    "    # box format: [minx, miny, width, height] normalized between [0,1]\n",
    "    x1_min, y1_min, w1, h1 = box1\n",
    "    x2_min, y2_min, w2, h2 = box2\n",
    "    x1_max, y1_max = x1_min + w1, y1_min + h1\n",
    "    x2_max, y2_max = x2_min + w2, y2_min + h2\n",
    "\n",
    "    # Calculate the intersection box\n",
    "    inter_x_min = max(x1_min, x2_min)\n",
    "    inter_y_min = max(y1_min, y2_min)\n",
    "    inter_x_max = min(x1_max, x2_max)\n",
    "    inter_y_max = min(y1_max, y2_max)\n",
    "\n",
    "    if inter_x_min < inter_x_max and inter_y_min < inter_y_max:\n",
    "        inter_area = (inter_x_max - inter_x_min) * (inter_y_max - inter_y_min)\n",
    "    else:\n",
    "        inter_area = 0\n",
    "\n",
    "    box1_area = w1 * h1\n",
    "    box2_area = w2 * h2\n",
    "    union_area = box1_area + box2_area - inter_area\n",
    "\n",
    "    return inter_area / union_area if union_area > 0 else 0"
   ]
  },
  {
   "cell_type": "code",
   "execution_count": null,
   "metadata": {},
   "outputs": [
    {
     "name": "stderr",
     "output_type": "stream",
     "text": [
      "100%|██████████| 49298/49298 [00:15<00:00, 3286.14it/s]"
     ]
    },
    {
     "name": "stdout",
     "output_type": "stream",
     "text": [
      "Found 171349 detections with 3 or more overlapping detections in 20424 samples\n"
     ]
    },
    {
     "name": "stderr",
     "output_type": "stream",
     "text": [
      "\n"
     ]
    }
   ],
   "source": [
    "agreement_threshold = 3\n",
    "iou_threshold = 0.5\n",
    "\n",
    "max_detections_per_model = max(len(detections) for model_detections in samples_detections for detections in model_detections)\n",
    "\n",
    "v51_tag = \"vru_overlap\"\n",
    "n_bboxes_agreed = 0\n",
    "n_samples_agreed = 0\n",
    "\n",
    "debug_filepath = \"/media/dbogdoll/Datasets/midadvrb_3_months/images/train/gs_Geddes_Huron1_2023-09-02 09-29-50-665323.jpg\"\n",
    "\n",
    "for sample_index in tqdm(range(n_samples)):  # For each sample\n",
    "\n",
    "    agreement_found = False\n",
    "    all_bboxes = []                 # List of all bounding box detections per sample\n",
    "    bbox_model_indices = []         # Track which model each bounding box belongs to\n",
    "    bbox_detection_indices = []     # Track the index of each detection in the model's list\n",
    "\n",
    "    for model_index, model_detections in enumerate(samples_detections):\n",
    "        for detection_index, det in enumerate(model_detections[sample_index]):\n",
    "            all_bboxes.append(det.bounding_box)\n",
    "            bbox_model_indices.append(model_index)\n",
    "            bbox_detection_indices.append(detection_index)\n",
    "    n_bboxes = len(all_bboxes)\n",
    "    involved_models = [set()] * n_bboxes    # Track all models involved in successful overlaps\n",
    "\n",
    "    if n_bboxes == 0:\n",
    "        continue\n",
    "\n",
    "    # Calculate IoU for each pair of bounding boxes\n",
    "    iou_matrix = np.zeros((n_bboxes, n_bboxes))\n",
    "    involved_models_matrix = np.full((n_bboxes, n_bboxes), -1)\n",
    "    for a in range(n_bboxes):\n",
    "        for b in range(a + 1, n_bboxes):\n",
    "                iou = calculate_iou(all_bboxes[a], all_bboxes[b])\n",
    "                # Only compare detections of different models\n",
    "                if bbox_model_indices[a] != bbox_model_indices[b]:\n",
    "                    if iou > iou_threshold:\n",
    "                        iou_matrix[a, b] = 1\n",
    "                        iou_matrix[b, a] = 1\n",
    "                        involved_models_matrix[a, b] = bbox_model_indices[b]    # Store model index that was compared to\n",
    "                        involved_models_matrix[b, a] = bbox_model_indices[a]\n",
    "                        \n",
    "                        involved_models_matrix[a, a] = bbox_model_indices[a]    # Trick to also store the model itself, as the diagonal is not used (b = a+1, symmetry)\n",
    "                        involved_models_matrix[b, b] = bbox_model_indices[b]\n",
    "                    \n",
    "    # Get number of overlapping detections by summing up the rows\n",
    "    model_overlaps = iou_matrix.sum(axis=1)\n",
    "\n",
    "    # Get number of involved models by finding unique values in rows\n",
    "    # \"-1\" ist not an involved model\n",
    "    # As \"-1\" is present at all times, these cancel out regarding the count (if this is too slow)\n",
    "    involved_models = [np.unique(row) for row in involved_models_matrix]\n",
    "    for index in range(len(involved_models)):\n",
    "        involved_models[index] = involved_models[index][involved_models[index] != -1]\n",
    "\n",
    "    #Checking that all arrays have the same lengths\n",
    "    assert len(all_bboxes) == len(bbox_model_indices) == len(bbox_detection_indices) == len(involved_models) == len(model_overlaps), \"Array lengths should be identical\"\n",
    "\n",
    "    # Store detections that pass the agreement threshold\n",
    "    for overlaps_index, overlap in enumerate(model_overlaps):\n",
    "        if len(involved_models[overlaps_index]) >= agreement_threshold:\n",
    "            agreement_found = True\n",
    "            model_index = bbox_model_indices[overlaps_index]\n",
    "            det_index = bbox_detection_indices[overlaps_index]\n",
    "            if v51_tag not in samples_detections[model_index][sample_index][det_index].tags:\n",
    "                samples_detections[model_index][sample_index][det_index].tags.append(v51_tag)\n",
    "            n_bboxes_agreed += 1\n",
    "    \n",
    "    if agreement_found == True:\n",
    "        n_samples_agreed += 1\n",
    "\n",
    "print(f\"Found {n_bboxes_agreed} detections with {agreement_threshold} or more overlapping detections in {n_samples_agreed} samples\")"
   ]
  },
  {
   "cell_type": "code",
   "execution_count": 98,
   "metadata": {},
   "outputs": [
    {
     "name": "stderr",
     "output_type": "stream",
     "text": [
      "Saving results to dataset:   0%|          | 0/10 [00:00<?, ?it/s]"
     ]
    },
    {
     "name": "stderr",
     "output_type": "stream",
     "text": [
      "Saving results to dataset: 100%|██████████| 10/10 [01:18<00:00,  7.87s/it]\n"
     ]
    }
   ],
   "source": [
    "for field, field_detections in tqdm(zip(pred_fields,samples_detections), desc = \"Saving results to dataset\", total=len(pred_fields)):\n",
    "    view.set_values(field + \".detections\", field_detections) "
   ]
  }
 ],
 "metadata": {
  "kernelspec": {
   "display_name": ".venv",
   "language": "python",
   "name": "python3"
  },
  "language_info": {
   "codemirror_mode": {
    "name": "ipython",
    "version": 3
   },
   "file_extension": ".py",
   "mimetype": "text/x-python",
   "name": "python",
   "nbconvert_exporter": "python",
   "pygments_lexer": "ipython3",
   "version": "3.12.3"
  }
 },
 "nbformat": 4,
 "nbformat_minor": 2
}
