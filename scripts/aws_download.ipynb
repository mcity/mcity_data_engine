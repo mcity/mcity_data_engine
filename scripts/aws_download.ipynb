{
 "cells": [
  {
   "cell_type": "code",
   "execution_count": 2,
   "metadata": {},
   "outputs": [],
   "source": [
    "import boto3\n",
    "import os"
   ]
  },
  {
   "cell_type": "code",
   "execution_count": 5,
   "metadata": {},
   "outputs": [],
   "source": [
    "# Connect to AWS\n",
    "# Make sure you have the AWS credentials in your .secret file\n",
    "with open(\"/home/dbogdoll/mcity_data_engine/.secret\", \"r\") as file:\n",
    "    for line in file:\n",
    "        key, value = line.strip().split(\"=\")\n",
    "        os.environ[key] = value\n",
    "\n",
    "s3 = boto3.client(\n",
    "    \"s3\",\n",
    "    aws_access_key_id=os.environ.get(\"AWS_ACCESS_KEY_ID\", None),\n",
    "    aws_secret_access_key=os.environ.get(\"AWS_SECRET_ACCESS_KEY\", None),\n",
    ")"
   ]
  },
  {
   "cell_type": "code",
   "execution_count": 12,
   "metadata": {},
   "outputs": [],
   "source": [
    "def _process_aws_result(result):\n",
    "    # Get list of folders from AWS response\n",
    "    if \"CommonPrefixes\" in result:\n",
    "        folders = [prefix[\"Prefix\"] for prefix in result[\"CommonPrefixes\"]]\n",
    "        return folders\n",
    "    else:\n",
    "        return None"
   ]
  },
  {
   "cell_type": "code",
   "execution_count": 20,
   "metadata": {},
   "outputs": [],
   "source": [
    "def list_files(bucket, prefix):\n",
    "    files = []\n",
    "    paginator = s3.get_paginator('list_objects_v2')\n",
    "    for page in paginator.paginate(Bucket=bucket, Prefix=prefix):\n",
    "        if 'Contents' in page:\n",
    "            for obj in page['Contents']:\n",
    "                files.append(obj['Key'])\n",
    "    \n",
    "    return files"
   ]
  },
  {
   "cell_type": "code",
   "execution_count": null,
   "metadata": {},
   "outputs": [
    {
     "name": "stdout",
     "output_type": "stream",
     "text": [
      "1/sip-data-stream2-delivery-stream-2-2024-03-07-17-36-56-73993be5-03fe-3cdd-baf2-1c46c6fc400e_sampled_1Hz\n",
      "1/sip-data-stream2-delivery-stream-2-2024-03-07-18-13-55-83378470-fa8c-38a8-aca8-03b75f2b15fd_sampled_1Hz\n",
      "1/sip-data-stream2-delivery-stream-2-2024-03-07-18-13-56-3b988640-6ec0-3513-bbbe-4129231a52b6_sampled_1Hz\n",
      "1/sip-data-stream2-delivery-stream-2-2024-03-07-18-13-57-0dc57636-cadb-3fbc-8a97-75060fab0b21_sampled_1Hz\n",
      "1/sip-data-stream2-delivery-stream-2-2024-03-07-18-14-02-80bb8ed5-f4c5-39fb-b68f-4ba535a64aa9_sampled_1Hz\n",
      "1/sip-data-stream2-delivery-stream-2-2024-03-07-18-14-05-01a3dd5f-b826-3a49-9861-2833f9e46bf4_sampled_1Hz\n",
      "1/sip-data-stream2-delivery-stream-2-2024-04-04-18-26-39-1f41670f-12e0-3191-bb7e-e0fbd5387423_sampled_1Hz\n",
      "1/sip-data-stream2-delivery-stream-2-2024-04-04-18-39-24-6037ff71-05e9-32ed-96d6-71dbcf543f09_sampled_1Hz\n",
      "1/sip-data-stream2-delivery-stream-2-2024-04-04-18-39-24-98c2d5a7-0dea-3c81-b58d-3bce6999d179_sampled_1Hz\n",
      "1/sip-data-stream2-delivery-stream-2-2024-04-04-18-39-25-01d61059-af25-3c57-bbc6-d2bb2fb2e9bf_sampled_1Hz\n",
      "1/sip-data-stream2-delivery-stream-2-2024-04-04-18-55-39-70eaaeed-8bba-3ec5-b834-a3fd0aeb9f07_sampled_1Hz\n",
      "1/sip-data-stream2-delivery-stream-2-2024-04-04-19-15-14-5ee29861-7822-3438-a9a1-7dfe123878cb_sampled_1Hz\n",
      "1/sip-data-stream2-delivery-stream-2-2024-04-04-19-15-17-26516487-0151-3b8d-8772-fa319f0dfa0d_sampled_1Hz\n",
      "1/sip-data-stream2-delivery-stream-2-2024-04-12-16-08-52-040ada6a-dfda-365f-9509-34b0151670ef_sampled_1Hz\n",
      "1/sip-data-stream2-delivery-stream-2-2024-04-12-16-08-52-670f5995-71af-38b6-a4ec-51576fb06129_sampled_1Hz\n",
      "1/sip-data-stream2-delivery-stream-2-2024-04-12-16-08-52-8bcf63c8-e46b-3fc9-8855-50eaf824bd39_sampled_1Hz\n",
      "1/sip-data-stream2-delivery-stream-2-2024-04-12-16-08-52-b39d2153-114e-3f15-8e67-66651d357768_sampled_1Hz\n",
      "1/sip-data-stream2-delivery-stream-2-2024-04-12-17-23-12-b55b9f37-364a-39c2-803d-ab58bb86f711_sampled_1Hz\n",
      "1/sip-data-stream2-delivery-stream-2-2024-04-12-17-23-13-36a9f88e-31dc-3528-b88a-064edc7964f3_sampled_1Hz\n",
      "1/sip-data-stream2-delivery-stream-2-2024-04-12-17-23-13-c6b502c3-b8ef-3073-8851-96ba890eecb0_sampled_1Hz\n",
      "1/sip-data-stream2-delivery-stream-2-2024-04-12-17-23-13-fd863ea0-9a5a-3b62-a76f-27c832a6d566_sampled_1Hz\n",
      "1/sip-data-stream2-delivery-stream-2-2024-04-12-17-23-24-790869bc-fb2c-3526-9db1-da080c40697d_sampled_1Hz\n",
      "1/sip-data-stream2-delivery-stream-2-2024-04-13-09-53-43-a3a817e6-5f60-36c9-b4f8-fe27dfb9ee2c_sampled_1Hz\n",
      "1/sip-data-stream2-delivery-stream-2-2024-04-13-09-53-57-ad853fd7-6d06-374d-b8f8-f8309b309944_sampled_1Hz\n",
      "1/sip-delivery-stream-1-2023-03-13-18-56-11-1d6c8acc-5073-33f9-ab61-d0d12715541f_sampled_1Hz\n",
      "1/sip-delivery-stream-1-2023-03-13-18-56-11-23966e69-4352-3b11-badb-49a985dd0570_sampled_1Hz\n",
      "1/sip-delivery-stream-1-2023-03-13-18-56-11-ad8348dc-4dd4-3f8c-9403-add27be0c8b8_sampled_1Hz\n",
      "1/sip-delivery-stream-1-2023-03-13-19-00-17-0ceadbca-8b3d-3cd0-91bb-1141c2974284_sampled_1Hz\n",
      "1/sip-delivery-stream-1-2023-03-13-19-00-17-c5616dfa-3d70-3ed7-9862-6693d63c8b70_sampled_1Hz\n",
      "1/sip-delivery-stream-1-2023-03-13-19-04-50-086f8c5c-288d-32c3-b405-cc351d20d68c_sampled_1Hz\n",
      "1/sip-delivery-stream-1-2023-03-13-19-04-50-242cf314-4437-365e-9579-759daea3840e_sampled_1Hz\n",
      "1/sip-delivery-stream-1-2023-03-13-19-04-50-754bbf4b-d0bf-3a29-b83c-3cab1b75d2e0_sampled_1Hz\n",
      "1/sip-delivery-stream-1-2023-03-13-19-04-50-95d2c432-ded2-31e9-a82d-b7a0a6833f08_sampled_1Hz\n",
      "1/sip-delivery-stream-1-2023-03-15-14-15-15-0127be5b-7480-3886-a20f-9032462a29bc_sampled_1Hz\n",
      "1/sip-delivery-stream-1-2023-08-30-19-58-03-44c128f1-726a-3ea5-bcaf-5b73d4d4a32c_sampled_1Hz\n",
      "1/sip-delivery-stream-1-2023-08-30-20-10-15-c22c084d-a7f2-3cbc-96b4-3d2b5401fff3_sampled_1Hz\n",
      "1/sip-delivery-stream-1-2023-08-30-20-10-16-87884c94-581e-35c7-92d5-b736caa8e77f_sampled_1Hz\n",
      "1/sip-delivery-stream-1-2023-08-30-20-10-16-c43bb59e-7545-30d3-b52e-ef1b76fcc340_sampled_1Hz\n"
     ]
    }
   ],
   "source": [
    "bucket = \"mcity-data-engine\"\n",
    "prefix = \"\"\n",
    "all_files = list_files(bucket, prefix)\n",
    "\n",
    "print(f\"Found {len(all_files)} files in {bucket}/{prefix}\")\n",
    "\n",
    "download_path = \"/media/dbogdoll/Datasets/data_engine_rolling_processed\"\n",
    "for file in all_files:\n",
    "    file_path = os.path.join(download_path, file)\n",
    "    os.makedirs(os.path.dirname(file_path), exist_ok=True)\n",
    "    s3.download_file(bucket, file, file_path)\n",
    "    print(f\"Downloaded {file} to {file_path}\")"
   ]
  }
 ],
 "metadata": {
  "kernelspec": {
   "display_name": ".venv",
   "language": "python",
   "name": "python3"
  },
  "language_info": {
   "codemirror_mode": {
    "name": "ipython",
    "version": 3
   },
   "file_extension": ".py",
   "mimetype": "text/x-python",
   "name": "python",
   "nbconvert_exporter": "python",
   "pygments_lexer": "ipython3",
   "version": "3.12.3"
  }
 },
 "nbformat": 4,
 "nbformat_minor": 2
}
