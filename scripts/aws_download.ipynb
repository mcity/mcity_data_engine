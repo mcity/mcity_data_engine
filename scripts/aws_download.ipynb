{
 "cells": [
  {
   "cell_type": "code",
   "execution_count": null,
   "metadata": {},
   "outputs": [],
   "source": [
    "import boto3\n",
    "import os"
   ]
  },
  {
   "cell_type": "code",
   "execution_count": null,
   "metadata": {},
   "outputs": [],
   "source": [
    "# Connect to AWS\n",
    "# Make sure you have the AWS credentials in your .secret file\n",
    "with open(\"/home/dbogdoll/mcity_data_engine/.secret\", \"r\") as file:\n",
    "    for line in file:\n",
    "        key, value = line.strip().split(\"=\")\n",
    "        os.environ[key] = value\n",
    "\n",
    "s3 = boto3.client(\n",
    "    \"s3\",\n",
    "    aws_access_key_id=os.environ.get(\"AWS_ACCESS_KEY_ID\", None),\n",
    "    aws_secret_access_key=os.environ.get(\"AWS_SECRET_ACCESS_KEY\", None),\n",
    ")"
   ]
  },
  {
   "cell_type": "code",
   "execution_count": null,
   "metadata": {},
   "outputs": [],
   "source": [
    "def _process_aws_result(result):\n",
    "    # Get list of folders from AWS response\n",
    "    if \"CommonPrefixes\" in result:\n",
    "        folders = [prefix[\"Prefix\"] for prefix in result[\"CommonPrefixes\"]]\n",
    "        return folders\n",
    "    else:\n",
    "        return None"
   ]
  },
  {
   "cell_type": "code",
   "execution_count": null,
   "metadata": {},
   "outputs": [],
   "source": [
    "def list_files(bucket, prefix):\n",
    "    files = []\n",
    "    paginator = s3.get_paginator('list_objects_v2')\n",
    "    for page in paginator.paginate(Bucket=bucket, Prefix=prefix):\n",
    "        if 'Contents' in page:\n",
    "            for obj in page['Contents']:\n",
    "                files.append(obj['Key'])\n",
    "    \n",
    "    return files"
   ]
  },
  {
   "cell_type": "code",
   "execution_count": null,
   "metadata": {},
   "outputs": [],
   "source": [
    "bucket = \"mcity-data-engine\"\n",
    "prefix = \"\"\n",
    "all_files = list_files(bucket, prefix)\n",
    "\n",
    "print(f\"Found {len(all_files)} files in {bucket}/{prefix}\")\n",
    "\n",
    "download_path = \"/media/dbogdoll/Datasets/data_engine_rolling_processed\"\n",
    "for file in all_files:\n",
    "    file_path = os.path.join(download_path, file)\n",
    "    os.makedirs(os.path.dirname(file_path), exist_ok=True)\n",
    "    s3.download_file(bucket, file, file_path)\n",
    "    print(f\"Downloaded {file} to {file_path}\")"
   ]
  }
 ],
 "metadata": {
  "language_info": {
   "name": "python"
  }
 },
 "nbformat": 4,
 "nbformat_minor": 2
}
