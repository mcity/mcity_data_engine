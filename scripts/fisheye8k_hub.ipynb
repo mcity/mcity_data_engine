{
 "cells": [
  {
   "cell_type": "code",
   "execution_count": null,
   "metadata": {},
   "outputs": [],
   "source": [
    "from fiftyone.utils.huggingface import load_from_hub\n",
    "dataset = load_from_hub(\"hieupth/fisheye8k\",\n",
    "format=\"COCODetectionDataset\",\n",
    "splits=[\"train\", \"test\"],\n",
    "batch_size=8,\n",
    "num_workers=8,\n",
    "overwrite=True,\n",
    "persistent=True)\n",
    "\n",
    "# Gives error ValueError: Data directory '/home/dbogdoll/fiftyone/huggingface/hub/hieupth/fisheye8k/data/' does not exist\n",
    "\n"
   ]
  }
 ],
 "metadata": {
  "language_info": {
   "name": "python"
  }
 },
 "nbformat": 4,
 "nbformat_minor": 2
}
