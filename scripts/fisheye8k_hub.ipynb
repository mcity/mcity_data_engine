{
 "cells": [
  {
   "cell_type": "code",
   "execution_count": null,
   "metadata": {},
   "outputs": [
    {
     "name": "stdout",
     "output_type": "stream",
     "text": [
      "Loading dataset\n",
      " 100% |█████████████████████| 0/0 [1.2ms elapsed, ? remaining, ? samples/s]  \n"
     ]
    }
   ],
   "source": [
    "from fiftyone.utils.huggingface import load_from_hub\n",
    "dataset = load_from_hub(\"hieupth/fisheye8k\",\n",
    "format=\"COCODetectionDataset\",\n",
    "splits=[\"train\", \"test\"],\n",
    "batch_size=8,\n",
    "num_workers=8,\n",
    "overwrite=True,\n",
    "persistent=True)\n",
    "\n",
    "# Gives error ValueError: Data directory '/home/dbogdoll/fiftyone/huggingface/hub/hieupth/fisheye8k/data/' does not exist\n",
    "\n"
   ]
  }
 ],
 "metadata": {
  "kernelspec": {
   "display_name": ".venv",
   "language": "python",
   "name": "python3"
  },
  "language_info": {
   "codemirror_mode": {
    "name": "ipython",
    "version": 3
   },
   "file_extension": ".py",
   "mimetype": "text/x-python",
   "name": "python",
   "nbconvert_exporter": "python",
   "pygments_lexer": "ipython3",
   "version": "3.12.3"
  }
 },
 "nbformat": 4,
 "nbformat_minor": 2
}
