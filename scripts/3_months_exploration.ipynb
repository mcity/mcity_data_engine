{
 "cells": [
  {
   "cell_type": "code",
   "execution_count": null,
   "metadata": {},
   "outputs": [],
   "source": [
    "from fiftyone import ViewField as F\n",
    "import fiftyone as fo\n",
    "import numpy as np\n",
    "from tqdm import tqdm\n",
    "\n",
    "dataset = fo.load_dataset(\"mcity_fisheye_3_months\")"
   ]
  },
  {
   "cell_type": "code",
   "execution_count": null,
   "metadata": {},
   "outputs": [],
   "source": [
    "try:\n",
    "    dataset.delete_sample_field(\"bbox_area_abs\")\n",
    "    dataset.delete_sample_field(\"bbox_area_rel\")\n",
    "except:\n",
    "    pass"
   ]
  },
  {
   "cell_type": "code",
   "execution_count": null,
   "metadata": {},
   "outputs": [],
   "source": [
    "bbox_areas = []\n",
    "pred_fields = []\n",
    "\n",
    "#Get fields of zero shot model predictions\n",
    "dataset_schema = dataset.get_field_schema()\n",
    "for field in dataset_schema:\n",
    "    if \"pred_\" in field:\n",
    "        pred_fields.append(field)\n",
    "\n",
    "# Filter data, iterate over detections, and compute bounding box areas\n",
    "for field in pred_fields:\n",
    "    print(field)\n",
    "    view = (\n",
    "        dataset\n",
    "        .exists(field)\n",
    "        .match(F(f\"{field}.detections\") != [])\n",
    "    )\n",
    "    samples_detections = view.values(field + \".detections\") # list of lists, one list of detections per sample\n",
    "    for detections in tqdm(samples_detections):\n",
    "        for detection in detections:\n",
    "            bbox_area = float(detection[\"bounding_box\"][2] * detection[\"bounding_box\"][3])\n",
    "            if (isinstance(bbox_area, (int, float)) and 0 <= bbox_area <= 1) == False:\n",
    "                print(bbox_area)\n",
    "            detection[\"bbox_area\"] = bbox_area\n",
    "            bbox_areas.append(bbox_area)\n",
    "\n",
    "    # Save the updated detections\n",
    "    view.set_values(field + \".detections\", samples_detections)    \n",
    "\n",
    "print(len(bbox_areas))"
   ]
  },
  {
   "cell_type": "code",
   "execution_count": null,
   "metadata": {},
   "outputs": [],
   "source": [
    "for sample in tqdm(dataset):\n",
    "    #print(sample)\n",
    "    for detection in sample[pred_fields[0]].detections:\n",
    "        print(detection.bbox_area)\n"
   ]
  },
  {
   "cell_type": "code",
   "execution_count": null,
   "metadata": {},
   "outputs": [],
   "source": [
    "bbox_areas = []\n",
    "\n",
    "field = pred_fields[0]\n",
    "print(field)\n",
    "view = (\n",
    "    dataset\n",
    "    .exists(field)\n",
    "    .match(F(f\"{field}.detections\") != [])\n",
    ")\n",
    "samples_detections = view.values(field + \".detections\") # list of lists, one list of detections per sample\n",
    "for detections in tqdm(samples_detections):\n",
    "    for detection in detections:\n",
    "        #print(detection)\n",
    "        bbox_areas.append(detection[\"bbox_area\"])\n",
    "\n",
    "for area in bbox_areas:\n",
    "    if area < 0 or area > 1:\n",
    "        print(area)\n",
    "\n",
    "print(len(bbox_areas))"
   ]
  },
  {
   "cell_type": "code",
   "execution_count": null,
   "metadata": {},
   "outputs": [],
   "source": [
    "# Compute bins\n",
    "num_bins = 10\n",
    "quantiles = np.linspace(0, 1, num_bins + 1)\n",
    "quantile_bin_edges = np.quantile(bbox_areas, quantiles)\n",
    "upper_bin_limits = list(quantile_bin_edges[1:-1]) + [np.float64(1)]\n",
    "print(upper_bin_limits)"
   ]
  },
  {
   "cell_type": "code",
   "execution_count": null,
   "metadata": {},
   "outputs": [],
   "source": [
    "# Compute bins\n",
    "num_bins = 10\n",
    "quantiles = np.linspace(0, 1, num_bins + 1)\n",
    "quantile_bin_edges = np.quantile(bbox_areas, quantiles)\n",
    "upper_bin_limits = list(quantile_bin_edges[1:-1]) + [np.float64(1)]\n",
    "print(upper_bin_limits)"
   ]
  },
  {
   "cell_type": "code",
   "execution_count": null,
   "metadata": {},
   "outputs": [],
   "source": [
    "# Assign bin label tags to detections\n",
    "for field in pred_fields:\n",
    "    print(field)\n",
    "    view = (\n",
    "        dataset\n",
    "        .exists(field)\n",
    "        .match(F(f\"{field}.detections\") != [])\n",
    "    )\n",
    "    samples_detections = view.values(field + \".detections\") # list of lists, one list of detections per sample\n",
    "    for detections in tqdm(samples_detections):\n",
    "        for detection in detections:\n",
    "            bin_index = np.digitize(\n",
    "                    detection[\"bbox_area\"], upper_bin_limits, right=True\n",
    "                )\n",
    "            bin_upper_limit = \"{:.4f}\".format(upper_bin_limits[bin_index])\n",
    "            bin_name = \"bbox_size_bin_\" + str(bin_index) + \"_\" + bin_upper_limit\n",
    "            detection.tags.append(bin_name)\n",
    "\n",
    "    # Save the assigned bin tag\n",
    "    view.set_values(field + \".detections\", samples_detections)    "
   ]
  },
  {
   "cell_type": "code",
   "execution_count": null,
   "metadata": {},
   "outputs": [],
   "source": [
    "#for sample in dataset.iter_samples(progress=True, autosave=True, batch_size=1000):\n",
    "#    for field in sample.iter_fields():\n",
    "#        if \"pred_\" in field[0]:\n",
    "#            for detection in field[1][\"detections\"]:\n",
    "#                bin_index = np.digitize(\n",
    "#                    detection[\"bbox_area\"], upper_bin_limits, right=True\n",
    "#                )\n",
    "#                bin_upper_limit = \"{:.4f}\".format(upper_bin_limits[bin_index])\n",
    "#                bin_name = \"bin_\" + str(bin_index) + \"_\" + bin_upper_limit\n",
    "#                detection[\"bbox_area_bin\"] = bin_name"
   ]
  }
 ],
 "metadata": {
  "kernelspec": {
   "display_name": ".venv",
   "language": "python",
   "name": "python3"
  },
  "language_info": {
   "codemirror_mode": {
    "name": "ipython",
    "version": 3
   },
   "file_extension": ".py",
   "mimetype": "text/x-python",
   "name": "python",
   "nbconvert_exporter": "python",
   "pygments_lexer": "ipython3",
   "version": "3.12.3"
  }
 },
 "nbformat": 4,
 "nbformat_minor": 2
}
