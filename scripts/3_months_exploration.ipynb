{
 "cells": [
  {
   "cell_type": "code",
   "execution_count": 2,
   "metadata": {},
   "outputs": [],
   "source": [
    "from fiftyone import ViewField as F\n",
    "import fiftyone as fo\n",
    "import numpy as np\n",
    "from tqdm import tqdm\n",
    "\n",
    "dataset = fo.load_dataset(\"mcity_fisheye_3_months\")"
   ]
  },
  {
   "cell_type": "code",
   "execution_count": 4,
   "metadata": {},
   "outputs": [],
   "source": [
    "try:\n",
    "    dataset.delete_sample_field(\"bbox_area_abs\")\n",
    "    dataset.delete_sample_field(\"bbox_area_rel\")\n",
    "except:\n",
    "    pass"
   ]
  },
  {
   "cell_type": "code",
   "execution_count": 22,
   "metadata": {},
   "outputs": [
    {
     "name": "stdout",
     "output_type": "stream",
     "text": [
      "pred_google_owlvit_large_patch14\n"
     ]
    },
    {
     "name": "stderr",
     "output_type": "stream",
     "text": [
      "100%|██████████| 30434/30434 [00:00<00:00, 72583.11it/s]\n"
     ]
    },
    {
     "name": "stdout",
     "output_type": "stream",
     "text": [
      "pred_IDEA_Research_grounding_dino_base\n"
     ]
    },
    {
     "name": "stderr",
     "output_type": "stream",
     "text": [
      "100%|██████████| 2204/2204 [00:00<00:00, 96240.09it/s]\n"
     ]
    },
    {
     "name": "stdout",
     "output_type": "stream",
     "text": [
      "pred_google_owlv2_base_patch16_ensemble\n"
     ]
    },
    {
     "name": "stderr",
     "output_type": "stream",
     "text": [
      "100%|██████████| 26753/26753 [00:00<00:00, 53072.22it/s]\n"
     ]
    },
    {
     "name": "stdout",
     "output_type": "stream",
     "text": [
      "pred_google_owlv2_large_patch14_ensemble\n"
     ]
    },
    {
     "name": "stderr",
     "output_type": "stream",
     "text": [
      "100%|██████████| 35510/35510 [00:00<00:00, 67929.05it/s]\n"
     ]
    },
    {
     "name": "stdout",
     "output_type": "stream",
     "text": [
      "pred_omlab_omdet_turbo_swin_tiny_hf\n"
     ]
    },
    {
     "name": "stderr",
     "output_type": "stream",
     "text": [
      "100%|██████████| 49312/49312 [00:11<00:00, 4402.95it/s]\n"
     ]
    },
    {
     "name": "stdout",
     "output_type": "stream",
     "text": [
      "1272493\n"
     ]
    }
   ],
   "source": [
    "bbox_areas = []\n",
    "pred_fields = []\n",
    "\n",
    "#Get fields of zero shot model predictions\n",
    "dataset_schema = dataset.get_field_schema()\n",
    "for field in dataset_schema:\n",
    "    if \"pred_\" in field:\n",
    "        pred_fields.append(field)\n",
    "\n",
    "# Filter data, iterate over detections, and compute bounding box areas\n",
    "for field in pred_fields:\n",
    "    print(field)\n",
    "    view = (\n",
    "        dataset\n",
    "        .exists(field)\n",
    "        .match(F(f\"{field}.detections\") != [])\n",
    "    )\n",
    "    samples_detections = view.values(field + \".detections\") # list of lists, one list of detections per sample\n",
    "    for detections in tqdm(samples_detections):\n",
    "        for detection in detections:\n",
    "            bbox_area = float(detection[\"bounding_box\"][2] * detection[\"bounding_box\"][3])\n",
    "            if (isinstance(bbox_area, (int, float)) and 0 <= bbox_area <= 1) == False:\n",
    "                print(bbox_area)\n",
    "            detection[\"bbox_area\"] = bbox_area\n",
    "            bbox_areas.append(bbox_area)\n",
    "\n",
    "    # Save the updated detections\n",
    "    view.set_values(field + \".detections\", samples_detections)    \n",
    "\n",
    "print(len(bbox_areas))"
   ]
  },
  {
   "cell_type": "code",
   "execution_count": null,
   "metadata": {},
   "outputs": [
    {
     "name": "stderr",
     "output_type": "stream",
     "text": [
      "  0%|          | 0/100 [00:00<?, ?it/s]\n"
     ]
    },
    {
     "ename": "TypeError",
     "evalue": "string indices must be integers, not 'str'",
     "output_type": "error",
     "traceback": [
      "\u001b[0;31m---------------------------------------------------------------------------\u001b[0m",
      "\u001b[0;31mTypeError\u001b[0m                                 Traceback (most recent call last)",
      "Cell \u001b[0;32mIn[33], line 6\u001b[0m\n\u001b[1;32m      4\u001b[0m \u001b[38;5;28;01mfor\u001b[39;00m detections \u001b[38;5;129;01min\u001b[39;00m sample[pred_fields[\u001b[38;5;241m0\u001b[39m]]\u001b[38;5;241m.\u001b[39mdetections:\n\u001b[1;32m      5\u001b[0m     \u001b[38;5;28;01mfor\u001b[39;00m detection \u001b[38;5;129;01min\u001b[39;00m detections:\n\u001b[0;32m----> 6\u001b[0m         \u001b[38;5;28mprint\u001b[39m(\u001b[43mdetection\u001b[49m\u001b[43m[\u001b[49m\u001b[38;5;124;43m'\u001b[39;49m\u001b[38;5;124;43mbbox_area\u001b[39;49m\u001b[38;5;124;43m'\u001b[39;49m\u001b[43m]\u001b[49m)\n",
      "\u001b[0;31mTypeError\u001b[0m: string indices must be integers, not 'str'"
     ]
    }
   ],
   "source": [
    "dataset = dataset.take(100)\n",
    "for sample in tqdm(dataset):\n",
    "    #print(sample)\n",
    "    for detections in sample[pred_fields[0]].detections:\n",
    "        for detection in detections:\n",
    "            print(detection))"
   ]
  },
  {
   "cell_type": "code",
   "execution_count": 20,
   "metadata": {},
   "outputs": [
    {
     "name": "stdout",
     "output_type": "stream",
     "text": [
      "pred_google_owlvit_large_patch14\n"
     ]
    },
    {
     "name": "stderr",
     "output_type": "stream",
     "text": [
      "100%|██████████| 30434/30434 [00:00<00:00, 1417618.39it/s]"
     ]
    },
    {
     "name": "stdout",
     "output_type": "stream",
     "text": [
      "49718\n"
     ]
    },
    {
     "name": "stderr",
     "output_type": "stream",
     "text": [
      "\n"
     ]
    }
   ],
   "source": [
    "bbox_areas = []\n",
    "\n",
    "field = pred_fields[0]\n",
    "print(field)\n",
    "view = (\n",
    "    dataset\n",
    "    .exists(field)\n",
    "    .match(F(f\"{field}.detections\") != [])\n",
    ")\n",
    "samples_detections = view.values(field + \".detections\") # list of lists, one list of detections per sample\n",
    "for detections in tqdm(samples_detections):\n",
    "    for detection in detections:\n",
    "        #print(detection)\n",
    "        bbox_areas.append(detection[\"bbox_area\"])\n",
    "\n",
    "for area in bbox_areas:\n",
    "    if area < 0 or area > 1:\n",
    "        print(area)\n",
    "\n",
    "print(len(bbox_areas))"
   ]
  },
  {
   "cell_type": "code",
   "execution_count": 14,
   "metadata": {},
   "outputs": [
    {
     "name": "stdout",
     "output_type": "stream",
     "text": [
      "[np.float64(0.0002966239083589244), np.float64(0.00046908459728911117), np.float64(0.0006772121438674127), np.float64(0.001025925307549187), np.float64(0.0014855543452785014), np.float64(0.0020463086280597055), np.float64(0.0033701701579169218), np.float64(0.009457432087225263), np.float64(0.8137730338420947), np.float64(1.0)]\n"
     ]
    }
   ],
   "source": [
    "# Compute bins\n",
    "num_bins = 10\n",
    "quantiles = np.linspace(0, 1, num_bins + 1)\n",
    "quantile_bin_edges = np.quantile(bbox_areas, quantiles)\n",
    "upper_bin_limits = list(quantile_bin_edges[1:-1]) + [np.float64(1)]\n",
    "print(upper_bin_limits)"
   ]
  },
  {
   "cell_type": "code",
   "execution_count": 15,
   "metadata": {},
   "outputs": [
    {
     "name": "stdout",
     "output_type": "stream",
     "text": [
      "[np.float64(0.0002966239083589244), np.float64(0.00046908459728911117), np.float64(0.0006772121438674127), np.float64(0.001025925307549187), np.float64(0.0014855543452785014), np.float64(0.0020463086280597055), np.float64(0.0033701701579169218), np.float64(0.009457432087225263), np.float64(0.8137730338420947), np.float64(1.0)]\n"
     ]
    }
   ],
   "source": [
    "# Compute bins\n",
    "num_bins = 10\n",
    "quantiles = np.linspace(0, 1, num_bins + 1)\n",
    "quantile_bin_edges = np.quantile(bbox_areas, quantiles)\n",
    "upper_bin_limits = list(quantile_bin_edges[1:-1]) + [np.float64(1)]\n",
    "print(upper_bin_limits)"
   ]
  },
  {
   "cell_type": "code",
   "execution_count": null,
   "metadata": {},
   "outputs": [
    {
     "name": "stdout",
     "output_type": "stream",
     "text": [
      "pred_google_owlvit_large_patch14\n"
     ]
    },
    {
     "name": "stderr",
     "output_type": "stream",
     "text": [
      "100%|██████████| 30434/30434 [00:00<00:00, 89615.03it/s]\n"
     ]
    },
    {
     "name": "stdout",
     "output_type": "stream",
     "text": [
      "pred_IDEA_Research_grounding_dino_base\n"
     ]
    },
    {
     "name": "stderr",
     "output_type": "stream",
     "text": [
      "100%|██████████| 2204/2204 [00:00<00:00, 134536.12it/s]\n"
     ]
    },
    {
     "name": "stdout",
     "output_type": "stream",
     "text": [
      "pred_google_owlv2_base_patch16_ensemble\n"
     ]
    },
    {
     "name": "stderr",
     "output_type": "stream",
     "text": [
      "100%|██████████| 26753/26753 [00:00<00:00, 71172.59it/s]\n"
     ]
    },
    {
     "name": "stdout",
     "output_type": "stream",
     "text": [
      "pred_google_owlv2_large_patch14_ensemble\n"
     ]
    },
    {
     "name": "stderr",
     "output_type": "stream",
     "text": [
      "100%|██████████| 35510/35510 [00:00<00:00, 91723.52it/s]\n"
     ]
    },
    {
     "name": "stdout",
     "output_type": "stream",
     "text": [
      "pred_omlab_omdet_turbo_swin_tiny_hf\n"
     ]
    },
    {
     "name": "stderr",
     "output_type": "stream",
     "text": [
      "100%|██████████| 49312/49312 [00:08<00:00, 5998.02it/s] \n"
     ]
    }
   ],
   "source": [
    "# Assign bin label tags to detections\n",
    "for field in pred_fields:\n",
    "    print(field)\n",
    "    view = (\n",
    "        dataset\n",
    "        .exists(field)\n",
    "        .match(F(f\"{field}.detections\") != [])\n",
    "    )\n",
    "    samples_detections = view.values(field + \".detections\") # list of lists, one list of detections per sample\n",
    "    for detections in tqdm(samples_detections):\n",
    "        for detection in detections:\n",
    "            bin_index = np.digitize(\n",
    "                    detection[\"bbox_area\"], upper_bin_limits, right=True\n",
    "                )\n",
    "            bin_upper_limit = \"{:.4f}\".format(upper_bin_limits[bin_index])\n",
    "            bin_name = \"bbox_size_bin_\" + str(bin_index) + \"_\" + bin_upper_limit\n",
    "            detection.tags.append(bin_name)\n",
    "\n",
    "    # Save the assigned bin tag\n",
    "    view.set_values(field + \".detections\", samples_detections)    "
   ]
  },
  {
   "cell_type": "code",
   "execution_count": null,
   "metadata": {},
   "outputs": [],
   "source": [
    "#for sample in dataset.iter_samples(progress=True, autosave=True, batch_size=1000):\n",
    "#    for field in sample.iter_fields():\n",
    "#        if \"pred_\" in field[0]:\n",
    "#            for detection in field[1][\"detections\"]:\n",
    "#                bin_index = np.digitize(\n",
    "#                    detection[\"bbox_area\"], upper_bin_limits, right=True\n",
    "#                )\n",
    "#                bin_upper_limit = \"{:.4f}\".format(upper_bin_limits[bin_index])\n",
    "#                bin_name = \"bin_\" + str(bin_index) + \"_\" + bin_upper_limit\n",
    "#                detection[\"bbox_area_bin\"] = bin_name"
   ]
  }
 ],
 "metadata": {
  "kernelspec": {
   "display_name": ".venv",
   "language": "python",
   "name": "python3"
  },
  "language_info": {
   "codemirror_mode": {
    "name": "ipython",
    "version": 3
   },
   "file_extension": ".py",
   "mimetype": "text/x-python",
   "name": "python",
   "nbconvert_exporter": "python",
   "pygments_lexer": "ipython3",
   "version": "3.12.3"
  }
 },
 "nbformat": 4,
 "nbformat_minor": 2
}
