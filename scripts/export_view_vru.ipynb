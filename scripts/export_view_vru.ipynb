{
 "cells": [
  {
   "cell_type": "code",
   "execution_count": 13,
   "metadata": {},
   "outputs": [
    {
     "name": "stdout",
     "output_type": "stream",
     "text": [
      "Dataset:     mcity_fisheye_3_months\n",
      "Media type:  image\n",
      "Num samples: 100\n",
      "Sample fields:\n",
      "    id:                                           fiftyone.core.fields.ObjectIdField\n",
      "    filepath:                                     fiftyone.core.fields.StringField\n",
      "    tags:                                         fiftyone.core.fields.ListField(fiftyone.core.fields.StringField)\n",
      "    metadata:                                     fiftyone.core.fields.EmbeddedDocumentField(fiftyone.core.metadata.ImageMetadata)\n",
      "    created_at:                                   fiftyone.core.fields.DateTimeField\n",
      "    last_modified_at:                             fiftyone.core.fields.DateTimeField\n",
      "    ground_truth:                                 fiftyone.core.fields.EmbeddedDocumentField(fiftyone.core.labels.Detections)\n",
      "    location:                                     fiftyone.core.fields.StringField\n",
      "    name:                                         fiftyone.core.fields.StringField\n",
      "    timestamp:                                    fiftyone.core.fields.DateTimeField\n",
      "    pred_IDEA_Research_grounding_dino_tiny:       fiftyone.core.fields.EmbeddedDocumentField(fiftyone.core.labels.Detections)\n",
      "    pred_IDEA_Research_grounding_dino_base:       fiftyone.core.fields.EmbeddedDocumentField(fiftyone.core.labels.Detections)\n",
      "    pred_google_owlvit_large_patch14:             fiftyone.core.fields.EmbeddedDocumentField(fiftyone.core.labels.Detections)\n",
      "    pred_google_owlv2_base_patch16:               fiftyone.core.fields.EmbeddedDocumentField(fiftyone.core.labels.Detections)\n",
      "    pred_google_owlv2_base_patch16_ensemble:      fiftyone.core.fields.EmbeddedDocumentField(fiftyone.core.labels.Detections)\n",
      "    pred_google_owlv2_base_patch16_finetuned:     fiftyone.core.fields.EmbeddedDocumentField(fiftyone.core.labels.Detections)\n",
      "    pred_google_owlv2_large_patch14:              fiftyone.core.fields.EmbeddedDocumentField(fiftyone.core.labels.Detections)\n",
      "    pred_google_owlv2_large_patch14_ensemble:     fiftyone.core.fields.EmbeddedDocumentField(fiftyone.core.labels.Detections)\n",
      "    pred_google_owlv2_large_patch14_finetuned:    fiftyone.core.fields.EmbeddedDocumentField(fiftyone.core.labels.Detections)\n",
      "    pred_omlab_omdet_turbo_swin_tiny_hf:          fiftyone.core.fields.EmbeddedDocumentField(fiftyone.core.labels.Detections)\n",
      "    eval_IDEA_Research_grounding_dino_tiny_tp:    fiftyone.core.fields.IntField\n",
      "    eval_IDEA_Research_grounding_dino_tiny_fp:    fiftyone.core.fields.IntField\n",
      "    eval_IDEA_Research_grounding_dino_tiny_fn:    fiftyone.core.fields.IntField\n",
      "    eval_IDEA_Research_grounding_dino_base_tp:    fiftyone.core.fields.IntField\n",
      "    eval_IDEA_Research_grounding_dino_base_fp:    fiftyone.core.fields.IntField\n",
      "    eval_IDEA_Research_grounding_dino_base_fn:    fiftyone.core.fields.IntField\n",
      "    eval_google_owlvit_large_patch14_tp:          fiftyone.core.fields.IntField\n",
      "    eval_google_owlvit_large_patch14_fp:          fiftyone.core.fields.IntField\n",
      "    eval_google_owlvit_large_patch14_fn:          fiftyone.core.fields.IntField\n",
      "    eval_google_owlv2_base_patch16_tp:            fiftyone.core.fields.IntField\n",
      "    eval_google_owlv2_base_patch16_fp:            fiftyone.core.fields.IntField\n",
      "    eval_google_owlv2_base_patch16_fn:            fiftyone.core.fields.IntField\n",
      "    eval_google_owlv2_base_patch16_ensemble_tp:   fiftyone.core.fields.IntField\n",
      "    eval_google_owlv2_base_patch16_ensemble_fp:   fiftyone.core.fields.IntField\n",
      "    eval_google_owlv2_base_patch16_ensemble_fn:   fiftyone.core.fields.IntField\n",
      "    eval_google_owlv2_base_patch16_finetuned_tp:  fiftyone.core.fields.IntField\n",
      "    eval_google_owlv2_base_patch16_finetuned_fp:  fiftyone.core.fields.IntField\n",
      "    eval_google_owlv2_base_patch16_finetuned_fn:  fiftyone.core.fields.IntField\n",
      "    eval_google_owlv2_large_patch14_tp:           fiftyone.core.fields.IntField\n",
      "    eval_google_owlv2_large_patch14_fp:           fiftyone.core.fields.IntField\n",
      "    eval_google_owlv2_large_patch14_fn:           fiftyone.core.fields.IntField\n",
      "    eval_google_owlv2_large_patch14_ensemble_tp:  fiftyone.core.fields.IntField\n",
      "    eval_google_owlv2_large_patch14_ensemble_fp:  fiftyone.core.fields.IntField\n",
      "    eval_google_owlv2_large_patch14_ensemble_fn:  fiftyone.core.fields.IntField\n",
      "    eval_google_owlv2_large_patch14_finetuned_tp: fiftyone.core.fields.IntField\n",
      "    eval_google_owlv2_large_patch14_finetuned_fp: fiftyone.core.fields.IntField\n",
      "    eval_google_owlv2_large_patch14_finetuned_fn: fiftyone.core.fields.IntField\n",
      "    eval_omlab_omdet_turbo_swin_tiny_hf_tp:       fiftyone.core.fields.IntField\n",
      "    eval_omlab_omdet_turbo_swin_tiny_hf_fp:       fiftyone.core.fields.IntField\n",
      "    eval_omlab_omdet_turbo_swin_tiny_hf_fn:       fiftyone.core.fields.IntField\n",
      "    n_unique_exploration:                         fiftyone.core.fields.IntField\n",
      "View stages:\n",
      "    1. MatchTags(tags=['select_vru'], bool=True, all=False)\n"
     ]
    }
   ],
   "source": [
    "from fiftyone import ViewField as F\n",
    "import fiftyone as fo\n",
    "\n",
    "dataset = fo.load_dataset(\"mcity_fisheye_3_months\")\n",
    "view_vru_selection = dataset.match_tags(\"select_vru\")\n",
    "print(view_vru_selection)"
   ]
  },
  {
   "cell_type": "code",
   "execution_count": 18,
   "metadata": {},
   "outputs": [
    {
     "name": "stdout",
     "output_type": "stream",
     "text": [
      "Directory '/media/dbogdoll/Datasets/vru_labeling' already exists; export will be merged with existing files\n",
      " 100% |███████████████████| 96/96 [5.5s elapsed, 0s remaining, 24.6 samples/s]      \n",
      "Directory '/media/dbogdoll/Datasets/vru_labeling' already exists; export will be merged with existing files\n",
      " 100% |█████████████████████| 4/4 [130.1ms elapsed, 0s remaining, 30.7 samples/s] \n"
     ]
    }
   ],
   "source": [
    "splits = [\"train\", \"val\"]\n",
    "export_dir=\"/media/dbogdoll/Datasets/vru_labeling\"\n",
    "label_field=\"pred_google_owlv2_large_patch14_finetuned\"\n",
    "\n",
    "classes=view_vru_selection.distinct(f\"{label_field}.detections.label\") \n",
    "\n",
    "# Export the splits\n",
    "for split in splits:\n",
    "    split_view = view_vru_selection.match_tags(split)\n",
    "    split_view.export(\n",
    "        export_dir=export_dir,\n",
    "        dataset_type=fo.types.YOLOv5Dataset,\n",
    "        label_field=label_field,\n",
    "        split=split,\n",
    "        classes=classes,\n",
    "    )"
   ]
  },
  {
   "cell_type": "code",
   "execution_count": null,
   "metadata": {},
   "outputs": [
    {
     "data": {
      "text/html": [
       "\n",
       "        <iframe\n",
       "            width=\"100%\"\n",
       "            height=\"800\"\n",
       "            src=\"http://localhost:5151/?notebook=True&subscription=88ad71aa-7110-4029-ad35-52e16b962e48\"\n",
       "            frameborder=\"0\"\n",
       "            allowfullscreen\n",
       "            \n",
       "        ></iframe>\n",
       "        "
      ],
      "text/plain": [
       "<IPython.lib.display.IFrame at 0x7102f22d5280>"
      ]
     },
     "metadata": {},
     "output_type": "display_data"
    },
    {
     "data": {
      "text/plain": [
       "Dataset:          mcity_fisheye_3_months\n",
       "Media type:       image\n",
       "Num samples:      10653\n",
       "Selected samples: 0\n",
       "Selected labels:  0\n",
       "Session URL:      http://localhost:5151/\n",
       "View stages:\n",
       "    1. Match(filter={'$expr': {'$gte': [...]}})"
      ]
     },
     "execution_count": 10,
     "metadata": {},
     "output_type": "execute_result"
    }
   ],
   "source": []
  }
 ],
 "metadata": {
  "kernelspec": {
   "display_name": ".venv",
   "language": "python",
   "name": "python3"
  },
  "language_info": {
   "codemirror_mode": {
    "name": "ipython",
    "version": 3
   },
   "file_extension": ".py",
   "mimetype": "text/x-python",
   "name": "python",
   "nbconvert_exporter": "python",
   "pygments_lexer": "ipython3",
   "version": "3.12.3"
  }
 },
 "nbformat": 4,
 "nbformat_minor": 2
}
