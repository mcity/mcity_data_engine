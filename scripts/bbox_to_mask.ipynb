{
 "cells": [
  {
   "cell_type": "markdown",
   "metadata": {},
   "source": [
    "This script takes bounding boxes in the yolo-format and generates masks in the mvtec-ad format. Masks that contain **pedestrians** are considered anomalous.\n",
    "\n",
    "Yolo: [x_center, y_center, width, height] between [0,1]\n",
    "mvtec-ad: Black png image with white pixels where ground truth is"
   ]
  },
  {
   "cell_type": "code",
   "execution_count": null,
   "metadata": {},
   "outputs": [],
   "source": [
    "%load_ext autoreload\n",
    "%autoreload 2\n",
    "\n",
    "import sys\n",
    "import os.path\n",
    "\n",
    "sys.path.append(\"..\")\n",
    "\n",
    "from config import SELECTED_DATASET\n",
    "from utils.data_loader import *\n",
    "\n",
    "import fiftyone as fo"
   ]
  },
  {
   "cell_type": "code",
   "execution_count": null,
   "metadata": {},
   "outputs": [],
   "source": [
    "dataset_info = load_dataset_info(\n",
    "    SELECTED_DATASET,\n",
    "    config_path=\"/home/dbogdoll/mcity_data_engine/datasets/datasets.yaml\",\n",
    ")\n",
    "loader_function = dataset_info.get(\"loader_fct\")\n",
    "dataset = globals()[loader_function](dataset_info)\n",
    "dataset.persistent = False"
   ]
  },
  {
   "cell_type": "code",
   "execution_count": null,
   "metadata": {},
   "outputs": [],
   "source": [
    "from PIL import Image, ImageDraw\n",
    "import plotly.graph_objects as go\n",
    "\n",
    "target_folder = \"/home/dbogdoll/mcity_data_engine/datasets/midadvrb_ano_ped_masks\"\n",
    "\n",
    "anomalous_view = dataset.match_tags(\"val\")\n",
    "for sample in anomalous_view:\n",
    "    img_width = sample.metadata.width\n",
    "    img_height = sample.metadata.height\n",
    "    filename = os.path.basename(sample.filepath).replace(\".jpg\", \"\")\n",
    "    mask = Image.new(\"L\", (img_width, img_height), 0)  # Create a black image\n",
    "    draw = ImageDraw.Draw(mask)\n",
    "    for bbox in sample.ground_truth.detections:\n",
    "        if bbox.label == \"pedestrian\":\n",
    "            # Convert YOLO format in [0,1] to image format\n",
    "            # Yolo format should be <x-center> <y-center> <width> <height> but is x_min, y_min\n",
    "            # Bug report: https://github.com/voxel51/fiftyone/issues/4887\n",
    "\n",
    "            x_min_rel, y_min_rel, width_rel, height_rel = bbox.bounding_box\n",
    "            x_min = int(x_min_rel * img_width)\n",
    "            y_min = int(y_min_rel * img_height)\n",
    "            x_max = int((x_min_rel + width_rel) * img_width)\n",
    "            y_max = int((y_min_rel + height_rel) * img_height)\n",
    "\n",
    "            # draw.rectangle([x0, y0, x1, y1], fill=255)  # [x0, y0, x1, y1]\n",
    "            draw.rectangle([x_min, y_min, x_max, y_max], fill=255)  # [x0, y0, x1, y1]\n",
    "\n",
    "    # Save the mask\n",
    "    mask.save(os.path.join(target_folder, f\"{filename}.png\"))"
   ]
  }
 ],
 "metadata": {
  "language_info": {
   "name": "python"
  }
 },
 "nbformat": 4,
 "nbformat_minor": 2
}
