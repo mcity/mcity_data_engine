{
 "cells": [
  {
   "cell_type": "markdown",
   "metadata": {},
   "source": [
    "This script takes bounding boxes in the yolo-format and generates masks in the mvtec-ad format. Masks that contain **pedestrians** are considered anomalous.\n",
    "\n",
    "Yolo: [x_center, y_center, width, height] between [0,1]\n",
    "mvtec-ad: Black png image with white pixels where ground truth is"
   ]
  },
  {
   "cell_type": "code",
   "execution_count": 14,
   "metadata": {},
   "outputs": [
    {
     "name": "stdout",
     "output_type": "stream",
     "text": [
      "The autoreload extension is already loaded. To reload it, use:\n",
      "  %reload_ext autoreload\n"
     ]
    }
   ],
   "source": [
    "%load_ext autoreload\n",
    "%autoreload 2\n",
    "\n",
    "import sys\n",
    "import os.path\n",
    "\n",
    "sys.path.append(\"..\")\n",
    "\n",
    "from config import SELECTED_DATASET\n",
    "from data_loader.data_loader import *\n",
    "\n",
    "import fiftyone as fo"
   ]
  },
  {
   "cell_type": "code",
   "execution_count": 15,
   "metadata": {},
   "outputs": [
    {
     "name": "stdout",
     "output_type": "stream",
     "text": [
      " 100% |███████████████| 2073/2073 [4.5s elapsed, 0s remaining, 594.5 samples/s]       \n"
     ]
    },
    {
     "name": "stderr",
     "output_type": "stream",
     "text": [
      "INFO:eta.core.utils: 100% |███████████████| 2073/2073 [4.5s elapsed, 0s remaining, 594.5 samples/s]       \n"
     ]
    },
    {
     "name": "stdout",
     "output_type": "stream",
     "text": [
      " 100% |█████████████████| 671/671 [1.2s elapsed, 0s remaining, 564.3 samples/s]         \n"
     ]
    },
    {
     "name": "stderr",
     "output_type": "stream",
     "text": [
      "INFO:eta.core.utils: 100% |█████████████████| 671/671 [1.2s elapsed, 0s remaining, 564.3 samples/s]         \n"
     ]
    },
    {
     "name": "stdout",
     "output_type": "stream",
     "text": [
      "Computing metadata...\n"
     ]
    },
    {
     "name": "stderr",
     "output_type": "stream",
     "text": [
      "INFO:fiftyone.core.metadata:Computing metadata...\n"
     ]
    },
    {
     "name": "stdout",
     "output_type": "stream",
     "text": [
      " 100% |███████████████| 2744/2744 [279.1ms elapsed, 0s remaining, 9.8K samples/s]      \n"
     ]
    },
    {
     "name": "stderr",
     "output_type": "stream",
     "text": [
      "INFO:eta.core.utils: 100% |███████████████| 2744/2744 [279.1ms elapsed, 0s remaining, 9.8K samples/s]      \n"
     ]
    }
   ],
   "source": [
    "dataset_info = load_dataset_info(\n",
    "    SELECTED_DATASET,\n",
    "    config_path=\"/home/dbogdoll/mcity_data_engine/datasets/datasets.yaml\",\n",
    ")\n",
    "loader_function = dataset_info.get(\"loader_fct\")\n",
    "dataset = globals()[loader_function](dataset_info)\n",
    "dataset.persistent = False"
   ]
  },
  {
   "cell_type": "code",
   "execution_count": 16,
   "metadata": {},
   "outputs": [],
   "source": [
    "from PIL import Image, ImageDraw\n",
    "import numpy as np\n",
    "\n",
    "target_folder = \"/home/dbogdoll/mcity_data_engine/datasets/midadvrb_ano_ped_masks\"\n",
    "\n",
    "anomalous_view = dataset.match_tags(\"val\")\n",
    "for sample in anomalous_view:\n",
    "    img_width = sample.metadata.width\n",
    "    img_height = sample.metadata.height\n",
    "    filename = os.path.basename(sample.filepath).replace(\".jpg\", \"\")\n",
    "    mask = Image.new(\"L\", (img_width, img_height), 0)\n",
    "    # Create a black image\n",
    "    draw = ImageDraw.Draw(mask)\n",
    "    for bbox in sample.ground_truth.detections:\n",
    "        if bbox.label == \"pedestrian\":\n",
    "            # Convert YOLO format to pixel coordinates\n",
    "            x_center, y_center, width, height = bbox.bounding_box\n",
    "            x_center *= img_width\n",
    "            y_center *= img_height\n",
    "            width *= img_width\n",
    "            height *= img_height\n",
    "\n",
    "            # Calculate the bounding box corners\n",
    "            x_min = int(x_center - width / 2)\n",
    "            x_max = int(x_center + width / 2)\n",
    "            y_min = int(y_center - height / 2)\n",
    "            y_max = int(y_center + height / 2)\n",
    "\n",
    "            # Draw the white rectangle for the bounding box\n",
    "            draw.rectangle([x_min, y_min, x_max, y_max], fill=255)\n",
    "\n",
    "    # Save the mask\n",
    "    mask.save(os.path.join(target_folder, f\"{filename}.png\"))"
   ]
  }
 ],
 "metadata": {
  "kernelspec": {
   "display_name": ".venv",
   "language": "python",
   "name": "python3"
  },
  "language_info": {
   "codemirror_mode": {
    "name": "ipython",
    "version": 3
   },
   "file_extension": ".py",
   "mimetype": "text/x-python",
   "name": "python",
   "nbconvert_exporter": "python",
   "pygments_lexer": "ipython3",
   "version": "3.12.3"
  }
 },
 "nbformat": 4,
 "nbformat_minor": 2
}
