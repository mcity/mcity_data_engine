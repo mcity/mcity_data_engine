{
 "cells": [
  {
   "cell_type": "code",
   "execution_count": 102,
   "metadata": {},
   "outputs": [],
   "source": [
    "import boto3\n",
    "import os\n",
    "from datetime import datetime\n",
    "import pytz\n",
    "\n",
    "import re\n",
    "from tqdm import tqdm\n",
    "import time\n",
    "import wandb\n",
    "from torch.utils.tensorboard import SummaryWriter\n",
    "import shutil\n",
    "import json\n",
    "import base64\n",
    "import fiftyone as fo\n",
    "import numpy as np"
   ]
  },
  {
   "cell_type": "code",
   "execution_count": 103,
   "metadata": {},
   "outputs": [],
   "source": [
    "start_date = datetime(2023, 11, 19)    # year, month, day   \n",
    "end_date = datetime(2023, 11, 25)      # 25 November 2023: Michigan vs Ohio\n",
    "cameras_excluded = []\n",
    "\n",
    "# Path to download the data\n",
    "storage_target_root = \"/media/dbogdoll/Datasets/data_engine_rolling\"\n",
    "data_target = os.path.join(storage_target_root, \"data\")\n",
    "os.makedirs(data_target, exist_ok=True)\n",
    "\n",
    "log_target = os.path.join(storage_target_root, \"logs\")\n",
    "os.makedirs(log_target, exist_ok=True)"
   ]
  },
  {
   "cell_type": "code",
   "execution_count": 104,
   "metadata": {},
   "outputs": [],
   "source": [
    "# Connect to AWS\n",
    "with open(\"/home/dbogdoll/mcity_data_engine/.secret\", \"r\") as file:\n",
    "    for line in file:\n",
    "        key, value = line.strip().split(\"=\")\n",
    "        os.environ[key] = value\n",
    "\n",
    "s3 = boto3.client(\n",
    "    \"s3\",\n",
    "    aws_access_key_id=os.environ.get(\"AWS_ACCESS_KEY_ID\", None),\n",
    "    aws_secret_access_key=os.environ.get(\"AWS_SECRET_ACCESS_KEY\", None),\n",
    ")"
   ]
  },
  {
   "cell_type": "code",
   "execution_count": 105,
   "metadata": {},
   "outputs": [
    {
     "name": "stdout",
     "output_type": "stream",
     "text": [
      "Processed 24 cameras\n"
     ]
    }
   ],
   "source": [
    "cameras = {\n",
    "    \"Geddes_Huron_1\",\n",
    "    \"Geddes_Huron_2\",\n",
    "    \"Huron_Plymouth_1\",\n",
    "    \"Huron_Plymouth_2\",\n",
    "    \"Main_stadium_1\",\n",
    "    \"Main_stadium_2\",\n",
    "    \"Plymouth_Beal\",\n",
    "    \"Plymouth_Bishop\",\n",
    "    \"Plymouth_EPA\",\n",
    "    \"Plymouth_Georgetown\",\n",
    "    \"State_Ellsworth_NE\",\n",
    "    \"State_Ellsworth_NW\",\n",
    "    \"State_Ellsworth_SE\",\n",
    "    \"State_Ellsworth_SW\",\n",
    "    \"Fuller_Fuller_CT\",\n",
    "    \"Fuller_Glazier_1\",\n",
    "    \"Fuller_Glazier_2\",\n",
    "    \"Fuller_Glen\",\n",
    "    \"Dexter_Maple_1\",\n",
    "    \"Dexter_Maple_2\",\n",
    "    \"Hubbard_Huron_1\",\n",
    "    \"Hubbard_Huron_2\",\n",
    "    \"Maple_Miller_1\",\n",
    "    \"Maple_Miller_2\",    \n",
    "}\n",
    "\n",
    "cameras_dict = {camera.lower(): {} for camera in cameras}\n",
    "\n",
    "for id, camera in enumerate(cameras_dict):\n",
    "    if camera not in cameras_excluded:\n",
    "        cameras_dict[camera][\"id\"] = id\n",
    "        cameras_dict[camera][\"aws-sources\"] = {}\n",
    "\n",
    "print(f\"Processed {len(cameras_dict)} cameras\")"
   ]
  },
  {
   "cell_type": "code",
   "execution_count": 106,
   "metadata": {},
   "outputs": [],
   "source": [
    "def process_aws_result(result):\n",
    "    if 'CommonPrefixes' in result:\n",
    "        folders = [prefix['Prefix'] for prefix in result['CommonPrefixes']] # Get list of folders from AWS response\n",
    "        return folders\n",
    "    else:\n",
    "        return None"
   ]
  },
  {
   "cell_type": "code",
   "execution_count": 107,
   "metadata": {},
   "outputs": [
    {
     "name": "stderr",
     "output_type": "stream",
     "text": [
      "Processing AWS sources: 100%|██████████| 2/2 [00:00<00:00,  6.36it/s]\n"
     ]
    }
   ],
   "source": [
    "aws_sources = {\n",
    "    \"sip-sensor-data\":[\"\"],\n",
    "    \"sip-sensor-data2\":[\"wheeler1/\",\"wheeler2/\"],\n",
    "}\n",
    "\n",
    "for bucket in tqdm(aws_sources, desc=\"Processing AWS sources\"):\n",
    "    for folder in aws_sources[bucket]:\n",
    "        # Get and pre-process AWS data\n",
    "        result = s3.list_objects_v2(Bucket=bucket, Prefix=folder, Delimiter='/')\n",
    "        folders = process_aws_result(result)\n",
    "\n",
    "        #Align folder names with camera names\n",
    "        folders_aligned = [re.sub(r'(?<!_)(\\d)', r'_\\1', folder.lower().rstrip('/')) for folder in folders] # Align varying AWS folder names with camera names\n",
    "        folders_aligned = [folder.replace('fullerct', 'fuller_ct') for folder in folders_aligned]  # Replace \"fullerct\" with \"fuller_ct\" to align with camera names\n",
    "        folders_aligned = [folder.replace('fullser', 'fuller') for folder in folders_aligned]  # Fix \"fullser\" typo in AWS\n",
    "\n",
    "        # Check cameras for AWS sources\n",
    "        if folders:\n",
    "            for camera_name in cameras_dict:\n",
    "                for folder_name, folder_name_aligned in zip(folders, folders_aligned):\n",
    "                    if camera_name in folder_name_aligned and \"gs_\" in folder_name_aligned: # gs_ is the prefix used in AWS\n",
    "                        aws_source = f\"{bucket}/{folder_name}\"\n",
    "                        if aws_source not in cameras_dict[camera_name][\"aws-sources\"]:\n",
    "                            cameras_dict[camera_name][\"aws-sources\"][aws_source] = {}\n",
    "        else:\n",
    "            print(f\"AWS did not return a list of folders for {bucket}/{folder}\")\n",
    "            print(result)\n",
    "\n"
   ]
  },
  {
   "cell_type": "code",
   "execution_count": 108,
   "metadata": {},
   "outputs": [],
   "source": [
    "def select_data():\n",
    "    n_files_to_download = 0\n",
    "    download_size_bytes = 0\n",
    "    for camera in tqdm(cameras_dict, desc=\"Looking for data entries in range\"):\n",
    "        for aws_source in cameras_dict[camera][\"aws-sources\"]:\n",
    "            bucket = aws_source.split(\"/\")[0]\n",
    "            prefix_camera = \"/\".join(aws_source.split(\"/\")[1:])\n",
    "            result = s3.list_objects_v2(Bucket=bucket, Prefix=prefix_camera, Delimiter='/')\n",
    "            folders_day = process_aws_result(result)        # Each folder represents a day\n",
    "            for folder_day in folders_day:\n",
    "                date = folder_day.split('/')[-2]\n",
    "                timestamp = datetime.strptime(date, '%Y-%m-%d')\n",
    "                if start_date <= timestamp <= end_date:     # Only collect data within the date range\n",
    "                    cameras_dict[camera][\"aws-sources\"][aws_source][date] = {}\n",
    "                    result = s3.list_objects_v2(Bucket=bucket, Prefix=folder_day, Delimiter='/')\n",
    "                    folders_hour = process_aws_result(result)    # Each folder represents an hour\n",
    "                    for folder_hour in folders_hour:\n",
    "                        result = s3.list_objects_v2(Bucket=bucket, Prefix=folder_hour, Delimiter='/')\n",
    "                        files = result[\"Contents\"]\n",
    "                        for file in files:\n",
    "                            n_files_to_download += 1\n",
    "                            download_size_bytes += file[\"Size\"]\n",
    "                            file_name = os.path.basename(file[\"Key\"])\n",
    "                            cameras_dict[camera][\"aws-sources\"][aws_source][date][file_name] = {}\n",
    "                            cameras_dict[camera][\"aws-sources\"][aws_source][date][file_name][\"key\"] = file[\"Key\"]\n",
    "                            cameras_dict[camera][\"aws-sources\"][aws_source][date][file_name][\"size\"] = file[\"Size\"]\n",
    "                            cameras_dict[camera][\"aws-sources\"][aws_source][date][file_name][\"date\"] = file[\"LastModified\"].strftime(\"%Y-%m-%d %H:%M:%S\")\n",
    "\n",
    "                            # For testing purposes\n",
    "                            if n_files_to_download > 10:\n",
    "                                return n_files_to_download, download_size_bytes\n",
    "    print(f\"Found {n_files_to_download} files to download\")\n",
    "    return n_files_to_download, download_size_bytes"
   ]
  },
  {
   "cell_type": "code",
   "execution_count": 109,
   "metadata": {},
   "outputs": [
    {
     "name": "stderr",
     "output_type": "stream",
     "text": [
      "Looking for data entries in range:   0%|          | 0/24 [00:00<?, ?it/s]\n"
     ]
    }
   ],
   "source": [
    "n_files_to_download, download_size_bytes = select_data()"
   ]
  },
  {
   "cell_type": "code",
   "execution_count": 110,
   "metadata": {},
   "outputs": [],
   "source": [
    "# Safety checks prior to downloading\n",
    "passed_checks = True\n",
    "\n",
    "# Check if each camera was assigned at least one AWS source\n",
    "for camera in cameras_dict:\n",
    "    if len(cameras_dict[camera][\"aws-sources\"]) == 0:\n",
    "        print(f\"Camera {camera} has no AWS sources\")\n",
    "        passed_checks = False\n",
    "\n",
    "# Check if the total size of the data to download is within the limit\n",
    "MAX_SIZE_TB = 1.5\n",
    "total_size_tb = download_size_bytes / (1024 ** 4)\n",
    "if total_size_tb > MAX_SIZE_TB:\n",
    "    print(f\"Total size {total_size_tb} TB exceeds {MAX_SIZE_TB} TB\")\n",
    "    passed_checks = False\n",
    "\n",
    "# Check if the date range is within the limit\n",
    "MAX_DAYS = 7\n",
    "days_delta = (end_date - start_date).days + 1 # +1 to include the end date\n",
    "if (days_delta) > MAX_DAYS:\n",
    "    print(f\"Date range exceeds {MAX_DAYS} days\")\n",
    "    passed_checks = False"
   ]
  },
  {
   "cell_type": "code",
   "execution_count": 111,
   "metadata": {},
   "outputs": [
    {
     "data": {
      "text/html": [
       "Tracking run with wandb version 0.18.6"
      ],
      "text/plain": [
       "<IPython.core.display.HTML object>"
      ]
     },
     "metadata": {},
     "output_type": "display_data"
    },
    {
     "data": {
      "text/html": [
       "Run data is saved locally in <code>/home/dbogdoll/mcity_data_engine/logs/wandb/wandb/run-20241113_163644-uv28wcz4</code>"
      ],
      "text/plain": [
       "<IPython.core.display.HTML object>"
      ]
     },
     "metadata": {},
     "output_type": "display_data"
    },
    {
     "data": {
      "text/html": [
       "Syncing run <strong><a href='https://wandb.ai/mcity/Data%20Engine%20Download/runs/uv28wcz4' target=\"_blank\">20231119_to_20231125</a></strong> to <a href='https://wandb.ai/mcity/Data%20Engine%20Download' target=\"_blank\">Weights & Biases</a> (<a href='https://wandb.me/developer-guide' target=\"_blank\">docs</a>)<br/>"
      ],
      "text/plain": [
       "<IPython.core.display.HTML object>"
      ]
     },
     "metadata": {},
     "output_type": "display_data"
    },
    {
     "data": {
      "text/html": [
       " View project at <a href='https://wandb.ai/mcity/Data%20Engine%20Download' target=\"_blank\">https://wandb.ai/mcity/Data%20Engine%20Download</a>"
      ],
      "text/plain": [
       "<IPython.core.display.HTML object>"
      ]
     },
     "metadata": {},
     "output_type": "display_data"
    },
    {
     "data": {
      "text/html": [
       " View run at <a href='https://wandb.ai/mcity/Data%20Engine%20Download/runs/uv28wcz4' target=\"_blank\">https://wandb.ai/mcity/Data%20Engine%20Download/runs/uv28wcz4</a>"
      ],
      "text/plain": [
       "<IPython.core.display.HTML object>"
      ]
     },
     "metadata": {},
     "output_type": "display_data"
    },
    {
     "name": "stderr",
     "output_type": "stream",
     "text": [
      "Downloading data: 100%|██████████| 11/11 [00:30<00:00,  2.81s/it]\n",
      "Checking downloaded data: 100%|██████████| 24/24 [00:00<00:00, 535443.06it/s]\n"
     ]
    },
    {
     "name": "stdout",
     "output_type": "stream",
     "text": [
      "True\n"
     ]
    },
    {
     "data": {
      "text/html": [
       "\n",
       "    <style>\n",
       "        .wandb-row {\n",
       "            display: flex;\n",
       "            flex-direction: row;\n",
       "            flex-wrap: wrap;\n",
       "            justify-content: flex-start;\n",
       "            width: 100%;\n",
       "        }\n",
       "        .wandb-col {\n",
       "            display: flex;\n",
       "            flex-direction: column;\n",
       "            flex-basis: 100%;\n",
       "            flex: 1;\n",
       "            padding: 10px;\n",
       "        }\n",
       "    </style>\n",
       "<div class=\"wandb-row\"><div class=\"wandb-col\"><h3>Run history:</h3><br/><table class=\"wandb\"><tr><td>download/mb_per_second</td><td>▁▅▅▄█▆▅▃▄▆▃</td></tr><tr><td>global_step</td><td>▁▂▂▃▄▅▅▆▇▇█</td></tr></table><br/></div><div class=\"wandb-col\"><h3>Run summary:</h3><br/><table class=\"wandb\"><tr><td>download/mb_per_second</td><td>36.74863</td></tr><tr><td>global_step</td><td>11</td></tr></table><br/></div></div>"
      ],
      "text/plain": [
       "<IPython.core.display.HTML object>"
      ]
     },
     "metadata": {},
     "output_type": "display_data"
    },
    {
     "data": {
      "text/html": [
       " View run <strong style=\"color:#cdcd00\">20231119_to_20231125</strong> at: <a href='https://wandb.ai/mcity/Data%20Engine%20Download/runs/uv28wcz4' target=\"_blank\">https://wandb.ai/mcity/Data%20Engine%20Download/runs/uv28wcz4</a><br/> View project at: <a href='https://wandb.ai/mcity/Data%20Engine%20Download' target=\"_blank\">https://wandb.ai/mcity/Data%20Engine%20Download</a><br/>Synced 5 W&B file(s), 0 media file(s), 0 artifact file(s) and 1 other file(s)"
      ],
      "text/plain": [
       "<IPython.core.display.HTML object>"
      ]
     },
     "metadata": {},
     "output_type": "display_data"
    },
    {
     "data": {
      "text/html": [
       "Find logs at: <code>/home/dbogdoll/mcity_data_engine/logs/wandb/wandb/run-20241113_163644-uv28wcz4/logs</code>"
      ],
      "text/plain": [
       "<IPython.core.display.HTML object>"
      ]
     },
     "metadata": {},
     "output_type": "display_data"
    }
   ],
   "source": [
    "# Download data\n",
    "def download_data(delete_old_data=False):\n",
    "    mb_per_s_list = []\n",
    "    \n",
    "    if passed_checks:\n",
    "        download_successful = True\n",
    "\n",
    "        if delete_old_data:\n",
    "            try:\n",
    "                shutil.rmtree(data_target)\n",
    "            except:\n",
    "                pass\n",
    "            os.makedirs(data_target) \n",
    "\n",
    "        step = 0\n",
    "        writer = SummaryWriter(log_dir=\"logs/download/s3\")\n",
    "        download_started = datetime.now().strftime(\"%Y-%m-%d %H:%M:%S\")\n",
    "        with tqdm(desc=\"Downloading data\", total=n_files_to_download) as pbar:\n",
    "            for camera in cameras_dict:\n",
    "                for aws_source in cameras_dict[camera][\"aws-sources\"]:\n",
    "                    bucket = aws_source.split(\"/\", 1)[0]\n",
    "                    for date in cameras_dict[camera][\"aws-sources\"][aws_source]:\n",
    "                        for file in cameras_dict[camera][\"aws-sources\"][aws_source][date]:\n",
    "                            time_start = time.time()\n",
    "                            \n",
    "                            # AWS S3 Download\n",
    "                            file_name = os.path.basename(file)\n",
    "                            key = cameras_dict[camera][\"aws-sources\"][aws_source][date][file_name][\"key\"]\n",
    "                            target = os.path.join(data_target, file_name)\n",
    "                            s3.download_file(bucket, key, target)\n",
    "                            \n",
    "                            # Calculate duration and GB/s\n",
    "                            file_size_mb = cameras_dict[camera][\"aws-sources\"][aws_source][date][file_name][\"size\"] / (1024 ** 2)\n",
    "                            time_end = time.time()\n",
    "                            duration = time_end - time_start\n",
    "                            mb_per_s = file_size_mb / duration\n",
    "                            mb_per_s_list.append(mb_per_s)\n",
    "                            \n",
    "                            # Update stats\n",
    "                            step += 1\n",
    "                            pbar.update(1)\n",
    "                            writer.add_scalar(\"download/mb_per_second\", mb_per_s, step)\n",
    "        writer.close()\n",
    "\n",
    "        # Check if all files were downloaded properly\n",
    "        downloaded_files = os.listdir(data_target)\n",
    "\n",
    "        for camera in tqdm(cameras_dict, desc=\"Checking downloaded data\"):\n",
    "            for aws_source in cameras_dict[camera][\"aws-sources\"]:\n",
    "                for date in cameras_dict[camera][\"aws-sources\"][aws_source]:\n",
    "                    for file in cameras_dict[camera][\"aws-sources\"][aws_source][date]:\n",
    "                        if file not in downloaded_files:\n",
    "                            download_successful = False\n",
    "                            print(f\"File {file} was not downloaded properly\")\n",
    "        \n",
    "        if download_successful: # Save log only if data is fully downloaded\n",
    "            log = {}\n",
    "            log[\"selection_start_date\"] = start_date.strftime(\"%Y-%m-%d\")\n",
    "            log[\"selection_end_date\"] = end_date.strftime(\"%Y-%m-%d\")\n",
    "            log[\"old_files_deleted\"] = delete_old_data\n",
    "            log[\"n_files_to_download\"] = n_files_to_download\n",
    "            log[\"download_size_tb\"] = total_size_tb\n",
    "            log[\"download_started\"] = download_started\n",
    "            log[\"download_ended\"] = datetime.now().strftime(\"%Y-%m-%d %H:%M:%S\")\n",
    "            log[\"download_speed_avg_mbs\"] = sum(mb_per_s_list) / len(mb_per_s_list)\n",
    "            log[\"data\"] = cameras_dict\n",
    "            log_name = download_started.replace(\" \", \"_\").replace(\":\", \"_\") + \".json\"\n",
    "            log_file_path = os.path.join(log_target, log_name)\n",
    "            with open(log_file_path, 'w') as json_file:\n",
    "                json.dump(log, json_file, indent=4)  \n",
    "        else:\n",
    "            print(\"Download failed\")\n",
    "    else:\n",
    "        download_successful = False\n",
    "        print(\"Safety checks failed. Not downloading data\")\n",
    "\n",
    "    return download_successful\n",
    "\n",
    "run = wandb.init(\n",
    "    name=f\"{start_date.strftime('%Y%m%d')}_to_{end_date.strftime('%Y%m%d')}\",\n",
    "    sync_tensorboard=True,\n",
    "    group=\"S3\",\n",
    "    job_type=\"download\",\n",
    "    project=\"Data Engine Download\",\n",
    ")\n",
    "\n",
    "download_successful = download_data(delete_old_data=True)\n",
    "print(download_successful)\n",
    "run.finish(exit_code=0)\n"
   ]
  },
  {
   "cell_type": "code",
   "execution_count": 112,
   "metadata": {},
   "outputs": [
    {
     "name": "stderr",
     "output_type": "stream",
     "text": [
      "Unpacking data: 100%|██████████| 24/24 [00:02<00:00,  8.78it/s]\n"
     ]
    }
   ],
   "source": [
    "# Unpack data\n",
    "# Support V51 dataset structure https://docs.voxel51.com/user_guide/dataset_creation/datasets.html#fiftyonedataset\n",
    "\n",
    "def unpack_data():\n",
    "    v51_metadata = {}\n",
    "    v51_metadata[\"name\"] = \"Data Engine Rolling Dataset\"\n",
    "\n",
    "    v51_samples = {}\n",
    "    v51_samples_array = []\n",
    "    if download_successful:\n",
    "        for camera in tqdm(cameras_dict, desc=\"Unpacking data\"):\n",
    "            for aws_source in cameras_dict[camera][\"aws-sources\"]:\n",
    "                for date in cameras_dict[camera][\"aws-sources\"][aws_source]:\n",
    "                    for file in cameras_dict[camera][\"aws-sources\"][aws_source][date]:\n",
    "                        file_path = os.path.join(data_target, file)\n",
    "                        unpacking_successful = True\n",
    "                        with open(file_path, 'r') as file:\n",
    "                            for line in file:\n",
    "                                try:\n",
    "                                    data = json.loads(line)\n",
    "                                    v51_sample = {}\n",
    "                                    if \"time\" in data and \"data\" in data:\n",
    "                                        timestamp = data.get(\"time\")\n",
    "                                        image_base64 = data.get(\"data\")\n",
    "\n",
    "                                        # Decode the base64 image data\n",
    "                                        image_data = base64.b64decode(image_base64)\n",
    "\n",
    "                                        time_obj = datetime.strptime(timestamp, '%Y-%m-%d %H:%M:%S.%f')\n",
    "                                        formatted_time = time_obj.strftime('%Y-%m-%d_%H-%M-%S')\n",
    "                                        image_filename = f\"{camera}_{formatted_time}.jpg\"\n",
    "                                        output_path = os.path.join(data_target, image_filename)\n",
    "\n",
    "                                        # Prepare import with V51\n",
    "                                        v51_sample[\"filepath\"] = output_path\n",
    "                                        v51_sample[\"sensor\"] = camera\n",
    "                                        v51_sample[\"timestamp\"] = formatted_time\n",
    "                                        v51_samples_array.append(v51_sample)    \n",
    "                                        # Save the decoded image data as a JPEG\n",
    "                                        with open(output_path, 'wb') as image_file:\n",
    "                                            image_file.write(image_data)\n",
    "\n",
    "                                    elif \"image\" in data and \"sensor_name\" in data and \"event_timestamp\" in data:\n",
    "                                        image_base64 = data.get(\"image\")\n",
    "                                        sensor_name = data.get(\"sensor_name\")\n",
    "                                        timestamp = data.get(\"event_timestamp\")\n",
    "                                        # TODO Check if 'camera' == sensor_name (or at least similar)\n",
    "                                        # Decode the base64 image data\n",
    "                                        image_data = base64.b64decode(image_base64)\n",
    "                                        \n",
    "                                        # Get timestamps in UTC and Michigan time\n",
    "                                        utc_time = datetime.fromtimestamp(timestamp, tz=datetime.timezone.utc)\n",
    "                                        michigan_tz = pytz.timezone('America/Detroit')\n",
    "                                        michigan_time = utc_time.astimezone(michigan_tz)\n",
    "                                        formatted_time = michigan_time.strftime('%Y%m%d-%H%M%S-%f')[:-3]\n",
    "\n",
    "                                        image_filename = f\"{camera}_{formatted_time}.jpg\"\n",
    "                                        output_path = os.path.join(data_target, image_filename)\n",
    "\n",
    "                                        # Prepare import with V51\n",
    "                                        v51_sample[\"filepath\"] = output_path\n",
    "                                        v51_sample[\"sensor\"] = camera\n",
    "                                        v51_sample[\"timestamp\"] = formatted_time\n",
    "                                        v51_samples_array.append(v51_sample) \n",
    "                                        # Save the decoded image data as a JPEG\n",
    "                                        with open(output_path, 'wb') as image_file:\n",
    "                                            image_file.write(image_data)\n",
    "                                    else:\n",
    "                                        unpacking_successful = False\n",
    "                                        print(f\"Format cannot be procssed: {data}\")\n",
    "\n",
    "                                except json.JSONDecodeError as e:\n",
    "                                    unpacking_successful = False\n",
    "                                    print(f\"Error decoding JSON: {e}\")\n",
    "                        \n",
    "                        # Delete the original file if unpacking was successful\n",
    "                        if unpacking_successful:\n",
    "                            os.remove(file_path)\n",
    "\n",
    "    # Store V51 metadata files\n",
    "    v51_samples[\"samples\"] = v51_samples_array\n",
    "    file_path = os.path.join(storage_target_root, \"metadata.json\")\n",
    "    with open(file_path, 'w') as json_file:\n",
    "        json.dump(v51_metadata, json_file, indent=4)\n",
    "\n",
    "    file_path = os.path.join(storage_target_root, \"samples.json\")\n",
    "    with open(file_path, 'w') as json_file:\n",
    "        json.dump(v51_samples, json_file, indent=4)\n",
    "\n",
    "unpack_data()"
   ]
  },
  {
   "cell_type": "code",
   "execution_count": null,
   "metadata": {},
   "outputs": [
    {
     "name": "stdout",
     "output_type": "stream",
     "text": [
      "/media/dbogdoll/Datasets/data_engine_rolling\n",
      " 100% |█████████████| 16483/16483 [1.5s elapsed, 0s remaining, 11.4K samples/s]         \n",
      "Name:        my-dataset\n",
      "Media type:  image\n",
      "Num samples: 16483\n",
      "Persistent:  False\n",
      "Tags:        []\n",
      "Sample fields:\n",
      "    id:               fiftyone.core.fields.ObjectIdField\n",
      "    filepath:         fiftyone.core.fields.StringField\n",
      "    tags:             fiftyone.core.fields.ListField(fiftyone.core.fields.StringField)\n",
      "    metadata:         fiftyone.core.fields.EmbeddedDocumentField(fiftyone.core.metadata.ImageMetadata)\n",
      "    created_at:       fiftyone.core.fields.DateTimeField\n",
      "    last_modified_at: fiftyone.core.fields.DateTimeField\n",
      "    sensor:           fiftyone.core.fields.StringField\n",
      "    timestamp:        fiftyone.core.fields.StringField\n",
      "[<Sample: {\n",
      "    'id': '67351c527e94e68f6ace14e3',\n",
      "    'media_type': 'image',\n",
      "    'filepath': '/media/dbogdoll/Datasets/data_engine_rolling/data/geddes_huron_1_2023-11-18_19-00-00.jpg',\n",
      "    'tags': [],\n",
      "    'metadata': None,\n",
      "    'created_at': datetime.datetime(2024, 11, 13, 21, 38, 26, 568000),\n",
      "    'last_modified_at': datetime.datetime(2024, 11, 13, 21, 38, 26, 568000),\n",
      "    'sensor': 'geddes_huron_1',\n",
      "    'timestamp': '2023-11-18_19-00-00',\n",
      "}>, <Sample: {\n",
      "    'id': '67351c527e94e68f6ace14e4',\n",
      "    'media_type': 'image',\n",
      "    'filepath': '/media/dbogdoll/Datasets/data_engine_rolling/data/geddes_huron_1_2023-11-18_19-00-00.jpg',\n",
      "    'tags': [],\n",
      "    'metadata': None,\n",
      "    'created_at': datetime.datetime(2024, 11, 13, 21, 38, 26, 571000),\n",
      "    'last_modified_at': datetime.datetime(2024, 11, 13, 21, 38, 26, 571000),\n",
      "    'sensor': 'geddes_huron_1',\n",
      "    'timestamp': '2023-11-18_19-00-00',\n",
      "}>, <Sample: {\n",
      "    'id': '67351c527e94e68f6ace14e5',\n",
      "    'media_type': 'image',\n",
      "    'filepath': '/media/dbogdoll/Datasets/data_engine_rolling/data/geddes_huron_1_2023-11-18_19-00-00.jpg',\n",
      "    'tags': [],\n",
      "    'metadata': None,\n",
      "    'created_at': datetime.datetime(2024, 11, 13, 21, 38, 26, 571000),\n",
      "    'last_modified_at': datetime.datetime(2024, 11, 13, 21, 38, 26, 571000),\n",
      "    'sensor': 'geddes_huron_1',\n",
      "    'timestamp': '2023-11-18_19-00-00',\n",
      "}>]\n"
     ]
    }
   ],
   "source": [
    "name = \"my-dataset\"\n",
    "dataset_dir = storage_target_root\n",
    "print(dataset_dir)\n",
    "\n",
    "# Create the dataset\n",
    "dataset = fo.Dataset.from_dir(\n",
    "    dataset_dir=dataset_dir,\n",
    "    dataset_type=fo.types.FiftyOneDataset,\n",
    "    name=name,\n",
    ")\n",
    "\n",
    "# View summary info about the dataset\n",
    "print(dataset)\n",
    "\n",
    "# Print the first few samples in the dataset\n",
    "print(dataset.head())"
   ]
  },
  {
   "cell_type": "code",
   "execution_count": null,
   "metadata": {},
   "outputs": [
    {
     "ename": "ServerSelectionTimeoutError",
     "evalue": "localhost:46813: [Errno 111] Connection refused (configured timeouts: socketTimeoutMS: 20000.0ms, connectTimeoutMS: 20000.0ms), Timeout: 30s, Topology Description: <TopologyDescription id: 673517ce7e94e68f6ace14db, topology_type: Single, servers: [<ServerDescription ('localhost', 46813) server_type: Unknown, rtt: None, error=AutoReconnect('localhost:46813: [Errno 111] Connection refused (configured timeouts: socketTimeoutMS: 20000.0ms, connectTimeoutMS: 20000.0ms)')>]>",
     "output_type": "error",
     "traceback": [
      "\u001b[0;31m---------------------------------------------------------------------------\u001b[0m",
      "\u001b[0;31mServerSelectionTimeoutError\u001b[0m               Traceback (most recent call last)",
      "Cell \u001b[0;32mIn[116], line 2\u001b[0m\n\u001b[1;32m      1\u001b[0m NUM_WORKERS\u001b[38;5;241m=\u001b[39m\u001b[38;5;241m32\u001b[39m\n\u001b[0;32m----> 2\u001b[0m \u001b[43mdataset\u001b[49m\u001b[38;5;241;43m.\u001b[39;49m\u001b[43mcompute_metadata\u001b[49m\u001b[43m(\u001b[49m\u001b[43mnum_workers\u001b[49m\u001b[38;5;241;43m=\u001b[39;49m\u001b[43mNUM_WORKERS\u001b[49m\u001b[43m)\u001b[49m\n",
      "File \u001b[0;32m~/mcity_data_engine/.venv/lib/python3.12/site-packages/fiftyone/core/collections.py:3219\u001b[0m, in \u001b[0;36mSampleCollection.compute_metadata\u001b[0;34m(self, overwrite, num_workers, skip_failures, warn_failures, progress)\u001b[0m\n\u001b[1;32m   3195\u001b[0m \u001b[38;5;28;01mdef\u001b[39;00m \u001b[38;5;21mcompute_metadata\u001b[39m(\n\u001b[1;32m   3196\u001b[0m     \u001b[38;5;28mself\u001b[39m,\n\u001b[1;32m   3197\u001b[0m     overwrite\u001b[38;5;241m=\u001b[39m\u001b[38;5;28;01mFalse\u001b[39;00m,\n\u001b[0;32m   (...)\u001b[0m\n\u001b[1;32m   3201\u001b[0m     progress\u001b[38;5;241m=\u001b[39m\u001b[38;5;28;01mNone\u001b[39;00m,\n\u001b[1;32m   3202\u001b[0m ):\n\u001b[1;32m   3203\u001b[0m \u001b[38;5;250m    \u001b[39m\u001b[38;5;124;03m\"\"\"Populates the ``metadata`` field of all samples in the collection.\u001b[39;00m\n\u001b[1;32m   3204\u001b[0m \n\u001b[1;32m   3205\u001b[0m \u001b[38;5;124;03m    Any samples with existing metadata are skipped, unless\u001b[39;00m\n\u001b[0;32m   (...)\u001b[0m\n\u001b[1;32m   3217\u001b[0m \u001b[38;5;124;03m            (None), or a progress callback function to invoke instead\u001b[39;00m\n\u001b[1;32m   3218\u001b[0m \u001b[38;5;124;03m    \"\"\"\u001b[39;00m\n\u001b[0;32m-> 3219\u001b[0m     \u001b[43mfomt\u001b[49m\u001b[38;5;241;43m.\u001b[39;49m\u001b[43mcompute_metadata\u001b[49m\u001b[43m(\u001b[49m\n\u001b[1;32m   3220\u001b[0m \u001b[43m        \u001b[49m\u001b[38;5;28;43mself\u001b[39;49m\u001b[43m,\u001b[49m\n\u001b[1;32m   3221\u001b[0m \u001b[43m        \u001b[49m\u001b[43moverwrite\u001b[49m\u001b[38;5;241;43m=\u001b[39;49m\u001b[43moverwrite\u001b[49m\u001b[43m,\u001b[49m\n\u001b[1;32m   3222\u001b[0m \u001b[43m        \u001b[49m\u001b[43mnum_workers\u001b[49m\u001b[38;5;241;43m=\u001b[39;49m\u001b[43mnum_workers\u001b[49m\u001b[43m,\u001b[49m\n\u001b[1;32m   3223\u001b[0m \u001b[43m        \u001b[49m\u001b[43mskip_failures\u001b[49m\u001b[38;5;241;43m=\u001b[39;49m\u001b[43mskip_failures\u001b[49m\u001b[43m,\u001b[49m\n\u001b[1;32m   3224\u001b[0m \u001b[43m        \u001b[49m\u001b[43mwarn_failures\u001b[49m\u001b[38;5;241;43m=\u001b[39;49m\u001b[43mwarn_failures\u001b[49m\u001b[43m,\u001b[49m\n\u001b[1;32m   3225\u001b[0m \u001b[43m        \u001b[49m\u001b[43mprogress\u001b[49m\u001b[38;5;241;43m=\u001b[39;49m\u001b[43mprogress\u001b[49m\u001b[43m,\u001b[49m\n\u001b[1;32m   3226\u001b[0m \u001b[43m    \u001b[49m\u001b[43m)\u001b[49m\n",
      "File \u001b[0;32m~/mcity_data_engine/.venv/lib/python3.12/site-packages/fiftyone/core/metadata.py:397\u001b[0m, in \u001b[0;36mcompute_metadata\u001b[0;34m(sample_collection, overwrite, num_workers, skip_failures, warn_failures, progress)\u001b[0m\n\u001b[1;32m    393\u001b[0m     _compute_metadata(\n\u001b[1;32m    394\u001b[0m         sample_collection, overwrite\u001b[38;5;241m=\u001b[39moverwrite, progress\u001b[38;5;241m=\u001b[39mprogress\n\u001b[1;32m    395\u001b[0m     )\n\u001b[1;32m    396\u001b[0m \u001b[38;5;28;01melse\u001b[39;00m:\n\u001b[0;32m--> 397\u001b[0m     \u001b[43m_compute_metadata_multi\u001b[49m\u001b[43m(\u001b[49m\n\u001b[1;32m    398\u001b[0m \u001b[43m        \u001b[49m\u001b[43msample_collection\u001b[49m\u001b[43m,\u001b[49m\n\u001b[1;32m    399\u001b[0m \u001b[43m        \u001b[49m\u001b[43mnum_workers\u001b[49m\u001b[43m,\u001b[49m\n\u001b[1;32m    400\u001b[0m \u001b[43m        \u001b[49m\u001b[43moverwrite\u001b[49m\u001b[38;5;241;43m=\u001b[39;49m\u001b[43moverwrite\u001b[49m\u001b[43m,\u001b[49m\n\u001b[1;32m    401\u001b[0m \u001b[43m        \u001b[49m\u001b[43mprogress\u001b[49m\u001b[38;5;241;43m=\u001b[39;49m\u001b[43mprogress\u001b[49m\u001b[43m,\u001b[49m\n\u001b[1;32m    402\u001b[0m \u001b[43m    \u001b[49m\u001b[43m)\u001b[49m\n\u001b[1;32m    404\u001b[0m \u001b[38;5;28;01mif\u001b[39;00m skip_failures \u001b[38;5;129;01mand\u001b[39;00m \u001b[38;5;129;01mnot\u001b[39;00m warn_failures:\n\u001b[1;32m    405\u001b[0m     \u001b[38;5;28;01mreturn\u001b[39;00m\n",
      "File \u001b[0;32m~/mcity_data_engine/.venv/lib/python3.12/site-packages/fiftyone/core/metadata.py:516\u001b[0m, in \u001b[0;36m_compute_metadata_multi\u001b[0;34m(sample_collection, num_workers, overwrite, batch_size, progress)\u001b[0m\n\u001b[1;32m    513\u001b[0m \u001b[38;5;28;01mif\u001b[39;00m \u001b[38;5;129;01mnot\u001b[39;00m overwrite:\n\u001b[1;32m    514\u001b[0m     sample_collection \u001b[38;5;241m=\u001b[39m sample_collection\u001b[38;5;241m.\u001b[39mexists(\u001b[38;5;124m\"\u001b[39m\u001b[38;5;124mmetadata\u001b[39m\u001b[38;5;124m\"\u001b[39m, \u001b[38;5;28;01mFalse\u001b[39;00m)\n\u001b[0;32m--> 516\u001b[0m ids, filepaths, media_types \u001b[38;5;241m=\u001b[39m \u001b[43msample_collection\u001b[49m\u001b[38;5;241;43m.\u001b[39;49m\u001b[43mvalues\u001b[49m\u001b[43m(\u001b[49m\n\u001b[1;32m    517\u001b[0m \u001b[43m    \u001b[49m\u001b[43m[\u001b[49m\u001b[38;5;124;43m\"\u001b[39;49m\u001b[38;5;124;43mid\u001b[39;49m\u001b[38;5;124;43m\"\u001b[39;49m\u001b[43m,\u001b[49m\u001b[43m \u001b[49m\u001b[38;5;124;43m\"\u001b[39;49m\u001b[38;5;124;43mfilepath\u001b[39;49m\u001b[38;5;124;43m\"\u001b[39;49m\u001b[43m,\u001b[49m\u001b[43m \u001b[49m\u001b[38;5;124;43m\"\u001b[39;49m\u001b[38;5;124;43m_media_type\u001b[39;49m\u001b[38;5;124;43m\"\u001b[39;49m\u001b[43m]\u001b[49m\u001b[43m,\u001b[49m\n\u001b[1;32m    518\u001b[0m \u001b[43m    \u001b[49m\u001b[43m_allow_missing\u001b[49m\u001b[38;5;241;43m=\u001b[39;49m\u001b[38;5;28;43;01mTrue\u001b[39;49;00m\u001b[43m,\u001b[49m\n\u001b[1;32m    519\u001b[0m \u001b[43m\u001b[49m\u001b[43m)\u001b[49m\n\u001b[1;32m    521\u001b[0m num_samples \u001b[38;5;241m=\u001b[39m \u001b[38;5;28mlen\u001b[39m(ids)\n\u001b[1;32m    522\u001b[0m \u001b[38;5;28;01mif\u001b[39;00m num_samples \u001b[38;5;241m==\u001b[39m \u001b[38;5;241m0\u001b[39m:\n",
      "File \u001b[0;32m~/mcity_data_engine/.venv/lib/python3.12/site-packages/fiftyone/core/collections.py:8647\u001b[0m, in \u001b[0;36mSampleCollection.values\u001b[0;34m(self, field_or_expr, expr, missing_value, unwind, _allow_missing, _big_result, _raw, _field)\u001b[0m\n\u001b[1;32m   8531\u001b[0m \u001b[38;5;250m\u001b[39m\u001b[38;5;124;03m\"\"\"Extracts the values of a field from all samples in the collection.\u001b[39;00m\n\u001b[1;32m   8532\u001b[0m \n\u001b[1;32m   8533\u001b[0m \u001b[38;5;124;03mValues aggregations are useful for efficiently extracting a slice of\u001b[39;00m\n\u001b[0;32m   (...)\u001b[0m\n\u001b[1;32m   8635\u001b[0m \u001b[38;5;124;03m    the list of values\u001b[39;00m\n\u001b[1;32m   8636\u001b[0m \u001b[38;5;124;03m\"\"\"\u001b[39;00m\n\u001b[1;32m   8637\u001b[0m make \u001b[38;5;241m=\u001b[39m \u001b[38;5;28;01mlambda\u001b[39;00m field_or_expr: foa\u001b[38;5;241m.\u001b[39mValues(\n\u001b[1;32m   8638\u001b[0m     field_or_expr,\n\u001b[1;32m   8639\u001b[0m     expr\u001b[38;5;241m=\u001b[39mexpr,\n\u001b[0;32m   (...)\u001b[0m\n\u001b[1;32m   8645\u001b[0m     _field\u001b[38;5;241m=\u001b[39m_field,\n\u001b[1;32m   8646\u001b[0m )\n\u001b[0;32m-> 8647\u001b[0m \u001b[38;5;28;01mreturn\u001b[39;00m \u001b[38;5;28;43mself\u001b[39;49m\u001b[38;5;241;43m.\u001b[39;49m\u001b[43m_make_and_aggregate\u001b[49m\u001b[43m(\u001b[49m\u001b[43mmake\u001b[49m\u001b[43m,\u001b[49m\u001b[43m \u001b[49m\u001b[43mfield_or_expr\u001b[49m\u001b[43m)\u001b[49m\n",
      "File \u001b[0;32m~/mcity_data_engine/.venv/lib/python3.12/site-packages/fiftyone/core/collections.py:10182\u001b[0m, in \u001b[0;36mSampleCollection._make_and_aggregate\u001b[0;34m(self, make, args)\u001b[0m\n\u001b[1;32m  10180\u001b[0m \u001b[38;5;28;01mdef\u001b[39;00m \u001b[38;5;21m_make_and_aggregate\u001b[39m(\u001b[38;5;28mself\u001b[39m, make, args):\n\u001b[1;32m  10181\u001b[0m     \u001b[38;5;28;01mif\u001b[39;00m \u001b[38;5;28misinstance\u001b[39m(args, (\u001b[38;5;28mlist\u001b[39m, \u001b[38;5;28mtuple\u001b[39m)):\n\u001b[0;32m> 10182\u001b[0m         \u001b[38;5;28;01mreturn\u001b[39;00m \u001b[38;5;28mtuple\u001b[39m(\u001b[38;5;28;43mself\u001b[39;49m\u001b[38;5;241;43m.\u001b[39;49m\u001b[43maggregate\u001b[49m\u001b[43m(\u001b[49m\u001b[43m[\u001b[49m\u001b[43mmake\u001b[49m\u001b[43m(\u001b[49m\u001b[43marg\u001b[49m\u001b[43m)\u001b[49m\u001b[43m \u001b[49m\u001b[38;5;28;43;01mfor\u001b[39;49;00m\u001b[43m \u001b[49m\u001b[43marg\u001b[49m\u001b[43m \u001b[49m\u001b[38;5;129;43;01min\u001b[39;49;00m\u001b[43m \u001b[49m\u001b[43margs\u001b[49m\u001b[43m]\u001b[49m\u001b[43m)\u001b[49m)\n\u001b[1;32m  10184\u001b[0m     \u001b[38;5;28;01mreturn\u001b[39;00m \u001b[38;5;28mself\u001b[39m\u001b[38;5;241m.\u001b[39maggregate(make(args))\n",
      "File \u001b[0;32m~/mcity_data_engine/.venv/lib/python3.12/site-packages/fiftyone/core/collections.py:9877\u001b[0m, in \u001b[0;36mSampleCollection.aggregate\u001b[0;34m(self, aggregations)\u001b[0m\n\u001b[1;32m   9874\u001b[0m     pipelines\u001b[38;5;241m.\u001b[39mappend(pipeline)\n\u001b[1;32m   9876\u001b[0m \u001b[38;5;66;03m# Run all aggregations\u001b[39;00m\n\u001b[0;32m-> 9877\u001b[0m _results \u001b[38;5;241m=\u001b[39m \u001b[43mfoo\u001b[49m\u001b[38;5;241;43m.\u001b[39;49m\u001b[43maggregate\u001b[49m\u001b[43m(\u001b[49m\u001b[38;5;28;43mself\u001b[39;49m\u001b[38;5;241;43m.\u001b[39;49m\u001b[43m_dataset\u001b[49m\u001b[38;5;241;43m.\u001b[39;49m\u001b[43m_sample_collection\u001b[49m\u001b[43m,\u001b[49m\u001b[43m \u001b[49m\u001b[43mpipelines\u001b[49m\u001b[43m)\u001b[49m\n\u001b[1;32m   9879\u001b[0m \u001b[38;5;66;03m# Parse batch results\u001b[39;00m\n\u001b[1;32m   9880\u001b[0m \u001b[38;5;28;01mif\u001b[39;00m batch_aggs:\n",
      "File \u001b[0;32m~/mcity_data_engine/.venv/lib/python3.12/site-packages/fiftyone/core/odm/database.py:346\u001b[0m, in \u001b[0;36maggregate\u001b[0;34m(collection, pipelines)\u001b[0m\n\u001b[1;32m    343\u001b[0m     \u001b[38;5;28;01mreturn\u001b[39;00m _do_async_pooled_aggregate(collection, pipelines)\n\u001b[1;32m    345\u001b[0m \u001b[38;5;28;01mif\u001b[39;00m num_pipelines \u001b[38;5;241m==\u001b[39m \u001b[38;5;241m1\u001b[39m:\n\u001b[0;32m--> 346\u001b[0m     result \u001b[38;5;241m=\u001b[39m \u001b[43mcollection\u001b[49m\u001b[38;5;241;43m.\u001b[39;49m\u001b[43maggregate\u001b[49m\u001b[43m(\u001b[49m\u001b[43mpipelines\u001b[49m\u001b[43m[\u001b[49m\u001b[38;5;241;43m0\u001b[39;49m\u001b[43m]\u001b[49m\u001b[43m,\u001b[49m\u001b[43m \u001b[49m\u001b[43mallowDiskUse\u001b[49m\u001b[38;5;241;43m=\u001b[39;49m\u001b[38;5;28;43;01mTrue\u001b[39;49;00m\u001b[43m)\u001b[49m\n\u001b[1;32m    347\u001b[0m     \u001b[38;5;28;01mreturn\u001b[39;00m [result] \u001b[38;5;28;01mif\u001b[39;00m is_list \u001b[38;5;28;01melse\u001b[39;00m result\n\u001b[1;32m    349\u001b[0m \u001b[38;5;28;01mreturn\u001b[39;00m _do_pooled_aggregate(collection, pipelines)\n",
      "File \u001b[0;32m~/mcity_data_engine/.venv/lib/python3.12/site-packages/pymongo/collection.py:2696\u001b[0m, in \u001b[0;36mCollection.aggregate\u001b[0;34m(self, pipeline, session, let, comment, **kwargs)\u001b[0m\n\u001b[1;32m   2620\u001b[0m \u001b[38;5;250m\u001b[39m\u001b[38;5;124;03m\"\"\"Perform an aggregation using the aggregation framework on this\u001b[39;00m\n\u001b[1;32m   2621\u001b[0m \u001b[38;5;124;03mcollection.\u001b[39;00m\n\u001b[1;32m   2622\u001b[0m \n\u001b[0;32m   (...)\u001b[0m\n\u001b[1;32m   2693\u001b[0m \u001b[38;5;124;03m    https://mongodb.com/docs/manual/reference/command/aggregate\u001b[39;00m\n\u001b[1;32m   2694\u001b[0m \u001b[38;5;124;03m\"\"\"\u001b[39;00m\n\u001b[1;32m   2695\u001b[0m \u001b[38;5;28;01mwith\u001b[39;00m \u001b[38;5;28mself\u001b[39m\u001b[38;5;241m.\u001b[39m__database\u001b[38;5;241m.\u001b[39mclient\u001b[38;5;241m.\u001b[39m_tmp_session(session, close\u001b[38;5;241m=\u001b[39m\u001b[38;5;28;01mFalse\u001b[39;00m) \u001b[38;5;28;01mas\u001b[39;00m s:\n\u001b[0;32m-> 2696\u001b[0m     \u001b[38;5;28;01mreturn\u001b[39;00m \u001b[38;5;28;43mself\u001b[39;49m\u001b[38;5;241;43m.\u001b[39;49m\u001b[43m_aggregate\u001b[49m\u001b[43m(\u001b[49m\n\u001b[1;32m   2697\u001b[0m \u001b[43m        \u001b[49m\u001b[43m_CollectionAggregationCommand\u001b[49m\u001b[43m,\u001b[49m\n\u001b[1;32m   2698\u001b[0m \u001b[43m        \u001b[49m\u001b[43mpipeline\u001b[49m\u001b[43m,\u001b[49m\n\u001b[1;32m   2699\u001b[0m \u001b[43m        \u001b[49m\u001b[43mCommandCursor\u001b[49m\u001b[43m,\u001b[49m\n\u001b[1;32m   2700\u001b[0m \u001b[43m        \u001b[49m\u001b[43msession\u001b[49m\u001b[38;5;241;43m=\u001b[39;49m\u001b[43ms\u001b[49m\u001b[43m,\u001b[49m\n\u001b[1;32m   2701\u001b[0m \u001b[43m        \u001b[49m\u001b[43mexplicit_session\u001b[49m\u001b[38;5;241;43m=\u001b[39;49m\u001b[43msession\u001b[49m\u001b[43m \u001b[49m\u001b[38;5;129;43;01mis\u001b[39;49;00m\u001b[43m \u001b[49m\u001b[38;5;129;43;01mnot\u001b[39;49;00m\u001b[43m \u001b[49m\u001b[38;5;28;43;01mNone\u001b[39;49;00m\u001b[43m,\u001b[49m\n\u001b[1;32m   2702\u001b[0m \u001b[43m        \u001b[49m\u001b[43mlet\u001b[49m\u001b[38;5;241;43m=\u001b[39;49m\u001b[43mlet\u001b[49m\u001b[43m,\u001b[49m\n\u001b[1;32m   2703\u001b[0m \u001b[43m        \u001b[49m\u001b[43mcomment\u001b[49m\u001b[38;5;241;43m=\u001b[39;49m\u001b[43mcomment\u001b[49m\u001b[43m,\u001b[49m\n\u001b[1;32m   2704\u001b[0m \u001b[43m        \u001b[49m\u001b[38;5;241;43m*\u001b[39;49m\u001b[38;5;241;43m*\u001b[39;49m\u001b[43mkwargs\u001b[49m\u001b[43m,\u001b[49m\n\u001b[1;32m   2705\u001b[0m \u001b[43m    \u001b[49m\u001b[43m)\u001b[49m\n",
      "File \u001b[0;32m~/mcity_data_engine/.venv/lib/python3.12/site-packages/pymongo/_csot.py:108\u001b[0m, in \u001b[0;36mapply.<locals>.csot_wrapper\u001b[0;34m(self, *args, **kwargs)\u001b[0m\n\u001b[1;32m    106\u001b[0m         \u001b[38;5;28;01mwith\u001b[39;00m _TimeoutContext(timeout):\n\u001b[1;32m    107\u001b[0m             \u001b[38;5;28;01mreturn\u001b[39;00m func(\u001b[38;5;28mself\u001b[39m, \u001b[38;5;241m*\u001b[39margs, \u001b[38;5;241m*\u001b[39m\u001b[38;5;241m*\u001b[39mkwargs)\n\u001b[0;32m--> 108\u001b[0m \u001b[38;5;28;01mreturn\u001b[39;00m \u001b[43mfunc\u001b[49m\u001b[43m(\u001b[49m\u001b[38;5;28;43mself\u001b[39;49m\u001b[43m,\u001b[49m\u001b[43m \u001b[49m\u001b[38;5;241;43m*\u001b[39;49m\u001b[43margs\u001b[49m\u001b[43m,\u001b[49m\u001b[43m \u001b[49m\u001b[38;5;241;43m*\u001b[39;49m\u001b[38;5;241;43m*\u001b[39;49m\u001b[43mkwargs\u001b[49m\u001b[43m)\u001b[49m\n",
      "File \u001b[0;32m~/mcity_data_engine/.venv/lib/python3.12/site-packages/pymongo/collection.py:2604\u001b[0m, in \u001b[0;36mCollection._aggregate\u001b[0;34m(self, aggregation_command, pipeline, cursor_class, session, explicit_session, let, comment, **kwargs)\u001b[0m\n\u001b[1;32m   2593\u001b[0m     kwargs[\u001b[38;5;124m\"\u001b[39m\u001b[38;5;124mcomment\u001b[39m\u001b[38;5;124m\"\u001b[39m] \u001b[38;5;241m=\u001b[39m comment\n\u001b[1;32m   2594\u001b[0m cmd \u001b[38;5;241m=\u001b[39m aggregation_command(\n\u001b[1;32m   2595\u001b[0m     \u001b[38;5;28mself\u001b[39m,\n\u001b[1;32m   2596\u001b[0m     cursor_class,\n\u001b[0;32m   (...)\u001b[0m\n\u001b[1;32m   2601\u001b[0m     user_fields\u001b[38;5;241m=\u001b[39m{\u001b[38;5;124m\"\u001b[39m\u001b[38;5;124mcursor\u001b[39m\u001b[38;5;124m\"\u001b[39m: {\u001b[38;5;124m\"\u001b[39m\u001b[38;5;124mfirstBatch\u001b[39m\u001b[38;5;124m\"\u001b[39m: \u001b[38;5;241m1\u001b[39m}},\n\u001b[1;32m   2602\u001b[0m )\n\u001b[0;32m-> 2604\u001b[0m \u001b[38;5;28;01mreturn\u001b[39;00m \u001b[38;5;28;43mself\u001b[39;49m\u001b[38;5;241;43m.\u001b[39;49m\u001b[43m__database\u001b[49m\u001b[38;5;241;43m.\u001b[39;49m\u001b[43mclient\u001b[49m\u001b[38;5;241;43m.\u001b[39;49m\u001b[43m_retryable_read\u001b[49m\u001b[43m(\u001b[49m\n\u001b[1;32m   2605\u001b[0m \u001b[43m    \u001b[49m\u001b[43mcmd\u001b[49m\u001b[38;5;241;43m.\u001b[39;49m\u001b[43mget_cursor\u001b[49m\u001b[43m,\u001b[49m\n\u001b[1;32m   2606\u001b[0m \u001b[43m    \u001b[49m\u001b[43mcmd\u001b[49m\u001b[38;5;241;43m.\u001b[39;49m\u001b[43mget_read_preference\u001b[49m\u001b[43m(\u001b[49m\u001b[43msession\u001b[49m\u001b[43m)\u001b[49m\u001b[43m,\u001b[49m\u001b[43m  \u001b[49m\u001b[38;5;66;43;03m# type: ignore[arg-type]\u001b[39;49;00m\n\u001b[1;32m   2607\u001b[0m \u001b[43m    \u001b[49m\u001b[43msession\u001b[49m\u001b[43m,\u001b[49m\n\u001b[1;32m   2608\u001b[0m \u001b[43m    \u001b[49m\u001b[43mretryable\u001b[49m\u001b[38;5;241;43m=\u001b[39;49m\u001b[38;5;129;43;01mnot\u001b[39;49;00m\u001b[43m \u001b[49m\u001b[43mcmd\u001b[49m\u001b[38;5;241;43m.\u001b[39;49m\u001b[43m_performs_write\u001b[49m\u001b[43m,\u001b[49m\n\u001b[1;32m   2609\u001b[0m \u001b[43m    \u001b[49m\u001b[43moperation\u001b[49m\u001b[38;5;241;43m=\u001b[39;49m\u001b[43m_Op\u001b[49m\u001b[38;5;241;43m.\u001b[39;49m\u001b[43mAGGREGATE\u001b[49m\u001b[43m,\u001b[49m\n\u001b[1;32m   2610\u001b[0m \u001b[43m\u001b[49m\u001b[43m)\u001b[49m\n",
      "File \u001b[0;32m~/mcity_data_engine/.venv/lib/python3.12/site-packages/pymongo/mongo_client.py:1540\u001b[0m, in \u001b[0;36mMongoClient._retryable_read\u001b[0;34m(self, func, read_pref, session, operation, address, retryable, operation_id)\u001b[0m\n\u001b[1;32m   1535\u001b[0m \u001b[38;5;66;03m# Ensure that the client supports retrying on reads and there is no session in\u001b[39;00m\n\u001b[1;32m   1536\u001b[0m \u001b[38;5;66;03m# transaction, otherwise, we will not support retry behavior for this call.\u001b[39;00m\n\u001b[1;32m   1537\u001b[0m retryable \u001b[38;5;241m=\u001b[39m \u001b[38;5;28mbool\u001b[39m(\n\u001b[1;32m   1538\u001b[0m     retryable \u001b[38;5;129;01mand\u001b[39;00m \u001b[38;5;28mself\u001b[39m\u001b[38;5;241m.\u001b[39moptions\u001b[38;5;241m.\u001b[39mretry_reads \u001b[38;5;129;01mand\u001b[39;00m \u001b[38;5;129;01mnot\u001b[39;00m (session \u001b[38;5;129;01mand\u001b[39;00m session\u001b[38;5;241m.\u001b[39min_transaction)\n\u001b[1;32m   1539\u001b[0m )\n\u001b[0;32m-> 1540\u001b[0m \u001b[38;5;28;01mreturn\u001b[39;00m \u001b[38;5;28;43mself\u001b[39;49m\u001b[38;5;241;43m.\u001b[39;49m\u001b[43m_retry_internal\u001b[49m\u001b[43m(\u001b[49m\n\u001b[1;32m   1541\u001b[0m \u001b[43m    \u001b[49m\u001b[43mfunc\u001b[49m\u001b[43m,\u001b[49m\n\u001b[1;32m   1542\u001b[0m \u001b[43m    \u001b[49m\u001b[43msession\u001b[49m\u001b[43m,\u001b[49m\n\u001b[1;32m   1543\u001b[0m \u001b[43m    \u001b[49m\u001b[38;5;28;43;01mNone\u001b[39;49;00m\u001b[43m,\u001b[49m\n\u001b[1;32m   1544\u001b[0m \u001b[43m    \u001b[49m\u001b[43moperation\u001b[49m\u001b[43m,\u001b[49m\n\u001b[1;32m   1545\u001b[0m \u001b[43m    \u001b[49m\u001b[43mis_read\u001b[49m\u001b[38;5;241;43m=\u001b[39;49m\u001b[38;5;28;43;01mTrue\u001b[39;49;00m\u001b[43m,\u001b[49m\n\u001b[1;32m   1546\u001b[0m \u001b[43m    \u001b[49m\u001b[43maddress\u001b[49m\u001b[38;5;241;43m=\u001b[39;49m\u001b[43maddress\u001b[49m\u001b[43m,\u001b[49m\n\u001b[1;32m   1547\u001b[0m \u001b[43m    \u001b[49m\u001b[43mread_pref\u001b[49m\u001b[38;5;241;43m=\u001b[39;49m\u001b[43mread_pref\u001b[49m\u001b[43m,\u001b[49m\n\u001b[1;32m   1548\u001b[0m \u001b[43m    \u001b[49m\u001b[43mretryable\u001b[49m\u001b[38;5;241;43m=\u001b[39;49m\u001b[43mretryable\u001b[49m\u001b[43m,\u001b[49m\n\u001b[1;32m   1549\u001b[0m \u001b[43m    \u001b[49m\u001b[43moperation_id\u001b[49m\u001b[38;5;241;43m=\u001b[39;49m\u001b[43moperation_id\u001b[49m\u001b[43m,\u001b[49m\n\u001b[1;32m   1550\u001b[0m \u001b[43m\u001b[49m\u001b[43m)\u001b[49m\n",
      "File \u001b[0;32m~/mcity_data_engine/.venv/lib/python3.12/site-packages/pymongo/_csot.py:108\u001b[0m, in \u001b[0;36mapply.<locals>.csot_wrapper\u001b[0;34m(self, *args, **kwargs)\u001b[0m\n\u001b[1;32m    106\u001b[0m         \u001b[38;5;28;01mwith\u001b[39;00m _TimeoutContext(timeout):\n\u001b[1;32m    107\u001b[0m             \u001b[38;5;28;01mreturn\u001b[39;00m func(\u001b[38;5;28mself\u001b[39m, \u001b[38;5;241m*\u001b[39margs, \u001b[38;5;241m*\u001b[39m\u001b[38;5;241m*\u001b[39mkwargs)\n\u001b[0;32m--> 108\u001b[0m \u001b[38;5;28;01mreturn\u001b[39;00m \u001b[43mfunc\u001b[49m\u001b[43m(\u001b[49m\u001b[38;5;28;43mself\u001b[39;49m\u001b[43m,\u001b[49m\u001b[43m \u001b[49m\u001b[38;5;241;43m*\u001b[39;49m\u001b[43margs\u001b[49m\u001b[43m,\u001b[49m\u001b[43m \u001b[49m\u001b[38;5;241;43m*\u001b[39;49m\u001b[38;5;241;43m*\u001b[39;49m\u001b[43mkwargs\u001b[49m\u001b[43m)\u001b[49m\n",
      "File \u001b[0;32m~/mcity_data_engine/.venv/lib/python3.12/site-packages/pymongo/mongo_client.py:1507\u001b[0m, in \u001b[0;36mMongoClient._retry_internal\u001b[0;34m(self, func, session, bulk, operation, is_read, address, read_pref, retryable, operation_id)\u001b[0m\n\u001b[1;32m   1470\u001b[0m \u001b[38;5;129m@_csot\u001b[39m\u001b[38;5;241m.\u001b[39mapply\n\u001b[1;32m   1471\u001b[0m \u001b[38;5;28;01mdef\u001b[39;00m \u001b[38;5;21m_retry_internal\u001b[39m(\n\u001b[1;32m   1472\u001b[0m     \u001b[38;5;28mself\u001b[39m,\n\u001b[0;32m   (...)\u001b[0m\n\u001b[1;32m   1481\u001b[0m     operation_id: Optional[\u001b[38;5;28mint\u001b[39m] \u001b[38;5;241m=\u001b[39m \u001b[38;5;28;01mNone\u001b[39;00m,\n\u001b[1;32m   1482\u001b[0m ) \u001b[38;5;241m-\u001b[39m\u001b[38;5;241m>\u001b[39m T:\n\u001b[1;32m   1483\u001b[0m \u001b[38;5;250m    \u001b[39m\u001b[38;5;124;03m\"\"\"Internal retryable helper for all client transactions.\u001b[39;00m\n\u001b[1;32m   1484\u001b[0m \n\u001b[1;32m   1485\u001b[0m \u001b[38;5;124;03m    :param func: Callback function we want to retry\u001b[39;00m\n\u001b[0;32m   (...)\u001b[0m\n\u001b[1;32m   1494\u001b[0m \u001b[38;5;124;03m    :return: Output of the calling func()\u001b[39;00m\n\u001b[1;32m   1495\u001b[0m \u001b[38;5;124;03m    \"\"\"\u001b[39;00m\n\u001b[1;32m   1496\u001b[0m     \u001b[38;5;28;01mreturn\u001b[39;00m \u001b[43m_ClientConnectionRetryable\u001b[49m\u001b[43m(\u001b[49m\n\u001b[1;32m   1497\u001b[0m \u001b[43m        \u001b[49m\u001b[43mmongo_client\u001b[49m\u001b[38;5;241;43m=\u001b[39;49m\u001b[38;5;28;43mself\u001b[39;49m\u001b[43m,\u001b[49m\n\u001b[1;32m   1498\u001b[0m \u001b[43m        \u001b[49m\u001b[43mfunc\u001b[49m\u001b[38;5;241;43m=\u001b[39;49m\u001b[43mfunc\u001b[49m\u001b[43m,\u001b[49m\n\u001b[1;32m   1499\u001b[0m \u001b[43m        \u001b[49m\u001b[43mbulk\u001b[49m\u001b[38;5;241;43m=\u001b[39;49m\u001b[43mbulk\u001b[49m\u001b[43m,\u001b[49m\n\u001b[1;32m   1500\u001b[0m \u001b[43m        \u001b[49m\u001b[43moperation\u001b[49m\u001b[38;5;241;43m=\u001b[39;49m\u001b[43moperation\u001b[49m\u001b[43m,\u001b[49m\n\u001b[1;32m   1501\u001b[0m \u001b[43m        \u001b[49m\u001b[43mis_read\u001b[49m\u001b[38;5;241;43m=\u001b[39;49m\u001b[43mis_read\u001b[49m\u001b[43m,\u001b[49m\n\u001b[1;32m   1502\u001b[0m \u001b[43m        \u001b[49m\u001b[43msession\u001b[49m\u001b[38;5;241;43m=\u001b[39;49m\u001b[43msession\u001b[49m\u001b[43m,\u001b[49m\n\u001b[1;32m   1503\u001b[0m \u001b[43m        \u001b[49m\u001b[43mread_pref\u001b[49m\u001b[38;5;241;43m=\u001b[39;49m\u001b[43mread_pref\u001b[49m\u001b[43m,\u001b[49m\n\u001b[1;32m   1504\u001b[0m \u001b[43m        \u001b[49m\u001b[43maddress\u001b[49m\u001b[38;5;241;43m=\u001b[39;49m\u001b[43maddress\u001b[49m\u001b[43m,\u001b[49m\n\u001b[1;32m   1505\u001b[0m \u001b[43m        \u001b[49m\u001b[43mretryable\u001b[49m\u001b[38;5;241;43m=\u001b[39;49m\u001b[43mretryable\u001b[49m\u001b[43m,\u001b[49m\n\u001b[1;32m   1506\u001b[0m \u001b[43m        \u001b[49m\u001b[43moperation_id\u001b[49m\u001b[38;5;241;43m=\u001b[39;49m\u001b[43moperation_id\u001b[49m\u001b[43m,\u001b[49m\n\u001b[0;32m-> 1507\u001b[0m \u001b[43m    \u001b[49m\u001b[43m)\u001b[49m\u001b[38;5;241;43m.\u001b[39;49m\u001b[43mrun\u001b[49m\u001b[43m(\u001b[49m\u001b[43m)\u001b[49m\n",
      "File \u001b[0;32m~/mcity_data_engine/.venv/lib/python3.12/site-packages/pymongo/mongo_client.py:2353\u001b[0m, in \u001b[0;36m_ClientConnectionRetryable.run\u001b[0;34m(self)\u001b[0m\n\u001b[1;32m   2351\u001b[0m \u001b[38;5;28mself\u001b[39m\u001b[38;5;241m.\u001b[39m_check_last_error(check_csot\u001b[38;5;241m=\u001b[39m\u001b[38;5;28;01mTrue\u001b[39;00m)\n\u001b[1;32m   2352\u001b[0m \u001b[38;5;28;01mtry\u001b[39;00m:\n\u001b[0;32m-> 2353\u001b[0m     \u001b[38;5;28;01mreturn\u001b[39;00m \u001b[38;5;28;43mself\u001b[39;49m\u001b[38;5;241;43m.\u001b[39;49m\u001b[43m_read\u001b[49m\u001b[43m(\u001b[49m\u001b[43m)\u001b[49m \u001b[38;5;28;01mif\u001b[39;00m \u001b[38;5;28mself\u001b[39m\u001b[38;5;241m.\u001b[39m_is_read \u001b[38;5;28;01melse\u001b[39;00m \u001b[38;5;28mself\u001b[39m\u001b[38;5;241m.\u001b[39m_write()\n\u001b[1;32m   2354\u001b[0m \u001b[38;5;28;01mexcept\u001b[39;00m ServerSelectionTimeoutError:\n\u001b[1;32m   2355\u001b[0m     \u001b[38;5;66;03m# The application may think the write was never attempted\u001b[39;00m\n\u001b[1;32m   2356\u001b[0m     \u001b[38;5;66;03m# if we raise ServerSelectionTimeoutError on the retry\u001b[39;00m\n\u001b[1;32m   2357\u001b[0m     \u001b[38;5;66;03m# attempt. Raise the original exception instead.\u001b[39;00m\n\u001b[1;32m   2358\u001b[0m     \u001b[38;5;28mself\u001b[39m\u001b[38;5;241m.\u001b[39m_check_last_error()\n",
      "File \u001b[0;32m~/mcity_data_engine/.venv/lib/python3.12/site-packages/pymongo/mongo_client.py:2483\u001b[0m, in \u001b[0;36m_ClientConnectionRetryable._read\u001b[0;34m(self)\u001b[0m\n\u001b[1;32m   2478\u001b[0m \u001b[38;5;28;01mdef\u001b[39;00m \u001b[38;5;21m_read\u001b[39m(\u001b[38;5;28mself\u001b[39m) \u001b[38;5;241m-\u001b[39m\u001b[38;5;241m>\u001b[39m T:\n\u001b[1;32m   2479\u001b[0m \u001b[38;5;250m    \u001b[39m\u001b[38;5;124;03m\"\"\"Wrapper method for read-type retryable client executions\u001b[39;00m\n\u001b[1;32m   2480\u001b[0m \n\u001b[1;32m   2481\u001b[0m \u001b[38;5;124;03m    :return: Output for func()'s call\u001b[39;00m\n\u001b[1;32m   2482\u001b[0m \u001b[38;5;124;03m    \"\"\"\u001b[39;00m\n\u001b[0;32m-> 2483\u001b[0m     \u001b[38;5;28mself\u001b[39m\u001b[38;5;241m.\u001b[39m_server \u001b[38;5;241m=\u001b[39m \u001b[38;5;28;43mself\u001b[39;49m\u001b[38;5;241;43m.\u001b[39;49m\u001b[43m_get_server\u001b[49m\u001b[43m(\u001b[49m\u001b[43m)\u001b[49m\n\u001b[1;32m   2484\u001b[0m     \u001b[38;5;28;01massert\u001b[39;00m \u001b[38;5;28mself\u001b[39m\u001b[38;5;241m.\u001b[39m_read_pref \u001b[38;5;129;01mis\u001b[39;00m \u001b[38;5;129;01mnot\u001b[39;00m \u001b[38;5;28;01mNone\u001b[39;00m, \u001b[38;5;124m\"\u001b[39m\u001b[38;5;124mRead Preference required on read calls\u001b[39m\u001b[38;5;124m\"\u001b[39m\n\u001b[1;32m   2485\u001b[0m     \u001b[38;5;28;01mwith\u001b[39;00m \u001b[38;5;28mself\u001b[39m\u001b[38;5;241m.\u001b[39m_client\u001b[38;5;241m.\u001b[39m_conn_from_server(\u001b[38;5;28mself\u001b[39m\u001b[38;5;241m.\u001b[39m_read_pref, \u001b[38;5;28mself\u001b[39m\u001b[38;5;241m.\u001b[39m_server, \u001b[38;5;28mself\u001b[39m\u001b[38;5;241m.\u001b[39m_session) \u001b[38;5;28;01mas\u001b[39;00m (\n\u001b[1;32m   2486\u001b[0m         conn,\n\u001b[1;32m   2487\u001b[0m         read_pref,\n\u001b[1;32m   2488\u001b[0m     ):\n",
      "File \u001b[0;32m~/mcity_data_engine/.venv/lib/python3.12/site-packages/pymongo/mongo_client.py:2439\u001b[0m, in \u001b[0;36m_ClientConnectionRetryable._get_server\u001b[0;34m(self)\u001b[0m\n\u001b[1;32m   2434\u001b[0m \u001b[38;5;28;01mdef\u001b[39;00m \u001b[38;5;21m_get_server\u001b[39m(\u001b[38;5;28mself\u001b[39m) \u001b[38;5;241m-\u001b[39m\u001b[38;5;241m>\u001b[39m Server:\n\u001b[1;32m   2435\u001b[0m \u001b[38;5;250m    \u001b[39m\u001b[38;5;124;03m\"\"\"Retrieves a server object based on provided object context\u001b[39;00m\n\u001b[1;32m   2436\u001b[0m \n\u001b[1;32m   2437\u001b[0m \u001b[38;5;124;03m    :return: Abstraction to connect to server\u001b[39;00m\n\u001b[1;32m   2438\u001b[0m \u001b[38;5;124;03m    \"\"\"\u001b[39;00m\n\u001b[0;32m-> 2439\u001b[0m     \u001b[38;5;28;01mreturn\u001b[39;00m \u001b[38;5;28;43mself\u001b[39;49m\u001b[38;5;241;43m.\u001b[39;49m\u001b[43m_client\u001b[49m\u001b[38;5;241;43m.\u001b[39;49m\u001b[43m_select_server\u001b[49m\u001b[43m(\u001b[49m\n\u001b[1;32m   2440\u001b[0m \u001b[43m        \u001b[49m\u001b[38;5;28;43mself\u001b[39;49m\u001b[38;5;241;43m.\u001b[39;49m\u001b[43m_server_selector\u001b[49m\u001b[43m,\u001b[49m\n\u001b[1;32m   2441\u001b[0m \u001b[43m        \u001b[49m\u001b[38;5;28;43mself\u001b[39;49m\u001b[38;5;241;43m.\u001b[39;49m\u001b[43m_session\u001b[49m\u001b[43m,\u001b[49m\n\u001b[1;32m   2442\u001b[0m \u001b[43m        \u001b[49m\u001b[38;5;28;43mself\u001b[39;49m\u001b[38;5;241;43m.\u001b[39;49m\u001b[43m_operation\u001b[49m\u001b[43m,\u001b[49m\n\u001b[1;32m   2443\u001b[0m \u001b[43m        \u001b[49m\u001b[43maddress\u001b[49m\u001b[38;5;241;43m=\u001b[39;49m\u001b[38;5;28;43mself\u001b[39;49m\u001b[38;5;241;43m.\u001b[39;49m\u001b[43m_address\u001b[49m\u001b[43m,\u001b[49m\n\u001b[1;32m   2444\u001b[0m \u001b[43m        \u001b[49m\u001b[43mdeprioritized_servers\u001b[49m\u001b[38;5;241;43m=\u001b[39;49m\u001b[38;5;28;43mself\u001b[39;49m\u001b[38;5;241;43m.\u001b[39;49m\u001b[43m_deprioritized_servers\u001b[49m\u001b[43m,\u001b[49m\n\u001b[1;32m   2445\u001b[0m \u001b[43m        \u001b[49m\u001b[43moperation_id\u001b[49m\u001b[38;5;241;43m=\u001b[39;49m\u001b[38;5;28;43mself\u001b[39;49m\u001b[38;5;241;43m.\u001b[39;49m\u001b[43m_operation_id\u001b[49m\u001b[43m,\u001b[49m\n\u001b[1;32m   2446\u001b[0m \u001b[43m    \u001b[49m\u001b[43m)\u001b[49m\n",
      "File \u001b[0;32m~/mcity_data_engine/.venv/lib/python3.12/site-packages/pymongo/mongo_client.py:1322\u001b[0m, in \u001b[0;36mMongoClient._select_server\u001b[0;34m(self, server_selector, session, operation, address, deprioritized_servers, operation_id)\u001b[0m\n\u001b[1;32m   1320\u001b[0m             \u001b[38;5;28;01mraise\u001b[39;00m AutoReconnect(\u001b[38;5;124m\"\u001b[39m\u001b[38;5;124mserver \u001b[39m\u001b[38;5;132;01m%s\u001b[39;00m\u001b[38;5;124m:\u001b[39m\u001b[38;5;132;01m%s\u001b[39;00m\u001b[38;5;124m no longer available\u001b[39m\u001b[38;5;124m\"\u001b[39m \u001b[38;5;241m%\u001b[39m address)  \u001b[38;5;66;03m# noqa: UP031\u001b[39;00m\n\u001b[1;32m   1321\u001b[0m     \u001b[38;5;28;01melse\u001b[39;00m:\n\u001b[0;32m-> 1322\u001b[0m         server \u001b[38;5;241m=\u001b[39m \u001b[43mtopology\u001b[49m\u001b[38;5;241;43m.\u001b[39;49m\u001b[43mselect_server\u001b[49m\u001b[43m(\u001b[49m\n\u001b[1;32m   1323\u001b[0m \u001b[43m            \u001b[49m\u001b[43mserver_selector\u001b[49m\u001b[43m,\u001b[49m\n\u001b[1;32m   1324\u001b[0m \u001b[43m            \u001b[49m\u001b[43moperation\u001b[49m\u001b[43m,\u001b[49m\n\u001b[1;32m   1325\u001b[0m \u001b[43m            \u001b[49m\u001b[43mdeprioritized_servers\u001b[49m\u001b[38;5;241;43m=\u001b[39;49m\u001b[43mdeprioritized_servers\u001b[49m\u001b[43m,\u001b[49m\n\u001b[1;32m   1326\u001b[0m \u001b[43m            \u001b[49m\u001b[43moperation_id\u001b[49m\u001b[38;5;241;43m=\u001b[39;49m\u001b[43moperation_id\u001b[49m\u001b[43m,\u001b[49m\n\u001b[1;32m   1327\u001b[0m \u001b[43m        \u001b[49m\u001b[43m)\u001b[49m\n\u001b[1;32m   1328\u001b[0m     \u001b[38;5;28;01mreturn\u001b[39;00m server\n\u001b[1;32m   1329\u001b[0m \u001b[38;5;28;01mexcept\u001b[39;00m PyMongoError \u001b[38;5;28;01mas\u001b[39;00m exc:\n\u001b[1;32m   1330\u001b[0m     \u001b[38;5;66;03m# Server selection errors in a transaction are transient.\u001b[39;00m\n",
      "File \u001b[0;32m~/mcity_data_engine/.venv/lib/python3.12/site-packages/pymongo/topology.py:368\u001b[0m, in \u001b[0;36mTopology.select_server\u001b[0;34m(self, selector, operation, server_selection_timeout, address, deprioritized_servers, operation_id)\u001b[0m\n\u001b[1;32m    358\u001b[0m \u001b[38;5;28;01mdef\u001b[39;00m \u001b[38;5;21mselect_server\u001b[39m(\n\u001b[1;32m    359\u001b[0m     \u001b[38;5;28mself\u001b[39m,\n\u001b[1;32m    360\u001b[0m     selector: Callable[[Selection], Selection],\n\u001b[0;32m   (...)\u001b[0m\n\u001b[1;32m    365\u001b[0m     operation_id: Optional[\u001b[38;5;28mint\u001b[39m] \u001b[38;5;241m=\u001b[39m \u001b[38;5;28;01mNone\u001b[39;00m,\n\u001b[1;32m    366\u001b[0m ) \u001b[38;5;241m-\u001b[39m\u001b[38;5;241m>\u001b[39m Server:\n\u001b[1;32m    367\u001b[0m \u001b[38;5;250m    \u001b[39m\u001b[38;5;124;03m\"\"\"Like select_servers, but choose a random server if several match.\"\"\"\u001b[39;00m\n\u001b[0;32m--> 368\u001b[0m     server \u001b[38;5;241m=\u001b[39m \u001b[38;5;28;43mself\u001b[39;49m\u001b[38;5;241;43m.\u001b[39;49m\u001b[43m_select_server\u001b[49m\u001b[43m(\u001b[49m\n\u001b[1;32m    369\u001b[0m \u001b[43m        \u001b[49m\u001b[43mselector\u001b[49m\u001b[43m,\u001b[49m\n\u001b[1;32m    370\u001b[0m \u001b[43m        \u001b[49m\u001b[43moperation\u001b[49m\u001b[43m,\u001b[49m\n\u001b[1;32m    371\u001b[0m \u001b[43m        \u001b[49m\u001b[43mserver_selection_timeout\u001b[49m\u001b[43m,\u001b[49m\n\u001b[1;32m    372\u001b[0m \u001b[43m        \u001b[49m\u001b[43maddress\u001b[49m\u001b[43m,\u001b[49m\n\u001b[1;32m    373\u001b[0m \u001b[43m        \u001b[49m\u001b[43mdeprioritized_servers\u001b[49m\u001b[43m,\u001b[49m\n\u001b[1;32m    374\u001b[0m \u001b[43m        \u001b[49m\u001b[43moperation_id\u001b[49m\u001b[38;5;241;43m=\u001b[39;49m\u001b[43moperation_id\u001b[49m\u001b[43m,\u001b[49m\n\u001b[1;32m    375\u001b[0m \u001b[43m    \u001b[49m\u001b[43m)\u001b[49m\n\u001b[1;32m    376\u001b[0m     \u001b[38;5;28;01mif\u001b[39;00m _csot\u001b[38;5;241m.\u001b[39mget_timeout():\n\u001b[1;32m    377\u001b[0m         _csot\u001b[38;5;241m.\u001b[39mset_rtt(server\u001b[38;5;241m.\u001b[39mdescription\u001b[38;5;241m.\u001b[39mmin_round_trip_time)\n",
      "File \u001b[0;32m~/mcity_data_engine/.venv/lib/python3.12/site-packages/pymongo/topology.py:346\u001b[0m, in \u001b[0;36mTopology._select_server\u001b[0;34m(self, selector, operation, server_selection_timeout, address, deprioritized_servers, operation_id)\u001b[0m\n\u001b[1;32m    337\u001b[0m \u001b[38;5;28;01mdef\u001b[39;00m \u001b[38;5;21m_select_server\u001b[39m(\n\u001b[1;32m    338\u001b[0m     \u001b[38;5;28mself\u001b[39m,\n\u001b[1;32m    339\u001b[0m     selector: Callable[[Selection], Selection],\n\u001b[0;32m   (...)\u001b[0m\n\u001b[1;32m    344\u001b[0m     operation_id: Optional[\u001b[38;5;28mint\u001b[39m] \u001b[38;5;241m=\u001b[39m \u001b[38;5;28;01mNone\u001b[39;00m,\n\u001b[1;32m    345\u001b[0m ) \u001b[38;5;241m-\u001b[39m\u001b[38;5;241m>\u001b[39m Server:\n\u001b[0;32m--> 346\u001b[0m     servers \u001b[38;5;241m=\u001b[39m \u001b[38;5;28;43mself\u001b[39;49m\u001b[38;5;241;43m.\u001b[39;49m\u001b[43mselect_servers\u001b[49m\u001b[43m(\u001b[49m\n\u001b[1;32m    347\u001b[0m \u001b[43m        \u001b[49m\u001b[43mselector\u001b[49m\u001b[43m,\u001b[49m\u001b[43m \u001b[49m\u001b[43moperation\u001b[49m\u001b[43m,\u001b[49m\u001b[43m \u001b[49m\u001b[43mserver_selection_timeout\u001b[49m\u001b[43m,\u001b[49m\u001b[43m \u001b[49m\u001b[43maddress\u001b[49m\u001b[43m,\u001b[49m\u001b[43m \u001b[49m\u001b[43moperation_id\u001b[49m\n\u001b[1;32m    348\u001b[0m \u001b[43m    \u001b[49m\u001b[43m)\u001b[49m\n\u001b[1;32m    349\u001b[0m     servers \u001b[38;5;241m=\u001b[39m _filter_servers(servers, deprioritized_servers)\n\u001b[1;32m    350\u001b[0m     \u001b[38;5;28;01mif\u001b[39;00m \u001b[38;5;28mlen\u001b[39m(servers) \u001b[38;5;241m==\u001b[39m \u001b[38;5;241m1\u001b[39m:\n",
      "File \u001b[0;32m~/mcity_data_engine/.venv/lib/python3.12/site-packages/pymongo/topology.py:253\u001b[0m, in \u001b[0;36mTopology.select_servers\u001b[0;34m(self, selector, operation, server_selection_timeout, address, operation_id)\u001b[0m\n\u001b[1;32m    250\u001b[0m     server_timeout \u001b[38;5;241m=\u001b[39m server_selection_timeout\n\u001b[1;32m    252\u001b[0m \u001b[38;5;28;01mwith\u001b[39;00m \u001b[38;5;28mself\u001b[39m\u001b[38;5;241m.\u001b[39m_lock:\n\u001b[0;32m--> 253\u001b[0m     server_descriptions \u001b[38;5;241m=\u001b[39m \u001b[38;5;28;43mself\u001b[39;49m\u001b[38;5;241;43m.\u001b[39;49m\u001b[43m_select_servers_loop\u001b[49m\u001b[43m(\u001b[49m\n\u001b[1;32m    254\u001b[0m \u001b[43m        \u001b[49m\u001b[43mselector\u001b[49m\u001b[43m,\u001b[49m\u001b[43m \u001b[49m\u001b[43mserver_timeout\u001b[49m\u001b[43m,\u001b[49m\u001b[43m \u001b[49m\u001b[43moperation\u001b[49m\u001b[43m,\u001b[49m\u001b[43m \u001b[49m\u001b[43moperation_id\u001b[49m\u001b[43m,\u001b[49m\u001b[43m \u001b[49m\u001b[43maddress\u001b[49m\n\u001b[1;32m    255\u001b[0m \u001b[43m    \u001b[49m\u001b[43m)\u001b[49m\n\u001b[1;32m    257\u001b[0m     \u001b[38;5;28;01mreturn\u001b[39;00m [\n\u001b[1;32m    258\u001b[0m         cast(Server, \u001b[38;5;28mself\u001b[39m\u001b[38;5;241m.\u001b[39mget_server_by_address(sd\u001b[38;5;241m.\u001b[39maddress)) \u001b[38;5;28;01mfor\u001b[39;00m sd \u001b[38;5;129;01min\u001b[39;00m server_descriptions\n\u001b[1;32m    259\u001b[0m     ]\n",
      "File \u001b[0;32m~/mcity_data_engine/.venv/lib/python3.12/site-packages/pymongo/topology.py:303\u001b[0m, in \u001b[0;36mTopology._select_servers_loop\u001b[0;34m(self, selector, timeout, operation, operation_id, address)\u001b[0m\n\u001b[1;32m    292\u001b[0m     \u001b[38;5;28;01mif\u001b[39;00m _SERVER_SELECTION_LOGGER\u001b[38;5;241m.\u001b[39misEnabledFor(logging\u001b[38;5;241m.\u001b[39mDEBUG):\n\u001b[1;32m    293\u001b[0m         _debug_log(\n\u001b[1;32m    294\u001b[0m             _SERVER_SELECTION_LOGGER,\n\u001b[1;32m    295\u001b[0m             message\u001b[38;5;241m=\u001b[39m_ServerSelectionStatusMessage\u001b[38;5;241m.\u001b[39mFAILED,\n\u001b[0;32m   (...)\u001b[0m\n\u001b[1;32m    301\u001b[0m             failure\u001b[38;5;241m=\u001b[39m\u001b[38;5;28mself\u001b[39m\u001b[38;5;241m.\u001b[39m_error_message(selector),\n\u001b[1;32m    302\u001b[0m         )\n\u001b[0;32m--> 303\u001b[0m     \u001b[38;5;28;01mraise\u001b[39;00m ServerSelectionTimeoutError(\n\u001b[1;32m    304\u001b[0m         \u001b[38;5;124mf\u001b[39m\u001b[38;5;124m\"\u001b[39m\u001b[38;5;132;01m{\u001b[39;00m\u001b[38;5;28mself\u001b[39m\u001b[38;5;241m.\u001b[39m_error_message(selector)\u001b[38;5;132;01m}\u001b[39;00m\u001b[38;5;124m, Timeout: \u001b[39m\u001b[38;5;132;01m{\u001b[39;00mtimeout\u001b[38;5;132;01m}\u001b[39;00m\u001b[38;5;124ms, Topology Description: \u001b[39m\u001b[38;5;132;01m{\u001b[39;00m\u001b[38;5;28mself\u001b[39m\u001b[38;5;241m.\u001b[39mdescription\u001b[38;5;132;01m!r}\u001b[39;00m\u001b[38;5;124m\"\u001b[39m\n\u001b[1;32m    305\u001b[0m     )\n\u001b[1;32m    307\u001b[0m \u001b[38;5;28;01mif\u001b[39;00m \u001b[38;5;129;01mnot\u001b[39;00m logged_waiting:\n\u001b[1;32m    308\u001b[0m     _debug_log(\n\u001b[1;32m    309\u001b[0m         _SERVER_SELECTION_LOGGER,\n\u001b[1;32m    310\u001b[0m         message\u001b[38;5;241m=\u001b[39m_ServerSelectionStatusMessage\u001b[38;5;241m.\u001b[39mWAITING,\n\u001b[0;32m   (...)\u001b[0m\n\u001b[1;32m    316\u001b[0m         remainingTimeMS\u001b[38;5;241m=\u001b[39m\u001b[38;5;28mint\u001b[39m(end_time \u001b[38;5;241m-\u001b[39m time\u001b[38;5;241m.\u001b[39mmonotonic()),\n\u001b[1;32m    317\u001b[0m     )\n",
      "\u001b[0;31mServerSelectionTimeoutError\u001b[0m: localhost:46813: [Errno 111] Connection refused (configured timeouts: socketTimeoutMS: 20000.0ms, connectTimeoutMS: 20000.0ms), Timeout: 30s, Topology Description: <TopologyDescription id: 673517ce7e94e68f6ace14db, topology_type: Single, servers: [<ServerDescription ('localhost', 46813) server_type: Unknown, rtt: None, error=AutoReconnect('localhost:46813: [Errno 111] Connection refused (configured timeouts: socketTimeoutMS: 20000.0ms, connectTimeoutMS: 20000.0ms)')>]>"
     ]
    }
   ],
   "source": [
    "NUM_WORKERS=32\n",
    "dataset.compute_metadata(num_workers=NUM_WORKERS, progress=True)"
   ]
  },
  {
   "cell_type": "code",
   "execution_count": 115,
   "metadata": {},
   "outputs": [
    {
     "name": "stdout",
     "output_type": "stream",
     "text": [
      "Connected to FiftyOne on port 5151 at localhost.\n",
      "If you are not connecting to a remote session, you may need to start a new session and specify a port\n",
      "Server version (1.0.1) does not match client version (1.0.2)\n"
     ]
    },
    {
     "data": {
      "text/html": [
       "\n",
       "        <iframe\n",
       "            width=\"100%\"\n",
       "            height=\"800\"\n",
       "            src=\"http://localhost:5151/?notebook=True&subscription=9a81e2a0-7cea-4dbd-bbdf-6573795c2788\"\n",
       "            frameborder=\"0\"\n",
       "            allowfullscreen\n",
       "            \n",
       "        ></iframe>\n",
       "        "
      ],
      "text/plain": [
       "<IPython.lib.display.IFrame at 0x7f50b8d67f50>"
      ]
     },
     "metadata": {},
     "output_type": "display_data"
    },
    {
     "name": "stdout",
     "output_type": "stream",
     "text": [
      "\n",
      "Welcome to\n",
      "\n",
      "███████╗██╗███████╗████████╗██╗   ██╗ ██████╗ ███╗   ██╗███████╗\n",
      "██╔════╝██║██╔════╝╚══██╔══╝╚██╗ ██╔╝██╔═══██╗████╗  ██║██╔════╝\n",
      "█████╗  ██║█████╗     ██║    ╚████╔╝ ██║   ██║██╔██╗ ██║█████╗\n",
      "██╔══╝  ██║██╔══╝     ██║     ╚██╔╝  ██║   ██║██║╚██╗██║██╔══╝\n",
      "██║     ██║██║        ██║      ██║   ╚██████╔╝██║ ╚████║███████╗\n",
      "╚═╝     ╚═╝╚═╝        ╚═╝      ╚═╝    ╚═════╝ ╚═╝  ╚═══╝╚══════╝ v1.0.2\n",
      "\n",
      "If you're finding FiftyOne helpful, here's how you can get involved:\n",
      "\n",
      "|\n",
      "|  ⭐⭐⭐ Give the project a star on GitHub ⭐⭐⭐\n",
      "|  https://github.com/voxel51/fiftyone\n",
      "|\n",
      "|  🚀🚀🚀 Join the FiftyOne Slack community 🚀🚀🚀\n",
      "|  https://slack.voxel51.com\n",
      "|\n",
      "\n"
     ]
    }
   ],
   "source": [
    "session = fo.launch_app()"
   ]
  }
 ],
 "metadata": {
  "kernelspec": {
   "display_name": ".venv",
   "language": "python",
   "name": "python3"
  },
  "language_info": {
   "codemirror_mode": {
    "name": "ipython",
    "version": 3
   },
   "file_extension": ".py",
   "mimetype": "text/x-python",
   "name": "python",
   "nbconvert_exporter": "python",
   "pygments_lexer": "ipython3",
   "version": "3.12.3"
  }
 },
 "nbformat": 4,
 "nbformat_minor": 2
}
