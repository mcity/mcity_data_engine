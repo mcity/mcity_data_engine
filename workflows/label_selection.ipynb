{
 "cells": [
  {
   "cell_type": "markdown",
   "metadata": {},
   "source": [
    "# Label Selection\n",
    "\n",
    "This is a **manual workflow**. Once a dataset has been populated with the results from the **Ensemble Exploration** workflow, this workflow can be used to select the samples to be labeled. Here you manually select the final images to be labeled. These will be exported and are ready to be labeled.\n"
   ]
  },
  {
   "cell_type": "code",
   "execution_count": 47,
   "metadata": {},
   "outputs": [],
   "source": [
    "from fiftyone import ViewField as F\n",
    "import fiftyone as fo\n",
    "import os"
   ]
  },
  {
   "cell_type": "code",
   "execution_count": 48,
   "metadata": {},
   "outputs": [],
   "source": [
    "# Loading dataset and filtering view for optimized performance\n",
    "# Shows only samples with min. n unique detections from Ensemble Exploration\n",
    "# Shows only labels that belong to the unique detections\n",
    "dataset_name = \"mcity_fisheye_3_months\" # Dataset to load\n",
    "dataset = fo.load_dataset(dataset_name)\n",
    "min_n_unique_exploration = 3\n",
    "view_n_unique_exploration = dataset.match(F(\"n_unique_exploration\") >= min_n_unique_exploration)\n",
    "view_tagged_labels = view_n_unique_exploration.select_labels(tags=\"vru_overlap\")    # FIXME detections_overlap"
   ]
  },
  {
   "cell_type": "code",
   "execution_count": 49,
   "metadata": {},
   "outputs": [
    {
     "data": {
      "text/html": [
       "\n",
       "        <iframe\n",
       "            width=\"100%\"\n",
       "            height=\"800\"\n",
       "            src=\"http://localhost:5151/?notebook=True&subscription=5c49ebe7-75cd-4feb-89fd-9c20d6d91bca\"\n",
       "            frameborder=\"0\"\n",
       "            allowfullscreen\n",
       "            \n",
       "        ></iframe>\n",
       "        "
      ],
      "text/plain": [
       "<IPython.lib.display.IFrame at 0x702bdd3450a0>"
      ]
     },
     "metadata": {},
     "output_type": "display_data"
    },
    {
     "data": {
      "text/plain": [
       "Dataset:          mcity_fisheye_3_months\n",
       "Media type:       image\n",
       "Num samples:      10653\n",
       "Selected samples: 0\n",
       "Selected labels:  0\n",
       "Session URL:      http://localhost:5151/\n",
       "View stages:\n",
       "    1. Match(filter={'$expr': {'$gte': [...]}})\n",
       "    2. SelectLabels(labels=None, ids=None, tags=['vru_overlap'], fields=None, omit_empty=True)"
      ]
     },
     "execution_count": 49,
     "metadata": {},
     "output_type": "execute_result"
    }
   ],
   "source": [
    "# Use this view to label the samples you want to have labeled\n",
    "# Choose the tag_for_labeling to tag the samples you want to label\n",
    "tag_for_labeling = \"select_vru\" # FIXME todo_label\n",
    "fo.launch_app(view=view_tagged_labels)"
   ]
  },
  {
   "cell_type": "code",
   "execution_count": 50,
   "metadata": {},
   "outputs": [
    {
     "name": "stdout",
     "output_type": "stream",
     "text": [
      "Dataset:     mcity_fisheye_3_months\n",
      "Media type:  image\n",
      "Num samples: 100\n",
      "Sample fields:\n",
      "    id:                                           fiftyone.core.fields.ObjectIdField\n",
      "    filepath:                                     fiftyone.core.fields.StringField\n",
      "    tags:                                         fiftyone.core.fields.ListField(fiftyone.core.fields.StringField)\n",
      "    metadata:                                     fiftyone.core.fields.EmbeddedDocumentField(fiftyone.core.metadata.ImageMetadata)\n",
      "    created_at:                                   fiftyone.core.fields.DateTimeField\n",
      "    last_modified_at:                             fiftyone.core.fields.DateTimeField\n",
      "    ground_truth:                                 fiftyone.core.fields.EmbeddedDocumentField(fiftyone.core.labels.Detections)\n",
      "    location:                                     fiftyone.core.fields.StringField\n",
      "    name:                                         fiftyone.core.fields.StringField\n",
      "    timestamp:                                    fiftyone.core.fields.DateTimeField\n",
      "    pred_IDEA_Research_grounding_dino_tiny:       fiftyone.core.fields.EmbeddedDocumentField(fiftyone.core.labels.Detections)\n",
      "    pred_IDEA_Research_grounding_dino_base:       fiftyone.core.fields.EmbeddedDocumentField(fiftyone.core.labels.Detections)\n",
      "    pred_google_owlvit_large_patch14:             fiftyone.core.fields.EmbeddedDocumentField(fiftyone.core.labels.Detections)\n",
      "    pred_google_owlv2_base_patch16:               fiftyone.core.fields.EmbeddedDocumentField(fiftyone.core.labels.Detections)\n",
      "    pred_google_owlv2_base_patch16_ensemble:      fiftyone.core.fields.EmbeddedDocumentField(fiftyone.core.labels.Detections)\n",
      "    pred_google_owlv2_base_patch16_finetuned:     fiftyone.core.fields.EmbeddedDocumentField(fiftyone.core.labels.Detections)\n",
      "    pred_google_owlv2_large_patch14:              fiftyone.core.fields.EmbeddedDocumentField(fiftyone.core.labels.Detections)\n",
      "    pred_google_owlv2_large_patch14_ensemble:     fiftyone.core.fields.EmbeddedDocumentField(fiftyone.core.labels.Detections)\n",
      "    pred_google_owlv2_large_patch14_finetuned:    fiftyone.core.fields.EmbeddedDocumentField(fiftyone.core.labels.Detections)\n",
      "    pred_omlab_omdet_turbo_swin_tiny_hf:          fiftyone.core.fields.EmbeddedDocumentField(fiftyone.core.labels.Detections)\n",
      "    eval_IDEA_Research_grounding_dino_tiny_tp:    fiftyone.core.fields.IntField\n",
      "    eval_IDEA_Research_grounding_dino_tiny_fp:    fiftyone.core.fields.IntField\n",
      "    eval_IDEA_Research_grounding_dino_tiny_fn:    fiftyone.core.fields.IntField\n",
      "    eval_IDEA_Research_grounding_dino_base_tp:    fiftyone.core.fields.IntField\n",
      "    eval_IDEA_Research_grounding_dino_base_fp:    fiftyone.core.fields.IntField\n",
      "    eval_IDEA_Research_grounding_dino_base_fn:    fiftyone.core.fields.IntField\n",
      "    eval_google_owlvit_large_patch14_tp:          fiftyone.core.fields.IntField\n",
      "    eval_google_owlvit_large_patch14_fp:          fiftyone.core.fields.IntField\n",
      "    eval_google_owlvit_large_patch14_fn:          fiftyone.core.fields.IntField\n",
      "    eval_google_owlv2_base_patch16_tp:            fiftyone.core.fields.IntField\n",
      "    eval_google_owlv2_base_patch16_fp:            fiftyone.core.fields.IntField\n",
      "    eval_google_owlv2_base_patch16_fn:            fiftyone.core.fields.IntField\n",
      "    eval_google_owlv2_base_patch16_ensemble_tp:   fiftyone.core.fields.IntField\n",
      "    eval_google_owlv2_base_patch16_ensemble_fp:   fiftyone.core.fields.IntField\n",
      "    eval_google_owlv2_base_patch16_ensemble_fn:   fiftyone.core.fields.IntField\n",
      "    eval_google_owlv2_base_patch16_finetuned_tp:  fiftyone.core.fields.IntField\n",
      "    eval_google_owlv2_base_patch16_finetuned_fp:  fiftyone.core.fields.IntField\n",
      "    eval_google_owlv2_base_patch16_finetuned_fn:  fiftyone.core.fields.IntField\n",
      "    eval_google_owlv2_large_patch14_tp:           fiftyone.core.fields.IntField\n",
      "    eval_google_owlv2_large_patch14_fp:           fiftyone.core.fields.IntField\n",
      "    eval_google_owlv2_large_patch14_fn:           fiftyone.core.fields.IntField\n",
      "    eval_google_owlv2_large_patch14_ensemble_tp:  fiftyone.core.fields.IntField\n",
      "    eval_google_owlv2_large_patch14_ensemble_fp:  fiftyone.core.fields.IntField\n",
      "    eval_google_owlv2_large_patch14_ensemble_fn:  fiftyone.core.fields.IntField\n",
      "    eval_google_owlv2_large_patch14_finetuned_tp: fiftyone.core.fields.IntField\n",
      "    eval_google_owlv2_large_patch14_finetuned_fp: fiftyone.core.fields.IntField\n",
      "    eval_google_owlv2_large_patch14_finetuned_fn: fiftyone.core.fields.IntField\n",
      "    eval_omlab_omdet_turbo_swin_tiny_hf_tp:       fiftyone.core.fields.IntField\n",
      "    eval_omlab_omdet_turbo_swin_tiny_hf_fp:       fiftyone.core.fields.IntField\n",
      "    eval_omlab_omdet_turbo_swin_tiny_hf_fn:       fiftyone.core.fields.IntField\n",
      "    n_unique_exploration:                         fiftyone.core.fields.IntField\n",
      "View stages:\n",
      "    1. MatchTags(tags=['select_vru'], bool=True, all=False)\n"
     ]
    }
   ],
   "source": [
    "# Inspect your selection of samples to be labeled\n",
    "view_selection = dataset.match_tags(tag_for_labeling)\n",
    "print(view_selection)"
   ]
  },
  {
   "cell_type": "code",
   "execution_count": 51,
   "metadata": {},
   "outputs": [
    {
     "name": "stdout",
     "output_type": "stream",
     "text": [
      "Directory '/media/dbogdoll/Datasets/vru_labeling' already exists; export will be merged with existing files\n",
      " 100% |███████████████████| 96/96 [5.5s elapsed, 0s remaining, 25.0 samples/s]      \n",
      "Directory '/media/dbogdoll/Datasets/vru_labeling' already exists; export will be merged with existing files\n",
      " 100% |█████████████████████| 4/4 [207.2ms elapsed, 0s remaining, 19.3 samples/s] \n"
     ]
    }
   ],
   "source": [
    "# Export the dataset you want to have labeled\n",
    "# This example uses the YOLOv5Dataset format which also exports labels\n",
    "# https://docs.voxel51.com/user_guide/export_datasets.html#yolov5dataset\n",
    "\n",
    "splits = [\"train\", \"val\"]                                                   # Select all the splits your dataset has\n",
    "export_dir=\"/media/dbogdoll/Datasets/vru_labeling\"                          # Directory to export the files to\n",
    "label_field=\"pred_google_owlv2_large_patch14_finetuned\"                     # Include a prediction field from one of the zero-shot models\n",
    "\n",
    "classes=view_selection.distinct(f\"{label_field}.detections.label\")          # Get all the classes from the prediction field\n",
    "\n",
    "# Export the splits\n",
    "for split in splits:\n",
    "    split_view = view_selection.match_tags(split)\n",
    "    split_view.export(\n",
    "        export_dir=export_dir,\n",
    "        dataset_type=fo.types.YOLOv5Dataset,\n",
    "        label_field=label_field,\n",
    "        split=split,\n",
    "        classes=classes,\n",
    "    )"
   ]
  },
  {
   "cell_type": "code",
   "execution_count": null,
   "metadata": {},
   "outputs": [
    {
     "name": "stdout",
     "output_type": "stream",
     "text": [
      "The backend 'labelstudio' does not support attributes. Provided attributes will be ignored.\n",
      "Uploading media to Label Studio...\n",
      "Upload complete\n",
      "Launching editor at 'http://localhost:8080/projects/1'...\n"
     ]
    },
    {
     "data": {
      "text/plain": [
       "<fiftyone.utils.labelstudio.LabelStudioAnnotationResults at 0x702c09dc8380>"
      ]
     },
     "execution_count": 52,
     "metadata": {},
     "output_type": "execute_result"
    }
   ],
   "source": [
    "# If you want to label the dataset in-house, this example shows how to use Label Studio. Voxel51 also has other integrations\n",
    "# https://docs.voxel51.com/integrations/labelstudio.html\n",
    "# To setup Label Studio, follow the instructions here: https://docs.voxel51.com/integrations/labelstudio.html#label-studio-setup\n",
    "# Before running this cell, launch Label Studio in a new terminal with 'label-studio'\n",
    "\n",
    "classes_for_labeling = [\"motorbike/cycler\", \"pedestrian\"]    # [\"car\", \"truck\", \"bus\", \"trailer\", \"motorbike/cycler\", \"pedestrian\", \"van\", \"pickup\"] Classes from Mcity Fisheye dataset\n",
    "label_schema = {\n",
    "    \"new_ground_truth\": {\n",
    "        \"type\": \"detections\",\n",
    "        \"classes\": classes_for_labeling,\n",
    "    },\n",
    "}\n",
    "\n",
    "# Connect to Label Studio\n",
    "label_studio_api_key = \"\"\n",
    "with open(\"../.secret\", \"r\") as file:\n",
    "    for line in file:\n",
    "        key, value = line.strip().split(\"=\")\n",
    "        if key == \"FIFTYONE_LABELSTUDIO_API_KEY\":\n",
    "            label_studio_api_key = value\n",
    "\n",
    "anno_key = \"labelstudio\"\n",
    "#if view_selection.has_annotation_runs:\n",
    "#    view_selection.delete_annotation_run(anno_key)\n",
    "\n",
    "view_selection.annotate(\n",
    "    anno_key,\n",
    "    backend=\"labelstudio\",\n",
    "    label_schema=label_schema,\n",
    "    launch_editor=True,\n",
    "    api_key=label_studio_api_key,\n",
    "    url=\"http://localhost:8080\",    # Access Label Studio via this URL\n",
    ")"
   ]
  }
 ],
 "metadata": {
  "kernelspec": {
   "display_name": ".venv",
   "language": "python",
   "name": "python3"
  },
  "language_info": {
   "codemirror_mode": {
    "name": "ipython",
    "version": 3
   },
   "file_extension": ".py",
   "mimetype": "text/x-python",
   "name": "python",
   "nbconvert_exporter": "python",
   "pygments_lexer": "ipython3",
   "version": "3.12.3"
  }
 },
 "nbformat": 4,
 "nbformat_minor": 2
}
