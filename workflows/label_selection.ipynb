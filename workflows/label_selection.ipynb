{
 "cells": [
  {
   "cell_type": "markdown",
   "metadata": {},
   "source": [
    "# Label Selection\n",
    "\n",
    "This is a **manual workflow**. Once a dataset has been populated with the results from the **Ensemble Exploration** workflow, this workflow can be used to select the samples to be labeled. Here you manually select the final images to be labeled. These will be exported and are ready to be labeled.\n"
   ]
  },
  {
   "cell_type": "code",
   "execution_count": 31,
   "metadata": {},
   "outputs": [],
   "source": [
    "from fiftyone import ViewField as F\n",
    "import fiftyone as fo\n",
    "import os"
   ]
  },
  {
   "cell_type": "code",
   "execution_count": 26,
   "metadata": {},
   "outputs": [],
   "source": [
    "# Loading dataset and filtering view for optimized performance\n",
    "# Shows only samples with min. n unique detections from Ensemble Exploration\n",
    "# Shows only labels that belong to the unique detections\n",
    "dataset_name = \"mcity_fisheye_3_months\" # Dataset to load\n",
    "dataset = fo.load_dataset(dataset_name)\n",
    "min_n_unique_exploration = 3\n",
    "view_n_unique_exploration = dataset.match(F(\"n_unique_exploration\") >= min_n_unique_exploration)\n",
    "view_tagged_labels = view_n_unique_exploration.select_labels(tags=\"vru_overlap\")    # FIXME detections_overlap"
   ]
  },
  {
   "cell_type": "code",
   "execution_count": 27,
   "metadata": {},
   "outputs": [
    {
     "data": {
      "text/html": [
       "\n",
       "        <iframe\n",
       "            width=\"100%\"\n",
       "            height=\"800\"\n",
       "            src=\"http://localhost:5151/?notebook=True&subscription=c4a817fc-3f77-4c22-93e2-1bb2099a9133\"\n",
       "            frameborder=\"0\"\n",
       "            allowfullscreen\n",
       "            \n",
       "        ></iframe>\n",
       "        "
      ],
      "text/plain": [
       "<IPython.lib.display.IFrame at 0x702c163e2b10>"
      ]
     },
     "metadata": {},
     "output_type": "display_data"
    },
    {
     "data": {
      "text/plain": [
       "Dataset:          mcity_fisheye_3_months\n",
       "Media type:       image\n",
       "Num samples:      10653\n",
       "Selected samples: 0\n",
       "Selected labels:  0\n",
       "Session URL:      http://localhost:5151/\n",
       "View stages:\n",
       "    1. Match(filter={'$expr': {'$gte': [...]}})\n",
       "    2. SelectLabels(labels=None, ids=None, tags=['vru_overlap'], fields=None, omit_empty=True)"
      ]
     },
     "execution_count": 27,
     "metadata": {},
     "output_type": "execute_result"
    }
   ],
   "source": [
    "# Use this view to label the samples you want to have labeled\n",
    "# Choose the tag_for_labeling to tag the samples you want to label\n",
    "tag_for_labeling = \"select_vru\" # FIXME todo_label\n",
    "fo.launch_app(view=view_tagged_labels)"
   ]
  },
  {
   "cell_type": "code",
   "execution_count": 28,
   "metadata": {},
   "outputs": [
    {
     "name": "stdout",
     "output_type": "stream",
     "text": [
      "Dataset:     mcity_fisheye_3_months\n",
      "Media type:  image\n",
      "Num samples: 100\n",
      "Sample fields:\n",
      "    id:                                           fiftyone.core.fields.ObjectIdField\n",
      "    filepath:                                     fiftyone.core.fields.StringField\n",
      "    tags:                                         fiftyone.core.fields.ListField(fiftyone.core.fields.StringField)\n",
      "    metadata:                                     fiftyone.core.fields.EmbeddedDocumentField(fiftyone.core.metadata.ImageMetadata)\n",
      "    created_at:                                   fiftyone.core.fields.DateTimeField\n",
      "    last_modified_at:                             fiftyone.core.fields.DateTimeField\n",
      "    ground_truth:                                 fiftyone.core.fields.EmbeddedDocumentField(fiftyone.core.labels.Detections)\n",
      "    location:                                     fiftyone.core.fields.StringField\n",
      "    name:                                         fiftyone.core.fields.StringField\n",
      "    timestamp:                                    fiftyone.core.fields.DateTimeField\n",
      "    pred_IDEA_Research_grounding_dino_tiny:       fiftyone.core.fields.EmbeddedDocumentField(fiftyone.core.labels.Detections)\n",
      "    pred_IDEA_Research_grounding_dino_base:       fiftyone.core.fields.EmbeddedDocumentField(fiftyone.core.labels.Detections)\n",
      "    pred_google_owlvit_large_patch14:             fiftyone.core.fields.EmbeddedDocumentField(fiftyone.core.labels.Detections)\n",
      "    pred_google_owlv2_base_patch16:               fiftyone.core.fields.EmbeddedDocumentField(fiftyone.core.labels.Detections)\n",
      "    pred_google_owlv2_base_patch16_ensemble:      fiftyone.core.fields.EmbeddedDocumentField(fiftyone.core.labels.Detections)\n",
      "    pred_google_owlv2_base_patch16_finetuned:     fiftyone.core.fields.EmbeddedDocumentField(fiftyone.core.labels.Detections)\n",
      "    pred_google_owlv2_large_patch14:              fiftyone.core.fields.EmbeddedDocumentField(fiftyone.core.labels.Detections)\n",
      "    pred_google_owlv2_large_patch14_ensemble:     fiftyone.core.fields.EmbeddedDocumentField(fiftyone.core.labels.Detections)\n",
      "    pred_google_owlv2_large_patch14_finetuned:    fiftyone.core.fields.EmbeddedDocumentField(fiftyone.core.labels.Detections)\n",
      "    pred_omlab_omdet_turbo_swin_tiny_hf:          fiftyone.core.fields.EmbeddedDocumentField(fiftyone.core.labels.Detections)\n",
      "    eval_IDEA_Research_grounding_dino_tiny_tp:    fiftyone.core.fields.IntField\n",
      "    eval_IDEA_Research_grounding_dino_tiny_fp:    fiftyone.core.fields.IntField\n",
      "    eval_IDEA_Research_grounding_dino_tiny_fn:    fiftyone.core.fields.IntField\n",
      "    eval_IDEA_Research_grounding_dino_base_tp:    fiftyone.core.fields.IntField\n",
      "    eval_IDEA_Research_grounding_dino_base_fp:    fiftyone.core.fields.IntField\n",
      "    eval_IDEA_Research_grounding_dino_base_fn:    fiftyone.core.fields.IntField\n",
      "    eval_google_owlvit_large_patch14_tp:          fiftyone.core.fields.IntField\n",
      "    eval_google_owlvit_large_patch14_fp:          fiftyone.core.fields.IntField\n",
      "    eval_google_owlvit_large_patch14_fn:          fiftyone.core.fields.IntField\n",
      "    eval_google_owlv2_base_patch16_tp:            fiftyone.core.fields.IntField\n",
      "    eval_google_owlv2_base_patch16_fp:            fiftyone.core.fields.IntField\n",
      "    eval_google_owlv2_base_patch16_fn:            fiftyone.core.fields.IntField\n",
      "    eval_google_owlv2_base_patch16_ensemble_tp:   fiftyone.core.fields.IntField\n",
      "    eval_google_owlv2_base_patch16_ensemble_fp:   fiftyone.core.fields.IntField\n",
      "    eval_google_owlv2_base_patch16_ensemble_fn:   fiftyone.core.fields.IntField\n",
      "    eval_google_owlv2_base_patch16_finetuned_tp:  fiftyone.core.fields.IntField\n",
      "    eval_google_owlv2_base_patch16_finetuned_fp:  fiftyone.core.fields.IntField\n",
      "    eval_google_owlv2_base_patch16_finetuned_fn:  fiftyone.core.fields.IntField\n",
      "    eval_google_owlv2_large_patch14_tp:           fiftyone.core.fields.IntField\n",
      "    eval_google_owlv2_large_patch14_fp:           fiftyone.core.fields.IntField\n",
      "    eval_google_owlv2_large_patch14_fn:           fiftyone.core.fields.IntField\n",
      "    eval_google_owlv2_large_patch14_ensemble_tp:  fiftyone.core.fields.IntField\n",
      "    eval_google_owlv2_large_patch14_ensemble_fp:  fiftyone.core.fields.IntField\n",
      "    eval_google_owlv2_large_patch14_ensemble_fn:  fiftyone.core.fields.IntField\n",
      "    eval_google_owlv2_large_patch14_finetuned_tp: fiftyone.core.fields.IntField\n",
      "    eval_google_owlv2_large_patch14_finetuned_fp: fiftyone.core.fields.IntField\n",
      "    eval_google_owlv2_large_patch14_finetuned_fn: fiftyone.core.fields.IntField\n",
      "    eval_omlab_omdet_turbo_swin_tiny_hf_tp:       fiftyone.core.fields.IntField\n",
      "    eval_omlab_omdet_turbo_swin_tiny_hf_fp:       fiftyone.core.fields.IntField\n",
      "    eval_omlab_omdet_turbo_swin_tiny_hf_fn:       fiftyone.core.fields.IntField\n",
      "    n_unique_exploration:                         fiftyone.core.fields.IntField\n",
      "View stages:\n",
      "    1. MatchTags(tags=['select_vru'], bool=True, all=False)\n"
     ]
    }
   ],
   "source": [
    "# Inspect your selection of samples to be labeled\n",
    "view_selection = dataset.match_tags(tag_for_labeling)\n",
    "print(view_selection)"
   ]
  },
  {
   "cell_type": "code",
   "execution_count": 29,
   "metadata": {},
   "outputs": [
    {
     "name": "stdout",
     "output_type": "stream",
     "text": [
      "Directory '/media/dbogdoll/Datasets/vru_labeling' already exists; export will be merged with existing files\n",
      " 100% |███████████████████| 96/96 [5.4s elapsed, 0s remaining, 24.6 samples/s]      \n",
      "Directory '/media/dbogdoll/Datasets/vru_labeling' already exists; export will be merged with existing files\n",
      " 100% |█████████████████████| 4/4 [108.1ms elapsed, 0s remaining, 37.0 samples/s] \n"
     ]
    }
   ],
   "source": [
    "# Export the dataset you want to have labeled\n",
    "# This example uses the YOLOv5Dataset format which also exports labels\n",
    "# https://docs.voxel51.com/user_guide/export_datasets.html#yolov5dataset\n",
    "\n",
    "splits = [\"train\", \"val\"]                                                   # Select all the splits your dataset has\n",
    "export_dir=\"/media/dbogdoll/Datasets/vru_labeling\"                          # Directory to export the files to\n",
    "label_field=\"pred_google_owlv2_large_patch14_finetuned\"                     # Include a prediction field from one of the zero-shot models\n",
    "\n",
    "classes=view_selection.distinct(f\"{label_field}.detections.label\")          # Get all the classes from the prediction field\n",
    "\n",
    "# Export the splits\n",
    "for split in splits:\n",
    "    split_view = view_selection.match_tags(split)\n",
    "    split_view.export(\n",
    "        export_dir=export_dir,\n",
    "        dataset_type=fo.types.YOLOv5Dataset,\n",
    "        label_field=label_field,\n",
    "        split=split,\n",
    "        classes=classes,\n",
    "    )"
   ]
  },
  {
   "cell_type": "code",
   "execution_count": null,
   "metadata": {},
   "outputs": [
    {
     "name": "stdout",
     "output_type": "stream",
     "text": [
      "The backend 'labelstudio' does not support attributes. Provided attributes will be ignored.\n",
      "Please enter your API key.\n",
      "You can avoid this in the future by setting your `FIFTYONE_LABELSTUDIO_API_KEY` environment variable\n"
     ]
    },
    {
     "ename": "HTTPError",
     "evalue": "404 Client Error: Not Found for url: https://labelstud.io/user/login",
     "output_type": "error",
     "traceback": [
      "\u001b[0;31m---------------------------------------------------------------------------\u001b[0m",
      "\u001b[0;31mHTTPError\u001b[0m                                 Traceback (most recent call last)",
      "Cell \u001b[0;32mIn[30], line 14\u001b[0m\n\u001b[1;32m      6\u001b[0m classes_for_labeling \u001b[38;5;241m=\u001b[39m [\u001b[38;5;124m\"\u001b[39m\u001b[38;5;124mcar\u001b[39m\u001b[38;5;124m\"\u001b[39m, \u001b[38;5;124m\"\u001b[39m\u001b[38;5;124mtruck\u001b[39m\u001b[38;5;124m\"\u001b[39m, \u001b[38;5;124m\"\u001b[39m\u001b[38;5;124mbus\u001b[39m\u001b[38;5;124m\"\u001b[39m, \u001b[38;5;124m\"\u001b[39m\u001b[38;5;124mtrailer\u001b[39m\u001b[38;5;124m\"\u001b[39m, \u001b[38;5;124m\"\u001b[39m\u001b[38;5;124mmotorbike/cycler\u001b[39m\u001b[38;5;124m\"\u001b[39m, \u001b[38;5;124m\"\u001b[39m\u001b[38;5;124mpedestrian\u001b[39m\u001b[38;5;124m\"\u001b[39m, \u001b[38;5;124m\"\u001b[39m\u001b[38;5;124mvan\u001b[39m\u001b[38;5;124m\"\u001b[39m, \u001b[38;5;124m\"\u001b[39m\u001b[38;5;124mpickup\u001b[39m\u001b[38;5;124m\"\u001b[39m]    \u001b[38;5;66;03m# Classes from Mcity Fisheye dataset\u001b[39;00m\n\u001b[1;32m      7\u001b[0m label_schema \u001b[38;5;241m=\u001b[39m {\n\u001b[1;32m      8\u001b[0m     \u001b[38;5;124m\"\u001b[39m\u001b[38;5;124mnew_ground_truth\u001b[39m\u001b[38;5;124m\"\u001b[39m: {\n\u001b[1;32m      9\u001b[0m         \u001b[38;5;124m\"\u001b[39m\u001b[38;5;124mtype\u001b[39m\u001b[38;5;124m\"\u001b[39m: \u001b[38;5;124m\"\u001b[39m\u001b[38;5;124mdetections\u001b[39m\u001b[38;5;124m\"\u001b[39m,\n\u001b[1;32m     10\u001b[0m         \u001b[38;5;124m\"\u001b[39m\u001b[38;5;124mclasses\u001b[39m\u001b[38;5;124m\"\u001b[39m: dataset\u001b[38;5;241m.\u001b[39mdistinct(\u001b[38;5;124m\"\u001b[39m\u001b[38;5;124mground_truth.detections.label\u001b[39m\u001b[38;5;124m\"\u001b[39m),\n\u001b[1;32m     11\u001b[0m     },\n\u001b[1;32m     12\u001b[0m }\n\u001b[0;32m---> 14\u001b[0m \u001b[43mview_selection\u001b[49m\u001b[38;5;241;43m.\u001b[39;49m\u001b[43mannotate\u001b[49m\u001b[43m(\u001b[49m\n\u001b[1;32m     15\u001b[0m \u001b[43m    \u001b[49m\u001b[43manno_key\u001b[49m\u001b[43m,\u001b[49m\n\u001b[1;32m     16\u001b[0m \u001b[43m    \u001b[49m\u001b[43mbackend\u001b[49m\u001b[38;5;241;43m=\u001b[39;49m\u001b[38;5;124;43m\"\u001b[39;49m\u001b[38;5;124;43mlabelstudio\u001b[39;49m\u001b[38;5;124;43m\"\u001b[39;49m\u001b[43m,\u001b[49m\n\u001b[1;32m     17\u001b[0m \u001b[43m    \u001b[49m\u001b[43mlabel_schema\u001b[49m\u001b[38;5;241;43m=\u001b[39;49m\u001b[43mlabel_schema\u001b[49m\u001b[43m,\u001b[49m\n\u001b[1;32m     18\u001b[0m \u001b[43m    \u001b[49m\u001b[43mlaunch_editor\u001b[49m\u001b[38;5;241;43m=\u001b[39;49m\u001b[38;5;28;43;01mTrue\u001b[39;49;00m\u001b[43m,\u001b[49m\n\u001b[1;32m     19\u001b[0m \u001b[43m)\u001b[49m\n",
      "File \u001b[0;32m~/mcity_data_engine/.venv/lib/python3.12/site-packages/fiftyone/core/collections.py:9280\u001b[0m, in \u001b[0;36mSampleCollection.annotate\u001b[0;34m(self, anno_key, label_schema, label_field, label_type, classes, attributes, mask_targets, allow_additions, allow_deletions, allow_label_edits, allow_index_edits, allow_spatial_edits, media_field, backend, launch_editor, **kwargs)\u001b[0m\n\u001b[1;32m   9150\u001b[0m \u001b[38;5;28;01mdef\u001b[39;00m \u001b[38;5;21mannotate\u001b[39m(\n\u001b[1;32m   9151\u001b[0m     \u001b[38;5;28mself\u001b[39m,\n\u001b[1;32m   9152\u001b[0m     anno_key,\n\u001b[0;32m   (...)\u001b[0m\n\u001b[1;32m   9167\u001b[0m     \u001b[38;5;241m*\u001b[39m\u001b[38;5;241m*\u001b[39mkwargs,\n\u001b[1;32m   9168\u001b[0m ):\n\u001b[1;32m   9169\u001b[0m \u001b[38;5;250m    \u001b[39m\u001b[38;5;124;03m\"\"\"Exports the samples and optional label field(s) in this collection\u001b[39;00m\n\u001b[1;32m   9170\u001b[0m \u001b[38;5;124;03m    to the given annotation backend.\u001b[39;00m\n\u001b[1;32m   9171\u001b[0m \n\u001b[0;32m   (...)\u001b[0m\n\u001b[1;32m   9278\u001b[0m \u001b[38;5;124;03m        an :class:`fiftyone.utils.annotations.AnnnotationResults`\u001b[39;00m\n\u001b[1;32m   9279\u001b[0m \u001b[38;5;124;03m    \"\"\"\u001b[39;00m\n\u001b[0;32m-> 9280\u001b[0m     \u001b[38;5;28;01mreturn\u001b[39;00m \u001b[43mfoua\u001b[49m\u001b[38;5;241;43m.\u001b[39;49m\u001b[43mannotate\u001b[49m\u001b[43m(\u001b[49m\n\u001b[1;32m   9281\u001b[0m \u001b[43m        \u001b[49m\u001b[38;5;28;43mself\u001b[39;49m\u001b[43m,\u001b[49m\n\u001b[1;32m   9282\u001b[0m \u001b[43m        \u001b[49m\u001b[43manno_key\u001b[49m\u001b[43m,\u001b[49m\n\u001b[1;32m   9283\u001b[0m \u001b[43m        \u001b[49m\u001b[43mlabel_schema\u001b[49m\u001b[38;5;241;43m=\u001b[39;49m\u001b[43mlabel_schema\u001b[49m\u001b[43m,\u001b[49m\n\u001b[1;32m   9284\u001b[0m \u001b[43m        \u001b[49m\u001b[43mlabel_field\u001b[49m\u001b[38;5;241;43m=\u001b[39;49m\u001b[43mlabel_field\u001b[49m\u001b[43m,\u001b[49m\n\u001b[1;32m   9285\u001b[0m \u001b[43m        \u001b[49m\u001b[43mlabel_type\u001b[49m\u001b[38;5;241;43m=\u001b[39;49m\u001b[43mlabel_type\u001b[49m\u001b[43m,\u001b[49m\n\u001b[1;32m   9286\u001b[0m \u001b[43m        \u001b[49m\u001b[43mclasses\u001b[49m\u001b[38;5;241;43m=\u001b[39;49m\u001b[43mclasses\u001b[49m\u001b[43m,\u001b[49m\n\u001b[1;32m   9287\u001b[0m \u001b[43m        \u001b[49m\u001b[43mattributes\u001b[49m\u001b[38;5;241;43m=\u001b[39;49m\u001b[43mattributes\u001b[49m\u001b[43m,\u001b[49m\n\u001b[1;32m   9288\u001b[0m \u001b[43m        \u001b[49m\u001b[43mmask_targets\u001b[49m\u001b[38;5;241;43m=\u001b[39;49m\u001b[43mmask_targets\u001b[49m\u001b[43m,\u001b[49m\n\u001b[1;32m   9289\u001b[0m \u001b[43m        \u001b[49m\u001b[43mallow_additions\u001b[49m\u001b[38;5;241;43m=\u001b[39;49m\u001b[43mallow_additions\u001b[49m\u001b[43m,\u001b[49m\n\u001b[1;32m   9290\u001b[0m \u001b[43m        \u001b[49m\u001b[43mallow_deletions\u001b[49m\u001b[38;5;241;43m=\u001b[39;49m\u001b[43mallow_deletions\u001b[49m\u001b[43m,\u001b[49m\n\u001b[1;32m   9291\u001b[0m \u001b[43m        \u001b[49m\u001b[43mallow_label_edits\u001b[49m\u001b[38;5;241;43m=\u001b[39;49m\u001b[43mallow_label_edits\u001b[49m\u001b[43m,\u001b[49m\n\u001b[1;32m   9292\u001b[0m \u001b[43m        \u001b[49m\u001b[43mallow_index_edits\u001b[49m\u001b[38;5;241;43m=\u001b[39;49m\u001b[43mallow_index_edits\u001b[49m\u001b[43m,\u001b[49m\n\u001b[1;32m   9293\u001b[0m \u001b[43m        \u001b[49m\u001b[43mallow_spatial_edits\u001b[49m\u001b[38;5;241;43m=\u001b[39;49m\u001b[43mallow_spatial_edits\u001b[49m\u001b[43m,\u001b[49m\n\u001b[1;32m   9294\u001b[0m \u001b[43m        \u001b[49m\u001b[43mmedia_field\u001b[49m\u001b[38;5;241;43m=\u001b[39;49m\u001b[43mmedia_field\u001b[49m\u001b[43m,\u001b[49m\n\u001b[1;32m   9295\u001b[0m \u001b[43m        \u001b[49m\u001b[43mbackend\u001b[49m\u001b[38;5;241;43m=\u001b[39;49m\u001b[43mbackend\u001b[49m\u001b[43m,\u001b[49m\n\u001b[1;32m   9296\u001b[0m \u001b[43m        \u001b[49m\u001b[43mlaunch_editor\u001b[49m\u001b[38;5;241;43m=\u001b[39;49m\u001b[43mlaunch_editor\u001b[49m\u001b[43m,\u001b[49m\n\u001b[1;32m   9297\u001b[0m \u001b[43m        \u001b[49m\u001b[38;5;241;43m*\u001b[39;49m\u001b[38;5;241;43m*\u001b[39;49m\u001b[43mkwargs\u001b[49m\u001b[43m,\u001b[49m\n\u001b[1;32m   9298\u001b[0m \u001b[43m    \u001b[49m\u001b[43m)\u001b[49m\n",
      "File \u001b[0;32m~/mcity_data_engine/.venv/lib/python3.12/site-packages/fiftyone/utils/annotations.py:249\u001b[0m, in \u001b[0;36mannotate\u001b[0;34m(samples, anno_key, label_schema, label_field, label_type, classes, attributes, mask_targets, allow_additions, allow_deletions, allow_label_edits, allow_index_edits, allow_spatial_edits, media_field, backend, launch_editor, **kwargs)\u001b[0m\n\u001b[1;32m    244\u001b[0m \u001b[38;5;66;03m# Don't allow overwriting an existing run with same `anno_key`, since we\u001b[39;00m\n\u001b[1;32m    245\u001b[0m \u001b[38;5;66;03m# need the existing run in order to perform workflows like automatically\u001b[39;00m\n\u001b[1;32m    246\u001b[0m \u001b[38;5;66;03m# cleaning up the backend's tasks\u001b[39;00m\n\u001b[1;32m    247\u001b[0m anno_backend\u001b[38;5;241m.\u001b[39mregister_run(samples, anno_key, overwrite\u001b[38;5;241m=\u001b[39m\u001b[38;5;28;01mFalse\u001b[39;00m)\n\u001b[0;32m--> 249\u001b[0m results \u001b[38;5;241m=\u001b[39m \u001b[43manno_backend\u001b[49m\u001b[38;5;241;43m.\u001b[39;49m\u001b[43mupload_annotations\u001b[49m\u001b[43m(\u001b[49m\n\u001b[1;32m    250\u001b[0m \u001b[43m    \u001b[49m\u001b[43msamples\u001b[49m\u001b[43m,\u001b[49m\u001b[43m \u001b[49m\u001b[43manno_key\u001b[49m\u001b[43m,\u001b[49m\u001b[43m \u001b[49m\u001b[43mlaunch_editor\u001b[49m\u001b[38;5;241;43m=\u001b[39;49m\u001b[43mlaunch_editor\u001b[49m\n\u001b[1;32m    251\u001b[0m \u001b[43m\u001b[49m\u001b[43m)\u001b[49m\n\u001b[1;32m    253\u001b[0m results\u001b[38;5;241m.\u001b[39m_finalize_id_map()\n\u001b[1;32m    255\u001b[0m anno_backend\u001b[38;5;241m.\u001b[39msave_run_results(samples, anno_key, results)\n",
      "File \u001b[0;32m~/mcity_data_engine/.venv/lib/python3.12/site-packages/fiftyone/utils/labelstudio.py:144\u001b[0m, in \u001b[0;36mLabelStudioBackend.upload_annotations\u001b[0;34m(self, samples, anno_key, launch_editor)\u001b[0m\n\u001b[1;32m    143\u001b[0m \u001b[38;5;28;01mdef\u001b[39;00m \u001b[38;5;21mupload_annotations\u001b[39m(\u001b[38;5;28mself\u001b[39m, samples, anno_key, launch_editor\u001b[38;5;241m=\u001b[39m\u001b[38;5;28;01mFalse\u001b[39;00m):\n\u001b[0;32m--> 144\u001b[0m     api \u001b[38;5;241m=\u001b[39m \u001b[38;5;28;43mself\u001b[39;49m\u001b[38;5;241;43m.\u001b[39;49m\u001b[43mconnect_to_api\u001b[49m\u001b[43m(\u001b[49m\u001b[43m)\u001b[49m\n\u001b[1;32m    146\u001b[0m     logger\u001b[38;5;241m.\u001b[39minfo(\u001b[38;5;124m\"\u001b[39m\u001b[38;5;124mUploading media to Label Studio...\u001b[39m\u001b[38;5;124m\"\u001b[39m)\n\u001b[1;32m    147\u001b[0m     results \u001b[38;5;241m=\u001b[39m api\u001b[38;5;241m.\u001b[39mupload_samples(samples, anno_key, \u001b[38;5;28mself\u001b[39m)\n",
      "File \u001b[0;32m~/mcity_data_engine/.venv/lib/python3.12/site-packages/fiftyone/utils/annotations.py:2120\u001b[0m, in \u001b[0;36mAnnotationBackend.connect_to_api\u001b[0;34m(self)\u001b[0m\n\u001b[1;32m   2108\u001b[0m \u001b[38;5;250m\u001b[39m\u001b[38;5;124;03m\"\"\"Returns an API instance connected to the annotation backend.\u001b[39;00m\n\u001b[1;32m   2109\u001b[0m \n\u001b[1;32m   2110\u001b[0m \u001b[38;5;124;03mExisting API instances are reused, if available.\u001b[39;00m\n\u001b[0;32m   (...)\u001b[0m\n\u001b[1;32m   2116\u001b[0m \u001b[38;5;124;03m    expose an API\u001b[39;00m\n\u001b[1;32m   2117\u001b[0m \u001b[38;5;124;03m\"\"\"\u001b[39;00m\n\u001b[1;32m   2118\u001b[0m \u001b[38;5;28;01mif\u001b[39;00m \u001b[38;5;28mself\u001b[39m\u001b[38;5;241m.\u001b[39m_api \u001b[38;5;129;01mis\u001b[39;00m \u001b[38;5;28;01mNone\u001b[39;00m:\n\u001b[1;32m   2119\u001b[0m     \u001b[38;5;66;03m# pylint: disable=assignment-from-none\u001b[39;00m\n\u001b[0;32m-> 2120\u001b[0m     \u001b[38;5;28mself\u001b[39m\u001b[38;5;241m.\u001b[39m_api \u001b[38;5;241m=\u001b[39m \u001b[38;5;28;43mself\u001b[39;49m\u001b[38;5;241;43m.\u001b[39;49m\u001b[43m_connect_to_api\u001b[49m\u001b[43m(\u001b[49m\u001b[43m)\u001b[49m\n\u001b[1;32m   2122\u001b[0m \u001b[38;5;28;01mreturn\u001b[39;00m \u001b[38;5;28mself\u001b[39m\u001b[38;5;241m.\u001b[39m_api\n",
      "File \u001b[0;32m~/mcity_data_engine/.venv/lib/python3.12/site-packages/fiftyone/utils/labelstudio.py:139\u001b[0m, in \u001b[0;36mLabelStudioBackend._connect_to_api\u001b[0;34m(self)\u001b[0m\n\u001b[1;32m    138\u001b[0m \u001b[38;5;28;01mdef\u001b[39;00m \u001b[38;5;21m_connect_to_api\u001b[39m(\u001b[38;5;28mself\u001b[39m):\n\u001b[0;32m--> 139\u001b[0m     \u001b[38;5;28;01mreturn\u001b[39;00m \u001b[43mLabelStudioAnnotationAPI\u001b[49m\u001b[43m(\u001b[49m\n\u001b[1;32m    140\u001b[0m \u001b[43m        \u001b[49m\u001b[43murl\u001b[49m\u001b[38;5;241;43m=\u001b[39;49m\u001b[38;5;28;43mself\u001b[39;49m\u001b[38;5;241;43m.\u001b[39;49m\u001b[43mconfig\u001b[49m\u001b[38;5;241;43m.\u001b[39;49m\u001b[43murl\u001b[49m\u001b[43m,\u001b[49m\u001b[43m \u001b[49m\u001b[43mapi_key\u001b[49m\u001b[38;5;241;43m=\u001b[39;49m\u001b[38;5;28;43mself\u001b[39;49m\u001b[38;5;241;43m.\u001b[39;49m\u001b[43mconfig\u001b[49m\u001b[38;5;241;43m.\u001b[39;49m\u001b[43mapi_key\u001b[49m\n\u001b[1;32m    141\u001b[0m \u001b[43m    \u001b[49m\u001b[43m)\u001b[49m\n",
      "File \u001b[0;32m~/mcity_data_engine/.venv/lib/python3.12/site-packages/fiftyone/utils/labelstudio.py:178\u001b[0m, in \u001b[0;36mLabelStudioAnnotationAPI.__init__\u001b[0;34m(self, url, api_key)\u001b[0m\n\u001b[1;32m    175\u001b[0m \u001b[38;5;28mself\u001b[39m\u001b[38;5;241m.\u001b[39mbackend \u001b[38;5;241m=\u001b[39m \u001b[38;5;124m\"\u001b[39m\u001b[38;5;124mlabelstudio\u001b[39m\u001b[38;5;124m\"\u001b[39m\n\u001b[1;32m    176\u001b[0m \u001b[38;5;28mself\u001b[39m\u001b[38;5;241m.\u001b[39m_min_server_version \u001b[38;5;241m=\u001b[39m \u001b[38;5;124m\"\u001b[39m\u001b[38;5;124m1.5.0\u001b[39m\u001b[38;5;124m\"\u001b[39m\n\u001b[0;32m--> 178\u001b[0m \u001b[38;5;28;43mself\u001b[39;49m\u001b[38;5;241;43m.\u001b[39;49m\u001b[43m_setup\u001b[49m\u001b[43m(\u001b[49m\u001b[43m)\u001b[49m\n",
      "File \u001b[0;32m~/mcity_data_engine/.venv/lib/python3.12/site-packages/fiftyone/utils/labelstudio.py:184\u001b[0m, in \u001b[0;36mLabelStudioAnnotationAPI._setup\u001b[0;34m(self)\u001b[0m\n\u001b[1;32m    181\u001b[0m \u001b[38;5;28;01mif\u001b[39;00m \u001b[38;5;28mself\u001b[39m\u001b[38;5;241m.\u001b[39m_api_key \u001b[38;5;129;01mis\u001b[39;00m \u001b[38;5;28;01mNone\u001b[39;00m:\n\u001b[1;32m    182\u001b[0m     \u001b[38;5;28mself\u001b[39m\u001b[38;5;241m.\u001b[39m_api_key \u001b[38;5;241m=\u001b[39m \u001b[38;5;28mself\u001b[39m\u001b[38;5;241m.\u001b[39m_prompt_api_key(\u001b[38;5;28mself\u001b[39m\u001b[38;5;241m.\u001b[39mbackend)\n\u001b[0;32m--> 184\u001b[0m \u001b[38;5;28mself\u001b[39m\u001b[38;5;241m.\u001b[39m_client \u001b[38;5;241m=\u001b[39m \u001b[43mls\u001b[49m\u001b[38;5;241;43m.\u001b[39;49m\u001b[43mClient\u001b[49m\u001b[43m(\u001b[49m\u001b[38;5;28;43mself\u001b[39;49m\u001b[38;5;241;43m.\u001b[39;49m\u001b[43murl\u001b[49m\u001b[43m,\u001b[49m\u001b[43m \u001b[49m\u001b[38;5;28;43mself\u001b[39;49m\u001b[38;5;241;43m.\u001b[39;49m\u001b[43m_api_key\u001b[49m\u001b[43m)\u001b[49m\n\u001b[1;32m    185\u001b[0m \u001b[38;5;28mself\u001b[39m\u001b[38;5;241m.\u001b[39m_client\u001b[38;5;241m.\u001b[39mcheck_connection()\n\u001b[1;32m    186\u001b[0m \u001b[38;5;28mself\u001b[39m\u001b[38;5;241m.\u001b[39m_verify_server_version()\n",
      "File \u001b[0;32m~/mcity_data_engine/.venv/lib/python3.12/site-packages/label_studio_sdk/_legacy/client.py:100\u001b[0m, in \u001b[0;36mClient.__init__\u001b[0;34m(self, url, api_key, credentials, session, extra_headers, cookies, oidc_token, versions, make_request_raise)\u001b[0m\n\u001b[1;32m     91\u001b[0m \u001b[38;5;28;01mif\u001b[39;00m api_key \u001b[38;5;129;01mis\u001b[39;00m \u001b[38;5;28;01mNone\u001b[39;00m \u001b[38;5;129;01mand\u001b[39;00m credentials \u001b[38;5;129;01mis\u001b[39;00m \u001b[38;5;28;01mNone\u001b[39;00m:\n\u001b[1;32m     92\u001b[0m     \u001b[38;5;28;01mraise\u001b[39;00m \u001b[38;5;167;01mRuntimeError\u001b[39;00m(\n\u001b[1;32m     93\u001b[0m         \u001b[38;5;124m\"\u001b[39m\u001b[38;5;124mIf neither \u001b[39m\u001b[38;5;124m'\u001b[39m\u001b[38;5;124mapi_key\u001b[39m\u001b[38;5;124m'\u001b[39m\u001b[38;5;124m nor \u001b[39m\u001b[38;5;124m'\u001b[39m\u001b[38;5;124mcredentials\u001b[39m\u001b[38;5;124m'\u001b[39m\u001b[38;5;124m are provided, \u001b[39m\u001b[38;5;124m'\u001b[39m\u001b[38;5;124mLABEL_STUDIO_API_KEY\u001b[39m\u001b[38;5;124m'\u001b[39m\u001b[38;5;124m environment variable must \u001b[39m\u001b[38;5;124m\"\u001b[39m\n\u001b[1;32m     94\u001b[0m         \u001b[38;5;124m\"\u001b[39m\u001b[38;5;124mbe set\u001b[39m\u001b[38;5;124m\"\u001b[39m\n\u001b[1;32m     95\u001b[0m     )\n\u001b[1;32m     97\u001b[0m \u001b[38;5;28mself\u001b[39m\u001b[38;5;241m.\u001b[39mapi_key \u001b[38;5;241m=\u001b[39m (\n\u001b[1;32m     98\u001b[0m     credentials\u001b[38;5;241m.\u001b[39mapi_key\n\u001b[1;32m     99\u001b[0m     \u001b[38;5;28;01mif\u001b[39;00m credentials\u001b[38;5;241m.\u001b[39mapi_key\n\u001b[0;32m--> 100\u001b[0m     \u001b[38;5;28;01melse\u001b[39;00m \u001b[38;5;28;43mself\u001b[39;49m\u001b[38;5;241;43m.\u001b[39;49m\u001b[43mget_api_key\u001b[49m\u001b[43m(\u001b[49m\u001b[43mcredentials\u001b[49m\u001b[43m)\u001b[49m\n\u001b[1;32m    101\u001b[0m )\n\u001b[1;32m    103\u001b[0m \u001b[38;5;66;03m# set headers\u001b[39;00m\n\u001b[1;32m    104\u001b[0m \u001b[38;5;28mself\u001b[39m\u001b[38;5;241m.\u001b[39mheaders \u001b[38;5;241m=\u001b[39m {\u001b[38;5;124m\"\u001b[39m\u001b[38;5;124mAuthorization\u001b[39m\u001b[38;5;124m\"\u001b[39m: \u001b[38;5;124mf\u001b[39m\u001b[38;5;124m\"\u001b[39m\u001b[38;5;124mToken \u001b[39m\u001b[38;5;132;01m{\u001b[39;00m\u001b[38;5;28mself\u001b[39m\u001b[38;5;241m.\u001b[39mapi_key\u001b[38;5;132;01m}\u001b[39;00m\u001b[38;5;124m\"\u001b[39m}\n",
      "File \u001b[0;32m~/mcity_data_engine/.venv/lib/python3.12/site-packages/label_studio_sdk/_legacy/client.py:136\u001b[0m, in \u001b[0;36mClient.get_api_key\u001b[0;34m(self, credentials)\u001b[0m\n\u001b[1;32m    129\u001b[0m csrf_token \u001b[38;5;241m=\u001b[39m \u001b[38;5;28mself\u001b[39m\u001b[38;5;241m.\u001b[39msession\u001b[38;5;241m.\u001b[39mcookies\u001b[38;5;241m.\u001b[39mget(\u001b[38;5;124m\"\u001b[39m\u001b[38;5;124mcsrftoken\u001b[39m\u001b[38;5;124m\"\u001b[39m, \u001b[38;5;28;01mNone\u001b[39;00m)\n\u001b[1;32m    130\u001b[0m login_data \u001b[38;5;241m=\u001b[39m \u001b[38;5;28mdict\u001b[39m(\u001b[38;5;241m*\u001b[39m\u001b[38;5;241m*\u001b[39mcredentials\u001b[38;5;241m.\u001b[39mdict(), csrfmiddlewaretoken\u001b[38;5;241m=\u001b[39mcsrf_token)\n\u001b[1;32m    131\u001b[0m \u001b[38;5;28;43mself\u001b[39;49m\u001b[38;5;241;43m.\u001b[39;49m\u001b[43msession\u001b[49m\u001b[38;5;241;43m.\u001b[39;49m\u001b[43mpost\u001b[49m\u001b[43m(\u001b[49m\n\u001b[1;32m    132\u001b[0m \u001b[43m    \u001b[49m\u001b[43mlogin_url\u001b[49m\u001b[43m,\u001b[49m\n\u001b[1;32m    133\u001b[0m \u001b[43m    \u001b[49m\u001b[43mdata\u001b[49m\u001b[38;5;241;43m=\u001b[39;49m\u001b[43mlogin_data\u001b[49m\u001b[43m,\u001b[49m\n\u001b[1;32m    134\u001b[0m \u001b[43m    \u001b[49m\u001b[43mheaders\u001b[49m\u001b[38;5;241;43m=\u001b[39;49m\u001b[38;5;28;43mdict\u001b[39;49m\u001b[43m(\u001b[49m\u001b[43mReferer\u001b[49m\u001b[38;5;241;43m=\u001b[39;49m\u001b[38;5;28;43mself\u001b[39;49m\u001b[38;5;241;43m.\u001b[39;49m\u001b[43murl\u001b[49m\u001b[43m)\u001b[49m\u001b[43m,\u001b[49m\n\u001b[1;32m    135\u001b[0m \u001b[43m    \u001b[49m\u001b[43mcookies\u001b[49m\u001b[38;5;241;43m=\u001b[39;49m\u001b[38;5;28;43mself\u001b[39;49m\u001b[38;5;241;43m.\u001b[39;49m\u001b[43mcookies\u001b[49m\u001b[43m,\u001b[49m\n\u001b[0;32m--> 136\u001b[0m \u001b[43m\u001b[49m\u001b[43m)\u001b[49m\u001b[38;5;241;43m.\u001b[39;49m\u001b[43mraise_for_status\u001b[49m\u001b[43m(\u001b[49m\u001b[43m)\u001b[49m\n\u001b[1;32m    137\u001b[0m api_key \u001b[38;5;241m=\u001b[39m (\n\u001b[1;32m    138\u001b[0m     \u001b[38;5;28mself\u001b[39m\u001b[38;5;241m.\u001b[39msession\u001b[38;5;241m.\u001b[39mget(\u001b[38;5;28mself\u001b[39m\u001b[38;5;241m.\u001b[39mget_url(\u001b[38;5;124m\"\u001b[39m\u001b[38;5;124m/api/current-user/token\u001b[39m\u001b[38;5;124m\"\u001b[39m))\n\u001b[1;32m    139\u001b[0m     \u001b[38;5;241m.\u001b[39mjson()\n\u001b[1;32m    140\u001b[0m     \u001b[38;5;241m.\u001b[39mget(\u001b[38;5;124m\"\u001b[39m\u001b[38;5;124mtoken\u001b[39m\u001b[38;5;124m\"\u001b[39m)\n\u001b[1;32m    141\u001b[0m )\n\u001b[1;32m    142\u001b[0m \u001b[38;5;28;01mreturn\u001b[39;00m api_key\n",
      "File \u001b[0;32m~/mcity_data_engine/.venv/lib/python3.12/site-packages/requests/models.py:1024\u001b[0m, in \u001b[0;36mResponse.raise_for_status\u001b[0;34m(self)\u001b[0m\n\u001b[1;32m   1019\u001b[0m     http_error_msg \u001b[38;5;241m=\u001b[39m (\n\u001b[1;32m   1020\u001b[0m         \u001b[38;5;124mf\u001b[39m\u001b[38;5;124m\"\u001b[39m\u001b[38;5;132;01m{\u001b[39;00m\u001b[38;5;28mself\u001b[39m\u001b[38;5;241m.\u001b[39mstatus_code\u001b[38;5;132;01m}\u001b[39;00m\u001b[38;5;124m Server Error: \u001b[39m\u001b[38;5;132;01m{\u001b[39;00mreason\u001b[38;5;132;01m}\u001b[39;00m\u001b[38;5;124m for url: \u001b[39m\u001b[38;5;132;01m{\u001b[39;00m\u001b[38;5;28mself\u001b[39m\u001b[38;5;241m.\u001b[39murl\u001b[38;5;132;01m}\u001b[39;00m\u001b[38;5;124m\"\u001b[39m\n\u001b[1;32m   1021\u001b[0m     )\n\u001b[1;32m   1023\u001b[0m \u001b[38;5;28;01mif\u001b[39;00m http_error_msg:\n\u001b[0;32m-> 1024\u001b[0m     \u001b[38;5;28;01mraise\u001b[39;00m HTTPError(http_error_msg, response\u001b[38;5;241m=\u001b[39m\u001b[38;5;28mself\u001b[39m)\n",
      "\u001b[0;31mHTTPError\u001b[0m: 404 Client Error: Not Found for url: https://labelstud.io/user/login"
     ]
    }
   ],
   "source": [
    "# If you want to label the dataset in-house, this example shows how to use Label Studio. Voxel51 also has other integrations\n",
    "# https://docs.voxel51.com/integrations/labelstudio.html\n",
    "# To setup Label Studio, follow the instructions here: https://docs.voxel51.com/integrations/labelstudio.html#label-studio-setup\n",
    "\n",
    "classes_for_labeling = [\"car\", \"truck\", \"bus\", \"trailer\", \"motorbike/cycler\", \"pedestrian\", \"van\", \"pickup\"]    # Classes from Mcity Fisheye dataset\n",
    "label_schema = {\n",
    "    \"new_ground_truth\": {\n",
    "        \"type\": \"detections\",\n",
    "        \"classes\": classes_for_labeling,\n",
    "    },\n",
    "}\n",
    "\n",
    "# Connect to Label Studio\n",
    "label_studio_api_key = os.environ.get(\"FIFTYONE_LABELSTUDIO_API_KEY\")\n",
    "with open(\".secret\", \"r\") as file:\n",
    "    for line in file:\n",
    "        key, value = line.strip().split(\"=\")\n",
    "        if key == \"FIFTYONE_LABELSTUDIO_API_KEY\":\n",
    "            label_studio_api_key = value\n",
    "\n",
    "anno_key = \"labelstudio\"\n",
    "view_selection.annotate(\n",
    "    anno_key,\n",
    "    backend=\"labelstudio\",\n",
    "    label_schema=label_schema,\n",
    "    launch_editor=True,\n",
    "    api_key=label_studio_api_key\n",
    ")"
   ]
  }
 ],
 "metadata": {
  "kernelspec": {
   "display_name": ".venv",
   "language": "python",
   "name": "python3"
  },
  "language_info": {
   "codemirror_mode": {
    "name": "ipython",
    "version": 3
   },
   "file_extension": ".py",
   "mimetype": "text/x-python",
   "name": "python",
   "nbconvert_exporter": "python",
   "pygments_lexer": "ipython3",
   "version": "3.12.3"
  }
 },
 "nbformat": 4,
 "nbformat_minor": 2
}
