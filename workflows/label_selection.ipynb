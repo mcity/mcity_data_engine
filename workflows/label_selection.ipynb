{
 "cells": [
  {
   "cell_type": "markdown",
   "metadata": {},
   "source": [
    "# Label Selection\n",
    "\n",
    "This is a **manual workflow**. Once a dataset has been populated with the results from the **Ensemble Exploration** workflow, this workflow can be used to select the samples to be labeled. Here you manually select the final images to be labeled. These will be exported and are ready to be labeled.\n"
   ]
  },
  {
   "cell_type": "code",
   "execution_count": null,
   "metadata": {},
   "outputs": [
    {
     "name": "stdout",
     "output_type": "stream",
     "text": [
      "FIFTYONE_CVAT_USERNAME\n",
      "FIFTYONE_CVAT_PASSWORD\n"
     ]
    }
   ],
   "source": [
    "# Connect to CVAT\n",
    "import os\n",
    "with open(\"../.secret\", \"r\") as file:\n",
    "    for line in file:\n",
    "        key, value = line.strip().split(\"=\")\n",
    "        if key == \"FIFTYONE_CVAT_USERNAME\" or key == \"FIFTYONE_CVAT_PASSWORD\" or key == \"FIFTYONE_CVAT_EMAIL\":\n",
    "            print(key)\n",
    "            os.environ[key] = value"
   ]
  },
  {
   "cell_type": "code",
   "execution_count": 2,
   "metadata": {},
   "outputs": [],
   "source": [
    "from fiftyone import ViewField as F\n",
    "import fiftyone as fo"
   ]
  },
  {
   "cell_type": "code",
   "execution_count": 3,
   "metadata": {},
   "outputs": [],
   "source": [
    "# Loading dataset and filtering view for optimized performance\n",
    "# Shows only samples with min. n unique detections from Ensemble Exploration\n",
    "# Shows only labels that belong to the unique detections\n",
    "dataset_name = \"mcity_fisheye_3_months\" # Dataset to load\n",
    "dataset = fo.load_dataset(dataset_name)\n",
    "min_n_unique_exploration = 3\n",
    "view_n_unique_exploration = dataset.match(F(\"n_unique_exploration\") >= min_n_unique_exploration)\n",
    "view_tagged_labels = view_n_unique_exploration.select_labels(tags=\"vru_overlap\")    # FIXME detections_overlap"
   ]
  },
  {
   "cell_type": "code",
   "execution_count": 4,
   "metadata": {},
   "outputs": [
    {
     "name": "stdout",
     "output_type": "stream",
     "text": [
      "Connected to FiftyOne on port 5151 at localhost.\n",
      "If you are not connecting to a remote session, you may need to start a new session and specify a port\n"
     ]
    },
    {
     "data": {
      "text/html": [
       "\n",
       "        <iframe\n",
       "            width=\"100%\"\n",
       "            height=\"800\"\n",
       "            src=\"http://localhost:5151/?notebook=True&subscription=ce898036-e5b6-47c7-891c-81b63cd1b82c\"\n",
       "            frameborder=\"0\"\n",
       "            allowfullscreen\n",
       "            \n",
       "        ></iframe>\n",
       "        "
      ],
      "text/plain": [
       "<IPython.lib.display.IFrame at 0x75ffa0b53b60>"
      ]
     },
     "metadata": {},
     "output_type": "display_data"
    },
    {
     "name": "stdout",
     "output_type": "stream",
     "text": [
      "\n",
      "Could not connect session, trying again in 10 seconds\n",
      "\n"
     ]
    },
    {
     "ename": "RuntimeError",
     "evalue": "Failed to post event `state_update` to http://localhost:5151/event",
     "output_type": "error",
     "traceback": [
      "\u001b[0;31m---------------------------------------------------------------------------\u001b[0m",
      "\u001b[0;31mRuntimeError\u001b[0m                              Traceback (most recent call last)",
      "Cell \u001b[0;32mIn[4], line 4\u001b[0m\n\u001b[1;32m      1\u001b[0m \u001b[38;5;66;03m# Use this view to label the samples you want to have labeled\u001b[39;00m\n\u001b[1;32m      2\u001b[0m \u001b[38;5;66;03m# Choose the tag_for_labeling to tag the samples you want to label\u001b[39;00m\n\u001b[1;32m      3\u001b[0m tag_for_labeling \u001b[38;5;241m=\u001b[39m \u001b[38;5;124m\"\u001b[39m\u001b[38;5;124mselect_vru\u001b[39m\u001b[38;5;124m\"\u001b[39m \u001b[38;5;66;03m# FIXME todo_label\u001b[39;00m\n\u001b[0;32m----> 4\u001b[0m \u001b[43mfo\u001b[49m\u001b[38;5;241;43m.\u001b[39;49m\u001b[43mlaunch_app\u001b[49m\u001b[43m(\u001b[49m\u001b[43mview\u001b[49m\u001b[38;5;241;43m=\u001b[39;49m\u001b[43mview_tagged_labels\u001b[49m\u001b[43m)\u001b[49m\n",
      "File \u001b[0;32m~/mcity_data_engine/.venv/lib/python3.12/site-packages/fiftyone/core/session/session.py:192\u001b[0m, in \u001b[0;36mlaunch_app\u001b[0;34m(dataset, view, sample_id, group_id, spaces, color_scheme, plots, port, address, remote, browser, height, auto, config)\u001b[0m\n\u001b[1;32m    149\u001b[0m \u001b[38;5;250m\u001b[39m\u001b[38;5;124;03m\"\"\"Launches the FiftyOne App.\u001b[39;00m\n\u001b[1;32m    150\u001b[0m \n\u001b[1;32m    151\u001b[0m \u001b[38;5;124;03mNote that only one App instance can be opened at a time. If this method is\u001b[39;00m\n\u001b[0;32m   (...)\u001b[0m\n\u001b[1;32m    189\u001b[0m \u001b[38;5;124;03m    a :class:`Session`\u001b[39;00m\n\u001b[1;32m    190\u001b[0m \u001b[38;5;124;03m\"\"\"\u001b[39;00m\n\u001b[1;32m    191\u001b[0m \u001b[38;5;28;01mglobal\u001b[39;00m _session  \u001b[38;5;66;03m# pylint: disable=global-statement\u001b[39;00m\n\u001b[0;32m--> 192\u001b[0m _session \u001b[38;5;241m=\u001b[39m \u001b[43mSession\u001b[49m\u001b[43m(\u001b[49m\n\u001b[1;32m    193\u001b[0m \u001b[43m    \u001b[49m\u001b[43mdataset\u001b[49m\u001b[38;5;241;43m=\u001b[39;49m\u001b[43mdataset\u001b[49m\u001b[43m,\u001b[49m\n\u001b[1;32m    194\u001b[0m \u001b[43m    \u001b[49m\u001b[43mview\u001b[49m\u001b[38;5;241;43m=\u001b[39;49m\u001b[43mview\u001b[49m\u001b[43m,\u001b[49m\n\u001b[1;32m    195\u001b[0m \u001b[43m    \u001b[49m\u001b[43msample_id\u001b[49m\u001b[38;5;241;43m=\u001b[39;49m\u001b[43msample_id\u001b[49m\u001b[43m,\u001b[49m\n\u001b[1;32m    196\u001b[0m \u001b[43m    \u001b[49m\u001b[43mgroup_id\u001b[49m\u001b[38;5;241;43m=\u001b[39;49m\u001b[43mgroup_id\u001b[49m\u001b[43m,\u001b[49m\n\u001b[1;32m    197\u001b[0m \u001b[43m    \u001b[49m\u001b[43mspaces\u001b[49m\u001b[38;5;241;43m=\u001b[39;49m\u001b[43mspaces\u001b[49m\u001b[43m,\u001b[49m\n\u001b[1;32m    198\u001b[0m \u001b[43m    \u001b[49m\u001b[43mcolor_scheme\u001b[49m\u001b[38;5;241;43m=\u001b[39;49m\u001b[43mcolor_scheme\u001b[49m\u001b[43m,\u001b[49m\n\u001b[1;32m    199\u001b[0m \u001b[43m    \u001b[49m\u001b[43mplots\u001b[49m\u001b[38;5;241;43m=\u001b[39;49m\u001b[43mplots\u001b[49m\u001b[43m,\u001b[49m\n\u001b[1;32m    200\u001b[0m \u001b[43m    \u001b[49m\u001b[43mport\u001b[49m\u001b[38;5;241;43m=\u001b[39;49m\u001b[43mport\u001b[49m\u001b[43m,\u001b[49m\n\u001b[1;32m    201\u001b[0m \u001b[43m    \u001b[49m\u001b[43maddress\u001b[49m\u001b[38;5;241;43m=\u001b[39;49m\u001b[43maddress\u001b[49m\u001b[43m,\u001b[49m\n\u001b[1;32m    202\u001b[0m \u001b[43m    \u001b[49m\u001b[43mremote\u001b[49m\u001b[38;5;241;43m=\u001b[39;49m\u001b[43mremote\u001b[49m\u001b[43m,\u001b[49m\n\u001b[1;32m    203\u001b[0m \u001b[43m    \u001b[49m\u001b[43mbrowser\u001b[49m\u001b[38;5;241;43m=\u001b[39;49m\u001b[43mbrowser\u001b[49m\u001b[43m,\u001b[49m\n\u001b[1;32m    204\u001b[0m \u001b[43m    \u001b[49m\u001b[43mheight\u001b[49m\u001b[38;5;241;43m=\u001b[39;49m\u001b[43mheight\u001b[49m\u001b[43m,\u001b[49m\n\u001b[1;32m    205\u001b[0m \u001b[43m    \u001b[49m\u001b[43mauto\u001b[49m\u001b[38;5;241;43m=\u001b[39;49m\u001b[43mauto\u001b[49m\u001b[43m,\u001b[49m\n\u001b[1;32m    206\u001b[0m \u001b[43m    \u001b[49m\u001b[43mconfig\u001b[49m\u001b[38;5;241;43m=\u001b[39;49m\u001b[43mconfig\u001b[49m\u001b[43m,\u001b[49m\n\u001b[1;32m    207\u001b[0m \u001b[43m\u001b[49m\u001b[43m)\u001b[49m\n\u001b[1;32m    209\u001b[0m \u001b[38;5;28;01mif\u001b[39;00m _session\u001b[38;5;241m.\u001b[39mremote:\n\u001b[1;32m    210\u001b[0m     logger\u001b[38;5;241m.\u001b[39minfo(_REMOTE_INSTRUCTIONS\u001b[38;5;241m.\u001b[39mstrip()\u001b[38;5;241m.\u001b[39mformat(_session\u001b[38;5;241m.\u001b[39mserver_port))\n",
      "File \u001b[0;32m~/mcity_data_engine/.venv/lib/python3.12/site-packages/fiftyone/core/session/session.py:435\u001b[0m, in \u001b[0;36mSession.__init__\u001b[0;34m(self, dataset, view, sample_id, group_id, spaces, color_scheme, plots, port, address, remote, browser, height, auto, config, view_name)\u001b[0m\n\u001b[1;32m    432\u001b[0m _register_session(\u001b[38;5;28mself\u001b[39m)\n\u001b[1;32m    434\u001b[0m \u001b[38;5;28;01mif\u001b[39;00m \u001b[38;5;28mself\u001b[39m\u001b[38;5;241m.\u001b[39mauto \u001b[38;5;129;01mand\u001b[39;00m focx\u001b[38;5;241m.\u001b[39mis_notebook_context():\n\u001b[0;32m--> 435\u001b[0m     \u001b[38;5;28;43mself\u001b[39;49m\u001b[38;5;241;43m.\u001b[39;49m\u001b[43mshow\u001b[49m\u001b[43m(\u001b[49m\u001b[43mheight\u001b[49m\u001b[38;5;241;43m=\u001b[39;49m\u001b[43mconfig\u001b[49m\u001b[38;5;241;43m.\u001b[39;49m\u001b[43mnotebook_height\u001b[49m\u001b[43m)\u001b[49m\n\u001b[1;32m    437\u001b[0m \u001b[38;5;28mself\u001b[39m\u001b[38;5;241m.\u001b[39mbrowser \u001b[38;5;241m=\u001b[39m browser\n\u001b[1;32m    439\u001b[0m \u001b[38;5;28;01mif\u001b[39;00m \u001b[38;5;28mself\u001b[39m\u001b[38;5;241m.\u001b[39mremote:\n",
      "File \u001b[0;32m~/mcity_data_engine/.venv/lib/python3.12/site-packages/fiftyone/core/session/session.py:252\u001b[0m, in \u001b[0;36mupdate_state.<locals>.decorator.<locals>.wrapper\u001b[0;34m(session, *args, **kwargs)\u001b[0m\n\u001b[1;32m    250\u001b[0m     session\u001b[38;5;241m.\u001b[39mfreeze()\n\u001b[1;32m    251\u001b[0m result \u001b[38;5;241m=\u001b[39m func(session, \u001b[38;5;241m*\u001b[39margs, \u001b[38;5;241m*\u001b[39m\u001b[38;5;241m*\u001b[39mkwargs)\n\u001b[0;32m--> 252\u001b[0m \u001b[43msession\u001b[49m\u001b[38;5;241;43m.\u001b[39;49m\u001b[43m_client\u001b[49m\u001b[38;5;241;43m.\u001b[39;49m\u001b[43msend_event\u001b[49m\u001b[43m(\u001b[49m\u001b[43mStateUpdate\u001b[49m\u001b[43m(\u001b[49m\u001b[43mstate\u001b[49m\u001b[38;5;241;43m=\u001b[39;49m\u001b[43msession\u001b[49m\u001b[38;5;241;43m.\u001b[39;49m\u001b[43m_state\u001b[49m\u001b[43m)\u001b[49m\u001b[43m)\u001b[49m\n\u001b[1;32m    253\u001b[0m \u001b[38;5;28;01mif\u001b[39;00m auto_show \u001b[38;5;129;01mand\u001b[39;00m session\u001b[38;5;241m.\u001b[39mauto \u001b[38;5;129;01mand\u001b[39;00m focx\u001b[38;5;241m.\u001b[39mis_notebook_context():\n\u001b[1;32m    254\u001b[0m     session\u001b[38;5;241m.\u001b[39mshow()\n",
      "File \u001b[0;32m~/mcity_data_engine/.venv/lib/python3.12/site-packages/fiftyone/core/session/client.py:155\u001b[0m, in \u001b[0;36mClient.send_event\u001b[0;34m(self, event)\u001b[0m\n\u001b[1;32m    152\u001b[0m \u001b[38;5;28;01mif\u001b[39;00m \u001b[38;5;129;01mnot\u001b[39;00m \u001b[38;5;28mself\u001b[39m\u001b[38;5;241m.\u001b[39m_connected:\n\u001b[1;32m    153\u001b[0m     \u001b[38;5;28;01mraise\u001b[39;00m \u001b[38;5;167;01mRuntimeError\u001b[39;00m(\u001b[38;5;124m\"\u001b[39m\u001b[38;5;124mClient is not connected\u001b[39m\u001b[38;5;124m\"\u001b[39m)\n\u001b[0;32m--> 155\u001b[0m \u001b[38;5;28;43mself\u001b[39;49m\u001b[38;5;241;43m.\u001b[39;49m\u001b[43m_post_event\u001b[49m\u001b[43m(\u001b[49m\u001b[43mevent\u001b[49m\u001b[43m)\u001b[49m\n\u001b[1;32m    156\u001b[0m \u001b[38;5;28mself\u001b[39m\u001b[38;5;241m.\u001b[39m_dispatch_event(event)\n",
      "File \u001b[0;32m~/mcity_data_engine/.venv/lib/python3.12/site-packages/fiftyone/core/session/client.py:204\u001b[0m, in \u001b[0;36mClient._post_event\u001b[0;34m(self, event)\u001b[0m\n\u001b[1;32m    191\u001b[0m response \u001b[38;5;241m=\u001b[39m requests\u001b[38;5;241m.\u001b[39mpost(\n\u001b[1;32m    192\u001b[0m     \u001b[38;5;124mf\u001b[39m\u001b[38;5;124m\"\u001b[39m\u001b[38;5;132;01m{\u001b[39;00m\u001b[38;5;28mself\u001b[39m\u001b[38;5;241m.\u001b[39morigin\u001b[38;5;132;01m}\u001b[39;00m\u001b[38;5;124m/event\u001b[39m\u001b[38;5;124m\"\u001b[39m,\n\u001b[1;32m    193\u001b[0m     headers\u001b[38;5;241m=\u001b[39m{\u001b[38;5;124m\"\u001b[39m\u001b[38;5;124mContent-type\u001b[39m\u001b[38;5;124m\"\u001b[39m: \u001b[38;5;124m\"\u001b[39m\u001b[38;5;124mapplication/json\u001b[39m\u001b[38;5;124m\"\u001b[39m},\n\u001b[0;32m   (...)\u001b[0m\n\u001b[1;32m    200\u001b[0m     ),\n\u001b[1;32m    201\u001b[0m )\n\u001b[1;32m    203\u001b[0m \u001b[38;5;28;01mif\u001b[39;00m response\u001b[38;5;241m.\u001b[39mstatus_code \u001b[38;5;241m!=\u001b[39m \u001b[38;5;241m200\u001b[39m:\n\u001b[0;32m--> 204\u001b[0m     \u001b[38;5;28;01mraise\u001b[39;00m \u001b[38;5;167;01mRuntimeError\u001b[39;00m(\n\u001b[1;32m    205\u001b[0m         \u001b[38;5;124mf\u001b[39m\u001b[38;5;124m\"\u001b[39m\u001b[38;5;124mFailed to post event `\u001b[39m\u001b[38;5;132;01m{\u001b[39;00mevent\u001b[38;5;241m.\u001b[39mget_event_name()\u001b[38;5;132;01m}\u001b[39;00m\u001b[38;5;124m` to \u001b[39m\u001b[38;5;132;01m{\u001b[39;00m\u001b[38;5;28mself\u001b[39m\u001b[38;5;241m.\u001b[39morigin\u001b[38;5;132;01m}\u001b[39;00m\u001b[38;5;124m/event\u001b[39m\u001b[38;5;124m\"\u001b[39m\n\u001b[1;32m    206\u001b[0m     )\n",
      "\u001b[0;31mRuntimeError\u001b[0m: Failed to post event `state_update` to http://localhost:5151/event"
     ]
    }
   ],
   "source": [
    "# Use this view to label the samples you want to have labeled\n",
    "# Choose the tag_for_labeling to tag the samples you want to label\n",
    "tag_for_labeling = \"select_vru\" # FIXME todo_label\n",
    "fo.launch_app(view=view_tagged_labels)"
   ]
  },
  {
   "cell_type": "code",
   "execution_count": null,
   "metadata": {},
   "outputs": [
    {
     "name": "stdout",
     "output_type": "stream",
     "text": [
      "Dataset:     mcity_fisheye_3_months\n",
      "Media type:  image\n",
      "Num samples: 100\n",
      "Sample fields:\n",
      "    id:                                           fiftyone.core.fields.ObjectIdField\n",
      "    filepath:                                     fiftyone.core.fields.StringField\n",
      "    tags:                                         fiftyone.core.fields.ListField(fiftyone.core.fields.StringField)\n",
      "    metadata:                                     fiftyone.core.fields.EmbeddedDocumentField(fiftyone.core.metadata.ImageMetadata)\n",
      "    created_at:                                   fiftyone.core.fields.DateTimeField\n",
      "    last_modified_at:                             fiftyone.core.fields.DateTimeField\n",
      "    ground_truth:                                 fiftyone.core.fields.EmbeddedDocumentField(fiftyone.core.labels.Detections)\n",
      "    location:                                     fiftyone.core.fields.StringField\n",
      "    name:                                         fiftyone.core.fields.StringField\n",
      "    timestamp:                                    fiftyone.core.fields.DateTimeField\n",
      "    pred_IDEA_Research_grounding_dino_tiny:       fiftyone.core.fields.EmbeddedDocumentField(fiftyone.core.labels.Detections)\n",
      "    pred_IDEA_Research_grounding_dino_base:       fiftyone.core.fields.EmbeddedDocumentField(fiftyone.core.labels.Detections)\n",
      "    pred_google_owlvit_large_patch14:             fiftyone.core.fields.EmbeddedDocumentField(fiftyone.core.labels.Detections)\n",
      "    pred_google_owlv2_base_patch16:               fiftyone.core.fields.EmbeddedDocumentField(fiftyone.core.labels.Detections)\n",
      "    pred_google_owlv2_base_patch16_ensemble:      fiftyone.core.fields.EmbeddedDocumentField(fiftyone.core.labels.Detections)\n",
      "    pred_google_owlv2_base_patch16_finetuned:     fiftyone.core.fields.EmbeddedDocumentField(fiftyone.core.labels.Detections)\n",
      "    pred_google_owlv2_large_patch14:              fiftyone.core.fields.EmbeddedDocumentField(fiftyone.core.labels.Detections)\n",
      "    pred_google_owlv2_large_patch14_ensemble:     fiftyone.core.fields.EmbeddedDocumentField(fiftyone.core.labels.Detections)\n",
      "    pred_google_owlv2_large_patch14_finetuned:    fiftyone.core.fields.EmbeddedDocumentField(fiftyone.core.labels.Detections)\n",
      "    pred_omlab_omdet_turbo_swin_tiny_hf:          fiftyone.core.fields.EmbeddedDocumentField(fiftyone.core.labels.Detections)\n",
      "    eval_IDEA_Research_grounding_dino_tiny_tp:    fiftyone.core.fields.IntField\n",
      "    eval_IDEA_Research_grounding_dino_tiny_fp:    fiftyone.core.fields.IntField\n",
      "    eval_IDEA_Research_grounding_dino_tiny_fn:    fiftyone.core.fields.IntField\n",
      "    eval_IDEA_Research_grounding_dino_base_tp:    fiftyone.core.fields.IntField\n",
      "    eval_IDEA_Research_grounding_dino_base_fp:    fiftyone.core.fields.IntField\n",
      "    eval_IDEA_Research_grounding_dino_base_fn:    fiftyone.core.fields.IntField\n",
      "    eval_google_owlvit_large_patch14_tp:          fiftyone.core.fields.IntField\n",
      "    eval_google_owlvit_large_patch14_fp:          fiftyone.core.fields.IntField\n",
      "    eval_google_owlvit_large_patch14_fn:          fiftyone.core.fields.IntField\n",
      "    eval_google_owlv2_base_patch16_tp:            fiftyone.core.fields.IntField\n",
      "    eval_google_owlv2_base_patch16_fp:            fiftyone.core.fields.IntField\n",
      "    eval_google_owlv2_base_patch16_fn:            fiftyone.core.fields.IntField\n",
      "    eval_google_owlv2_base_patch16_ensemble_tp:   fiftyone.core.fields.IntField\n",
      "    eval_google_owlv2_base_patch16_ensemble_fp:   fiftyone.core.fields.IntField\n",
      "    eval_google_owlv2_base_patch16_ensemble_fn:   fiftyone.core.fields.IntField\n",
      "    eval_google_owlv2_base_patch16_finetuned_tp:  fiftyone.core.fields.IntField\n",
      "    eval_google_owlv2_base_patch16_finetuned_fp:  fiftyone.core.fields.IntField\n",
      "    eval_google_owlv2_base_patch16_finetuned_fn:  fiftyone.core.fields.IntField\n",
      "    eval_google_owlv2_large_patch14_tp:           fiftyone.core.fields.IntField\n",
      "    eval_google_owlv2_large_patch14_fp:           fiftyone.core.fields.IntField\n",
      "    eval_google_owlv2_large_patch14_fn:           fiftyone.core.fields.IntField\n",
      "    eval_google_owlv2_large_patch14_ensemble_tp:  fiftyone.core.fields.IntField\n",
      "    eval_google_owlv2_large_patch14_ensemble_fp:  fiftyone.core.fields.IntField\n",
      "    eval_google_owlv2_large_patch14_ensemble_fn:  fiftyone.core.fields.IntField\n",
      "    eval_google_owlv2_large_patch14_finetuned_tp: fiftyone.core.fields.IntField\n",
      "    eval_google_owlv2_large_patch14_finetuned_fp: fiftyone.core.fields.IntField\n",
      "    eval_google_owlv2_large_patch14_finetuned_fn: fiftyone.core.fields.IntField\n",
      "    eval_omlab_omdet_turbo_swin_tiny_hf_tp:       fiftyone.core.fields.IntField\n",
      "    eval_omlab_omdet_turbo_swin_tiny_hf_fp:       fiftyone.core.fields.IntField\n",
      "    eval_omlab_omdet_turbo_swin_tiny_hf_fn:       fiftyone.core.fields.IntField\n",
      "    n_unique_exploration:                         fiftyone.core.fields.IntField\n",
      "View stages:\n",
      "    1. MatchTags(tags=['select_vru'], bool=True, all=False)\n"
     ]
    }
   ],
   "source": [
    "# Inspect your selection of samples to be labeled\n",
    "view_selection = dataset.match_tags(tag_for_labeling)\n",
    "print(view_selection)"
   ]
  },
  {
   "cell_type": "code",
   "execution_count": null,
   "metadata": {},
   "outputs": [
    {
     "name": "stdout",
     "output_type": "stream",
     "text": [
      "Directory '/media/dbogdoll/Datasets/vru_labeling' already exists; export will be merged with existing files\n",
      " 100% |███████████████████| 96/96 [5.6s elapsed, 0s remaining, 24.7 samples/s]      \n",
      "Directory '/media/dbogdoll/Datasets/vru_labeling' already exists; export will be merged with existing files\n",
      " 100% |█████████████████████| 4/4 [118.3ms elapsed, 0s remaining, 33.8 samples/s] \n"
     ]
    }
   ],
   "source": [
    "# Export the dataset you want to have labeled\n",
    "# This example uses the YOLOv5Dataset format which also exports labels\n",
    "# https://docs.voxel51.com/user_guide/export_datasets.html#yolov5dataset\n",
    "\n",
    "splits = [\"train\", \"val\"]                                                   # Select all the splits your dataset has\n",
    "export_dir=\"/media/dbogdoll/Datasets/vru_labeling\"                          # Directory to export the files to\n",
    "label_field=\"pred_google_owlv2_large_patch14_finetuned\"                     # Include a prediction field from one of the zero-shot models\n",
    "\n",
    "classes=view_selection.distinct(f\"{label_field}.detections.label\")          # Get all the classes from the prediction field\n",
    "\n",
    "# Export the splits\n",
    "for split in splits:\n",
    "    split_view = view_selection.match_tags(split)\n",
    "    split_view.export(\n",
    "        export_dir=export_dir,\n",
    "        dataset_type=fo.types.YOLOv5Dataset,\n",
    "        label_field=label_field,\n",
    "        split=split,\n",
    "        classes=classes,\n",
    "    )"
   ]
  },
  {
   "cell_type": "code",
   "execution_count": null,
   "metadata": {},
   "outputs": [
    {
     "name": "stdout",
     "output_type": "stream",
     "text": [
      "Please enter your login credentials.\n",
      "You can avoid this in the future by setting your `FIFTYONE_CVAT_USERNAME` and `FIFTYONE_CVAT_PASSWORD` environment variables\n"
     ]
    },
    {
     "ename": "HTTPError",
     "evalue": "400 Client Error: Bad Request for url: https://app.cvat.ai/api/auth/login",
     "output_type": "error",
     "traceback": [
      "\u001b[0;31m---------------------------------------------------------------------------\u001b[0m",
      "\u001b[0;31mHTTPError\u001b[0m                                 Traceback (most recent call last)",
      "Cell \u001b[0;32mIn[25], line 18\u001b[0m\n\u001b[1;32m     15\u001b[0m \u001b[38;5;28;01mif\u001b[39;00m view_selection\u001b[38;5;241m.\u001b[39mhas_annotation_runs:\n\u001b[1;32m     16\u001b[0m     view_selection\u001b[38;5;241m.\u001b[39mdelete_annotation_run(anno_key)\n\u001b[0;32m---> 18\u001b[0m \u001b[43mview_selection\u001b[49m\u001b[38;5;241;43m.\u001b[39;49m\u001b[43mannotate\u001b[49m\u001b[43m(\u001b[49m\n\u001b[1;32m     19\u001b[0m \u001b[43m    \u001b[49m\u001b[43manno_key\u001b[49m\u001b[43m,\u001b[49m\n\u001b[1;32m     20\u001b[0m \u001b[43m    \u001b[49m\u001b[43mbackend\u001b[49m\u001b[38;5;241;43m=\u001b[39;49m\u001b[38;5;124;43m\"\u001b[39;49m\u001b[38;5;124;43mcvat\u001b[39;49m\u001b[38;5;124;43m\"\u001b[39;49m\u001b[43m,\u001b[49m\n\u001b[1;32m     21\u001b[0m \u001b[43m    \u001b[49m\u001b[43mlabel_schema\u001b[49m\u001b[38;5;241;43m=\u001b[39;49m\u001b[43mlabel_schema\u001b[49m\u001b[43m,\u001b[49m\n\u001b[1;32m     22\u001b[0m \u001b[43m    \u001b[49m\u001b[43mlaunch_editor\u001b[49m\u001b[38;5;241;43m=\u001b[39;49m\u001b[38;5;28;43;01mTrue\u001b[39;49;00m\u001b[43m,\u001b[49m\n\u001b[1;32m     23\u001b[0m \u001b[43m)\u001b[49m\n",
      "File \u001b[0;32m~/mcity_data_engine/.venv/lib/python3.12/site-packages/fiftyone/core/collections.py:9280\u001b[0m, in \u001b[0;36mSampleCollection.annotate\u001b[0;34m(self, anno_key, label_schema, label_field, label_type, classes, attributes, mask_targets, allow_additions, allow_deletions, allow_label_edits, allow_index_edits, allow_spatial_edits, media_field, backend, launch_editor, **kwargs)\u001b[0m\n\u001b[1;32m   9150\u001b[0m \u001b[38;5;28;01mdef\u001b[39;00m \u001b[38;5;21mannotate\u001b[39m(\n\u001b[1;32m   9151\u001b[0m     \u001b[38;5;28mself\u001b[39m,\n\u001b[1;32m   9152\u001b[0m     anno_key,\n\u001b[0;32m   (...)\u001b[0m\n\u001b[1;32m   9167\u001b[0m     \u001b[38;5;241m*\u001b[39m\u001b[38;5;241m*\u001b[39mkwargs,\n\u001b[1;32m   9168\u001b[0m ):\n\u001b[1;32m   9169\u001b[0m \u001b[38;5;250m    \u001b[39m\u001b[38;5;124;03m\"\"\"Exports the samples and optional label field(s) in this collection\u001b[39;00m\n\u001b[1;32m   9170\u001b[0m \u001b[38;5;124;03m    to the given annotation backend.\u001b[39;00m\n\u001b[1;32m   9171\u001b[0m \n\u001b[0;32m   (...)\u001b[0m\n\u001b[1;32m   9278\u001b[0m \u001b[38;5;124;03m        an :class:`fiftyone.utils.annotations.AnnnotationResults`\u001b[39;00m\n\u001b[1;32m   9279\u001b[0m \u001b[38;5;124;03m    \"\"\"\u001b[39;00m\n\u001b[0;32m-> 9280\u001b[0m     \u001b[38;5;28;01mreturn\u001b[39;00m \u001b[43mfoua\u001b[49m\u001b[38;5;241;43m.\u001b[39;49m\u001b[43mannotate\u001b[49m\u001b[43m(\u001b[49m\n\u001b[1;32m   9281\u001b[0m \u001b[43m        \u001b[49m\u001b[38;5;28;43mself\u001b[39;49m\u001b[43m,\u001b[49m\n\u001b[1;32m   9282\u001b[0m \u001b[43m        \u001b[49m\u001b[43manno_key\u001b[49m\u001b[43m,\u001b[49m\n\u001b[1;32m   9283\u001b[0m \u001b[43m        \u001b[49m\u001b[43mlabel_schema\u001b[49m\u001b[38;5;241;43m=\u001b[39;49m\u001b[43mlabel_schema\u001b[49m\u001b[43m,\u001b[49m\n\u001b[1;32m   9284\u001b[0m \u001b[43m        \u001b[49m\u001b[43mlabel_field\u001b[49m\u001b[38;5;241;43m=\u001b[39;49m\u001b[43mlabel_field\u001b[49m\u001b[43m,\u001b[49m\n\u001b[1;32m   9285\u001b[0m \u001b[43m        \u001b[49m\u001b[43mlabel_type\u001b[49m\u001b[38;5;241;43m=\u001b[39;49m\u001b[43mlabel_type\u001b[49m\u001b[43m,\u001b[49m\n\u001b[1;32m   9286\u001b[0m \u001b[43m        \u001b[49m\u001b[43mclasses\u001b[49m\u001b[38;5;241;43m=\u001b[39;49m\u001b[43mclasses\u001b[49m\u001b[43m,\u001b[49m\n\u001b[1;32m   9287\u001b[0m \u001b[43m        \u001b[49m\u001b[43mattributes\u001b[49m\u001b[38;5;241;43m=\u001b[39;49m\u001b[43mattributes\u001b[49m\u001b[43m,\u001b[49m\n\u001b[1;32m   9288\u001b[0m \u001b[43m        \u001b[49m\u001b[43mmask_targets\u001b[49m\u001b[38;5;241;43m=\u001b[39;49m\u001b[43mmask_targets\u001b[49m\u001b[43m,\u001b[49m\n\u001b[1;32m   9289\u001b[0m \u001b[43m        \u001b[49m\u001b[43mallow_additions\u001b[49m\u001b[38;5;241;43m=\u001b[39;49m\u001b[43mallow_additions\u001b[49m\u001b[43m,\u001b[49m\n\u001b[1;32m   9290\u001b[0m \u001b[43m        \u001b[49m\u001b[43mallow_deletions\u001b[49m\u001b[38;5;241;43m=\u001b[39;49m\u001b[43mallow_deletions\u001b[49m\u001b[43m,\u001b[49m\n\u001b[1;32m   9291\u001b[0m \u001b[43m        \u001b[49m\u001b[43mallow_label_edits\u001b[49m\u001b[38;5;241;43m=\u001b[39;49m\u001b[43mallow_label_edits\u001b[49m\u001b[43m,\u001b[49m\n\u001b[1;32m   9292\u001b[0m \u001b[43m        \u001b[49m\u001b[43mallow_index_edits\u001b[49m\u001b[38;5;241;43m=\u001b[39;49m\u001b[43mallow_index_edits\u001b[49m\u001b[43m,\u001b[49m\n\u001b[1;32m   9293\u001b[0m \u001b[43m        \u001b[49m\u001b[43mallow_spatial_edits\u001b[49m\u001b[38;5;241;43m=\u001b[39;49m\u001b[43mallow_spatial_edits\u001b[49m\u001b[43m,\u001b[49m\n\u001b[1;32m   9294\u001b[0m \u001b[43m        \u001b[49m\u001b[43mmedia_field\u001b[49m\u001b[38;5;241;43m=\u001b[39;49m\u001b[43mmedia_field\u001b[49m\u001b[43m,\u001b[49m\n\u001b[1;32m   9295\u001b[0m \u001b[43m        \u001b[49m\u001b[43mbackend\u001b[49m\u001b[38;5;241;43m=\u001b[39;49m\u001b[43mbackend\u001b[49m\u001b[43m,\u001b[49m\n\u001b[1;32m   9296\u001b[0m \u001b[43m        \u001b[49m\u001b[43mlaunch_editor\u001b[49m\u001b[38;5;241;43m=\u001b[39;49m\u001b[43mlaunch_editor\u001b[49m\u001b[43m,\u001b[49m\n\u001b[1;32m   9297\u001b[0m \u001b[43m        \u001b[49m\u001b[38;5;241;43m*\u001b[39;49m\u001b[38;5;241;43m*\u001b[39;49m\u001b[43mkwargs\u001b[49m\u001b[43m,\u001b[49m\n\u001b[1;32m   9298\u001b[0m \u001b[43m    \u001b[49m\u001b[43m)\u001b[49m\n",
      "File \u001b[0;32m~/mcity_data_engine/.venv/lib/python3.12/site-packages/fiftyone/utils/annotations.py:249\u001b[0m, in \u001b[0;36mannotate\u001b[0;34m(samples, anno_key, label_schema, label_field, label_type, classes, attributes, mask_targets, allow_additions, allow_deletions, allow_label_edits, allow_index_edits, allow_spatial_edits, media_field, backend, launch_editor, **kwargs)\u001b[0m\n\u001b[1;32m    244\u001b[0m \u001b[38;5;66;03m# Don't allow overwriting an existing run with same `anno_key`, since we\u001b[39;00m\n\u001b[1;32m    245\u001b[0m \u001b[38;5;66;03m# need the existing run in order to perform workflows like automatically\u001b[39;00m\n\u001b[1;32m    246\u001b[0m \u001b[38;5;66;03m# cleaning up the backend's tasks\u001b[39;00m\n\u001b[1;32m    247\u001b[0m anno_backend\u001b[38;5;241m.\u001b[39mregister_run(samples, anno_key, overwrite\u001b[38;5;241m=\u001b[39m\u001b[38;5;28;01mFalse\u001b[39;00m)\n\u001b[0;32m--> 249\u001b[0m results \u001b[38;5;241m=\u001b[39m \u001b[43manno_backend\u001b[49m\u001b[38;5;241;43m.\u001b[39;49m\u001b[43mupload_annotations\u001b[49m\u001b[43m(\u001b[49m\n\u001b[1;32m    250\u001b[0m \u001b[43m    \u001b[49m\u001b[43msamples\u001b[49m\u001b[43m,\u001b[49m\u001b[43m \u001b[49m\u001b[43manno_key\u001b[49m\u001b[43m,\u001b[49m\u001b[43m \u001b[49m\u001b[43mlaunch_editor\u001b[49m\u001b[38;5;241;43m=\u001b[39;49m\u001b[43mlaunch_editor\u001b[49m\n\u001b[1;32m    251\u001b[0m \u001b[43m\u001b[49m\u001b[43m)\u001b[49m\n\u001b[1;32m    253\u001b[0m results\u001b[38;5;241m.\u001b[39m_finalize_id_map()\n\u001b[1;32m    255\u001b[0m anno_backend\u001b[38;5;241m.\u001b[39msave_run_results(samples, anno_key, results)\n",
      "File \u001b[0;32m~/mcity_data_engine/.venv/lib/python3.12/site-packages/fiftyone/utils/cvat.py:3328\u001b[0m, in \u001b[0;36mCVATBackend.upload_annotations\u001b[0;34m(self, samples, anno_key, launch_editor)\u001b[0m\n\u001b[1;32m   3327\u001b[0m \u001b[38;5;28;01mdef\u001b[39;00m \u001b[38;5;21mupload_annotations\u001b[39m(\u001b[38;5;28mself\u001b[39m, samples, anno_key, launch_editor\u001b[38;5;241m=\u001b[39m\u001b[38;5;28;01mFalse\u001b[39;00m):\n\u001b[0;32m-> 3328\u001b[0m     api \u001b[38;5;241m=\u001b[39m \u001b[38;5;28;43mself\u001b[39;49m\u001b[38;5;241;43m.\u001b[39;49m\u001b[43mconnect_to_api\u001b[49m\u001b[43m(\u001b[49m\u001b[43m)\u001b[49m\n\u001b[1;32m   3329\u001b[0m     results \u001b[38;5;241m=\u001b[39m api\u001b[38;5;241m.\u001b[39mupload_samples(samples, anno_key, \u001b[38;5;28mself\u001b[39m)\n\u001b[1;32m   3331\u001b[0m     \u001b[38;5;28;01mif\u001b[39;00m launch_editor:\n",
      "File \u001b[0;32m~/mcity_data_engine/.venv/lib/python3.12/site-packages/fiftyone/utils/annotations.py:2120\u001b[0m, in \u001b[0;36mAnnotationBackend.connect_to_api\u001b[0;34m(self)\u001b[0m\n\u001b[1;32m   2108\u001b[0m \u001b[38;5;250m\u001b[39m\u001b[38;5;124;03m\"\"\"Returns an API instance connected to the annotation backend.\u001b[39;00m\n\u001b[1;32m   2109\u001b[0m \n\u001b[1;32m   2110\u001b[0m \u001b[38;5;124;03mExisting API instances are reused, if available.\u001b[39;00m\n\u001b[0;32m   (...)\u001b[0m\n\u001b[1;32m   2116\u001b[0m \u001b[38;5;124;03m    expose an API\u001b[39;00m\n\u001b[1;32m   2117\u001b[0m \u001b[38;5;124;03m\"\"\"\u001b[39;00m\n\u001b[1;32m   2118\u001b[0m \u001b[38;5;28;01mif\u001b[39;00m \u001b[38;5;28mself\u001b[39m\u001b[38;5;241m.\u001b[39m_api \u001b[38;5;129;01mis\u001b[39;00m \u001b[38;5;28;01mNone\u001b[39;00m:\n\u001b[1;32m   2119\u001b[0m     \u001b[38;5;66;03m# pylint: disable=assignment-from-none\u001b[39;00m\n\u001b[0;32m-> 2120\u001b[0m     \u001b[38;5;28mself\u001b[39m\u001b[38;5;241m.\u001b[39m_api \u001b[38;5;241m=\u001b[39m \u001b[38;5;28;43mself\u001b[39;49m\u001b[38;5;241;43m.\u001b[39;49m\u001b[43m_connect_to_api\u001b[49m\u001b[43m(\u001b[49m\u001b[43m)\u001b[49m\n\u001b[1;32m   2122\u001b[0m \u001b[38;5;28;01mreturn\u001b[39;00m \u001b[38;5;28mself\u001b[39m\u001b[38;5;241m.\u001b[39m_api\n",
      "File \u001b[0;32m~/mcity_data_engine/.venv/lib/python3.12/site-packages/fiftyone/utils/cvat.py:3317\u001b[0m, in \u001b[0;36mCVATBackend._connect_to_api\u001b[0;34m(self)\u001b[0m\n\u001b[1;32m   3316\u001b[0m \u001b[38;5;28;01mdef\u001b[39;00m \u001b[38;5;21m_connect_to_api\u001b[39m(\u001b[38;5;28mself\u001b[39m):\n\u001b[0;32m-> 3317\u001b[0m     \u001b[38;5;28;01mreturn\u001b[39;00m \u001b[43mCVATAnnotationAPI\u001b[49m\u001b[43m(\u001b[49m\n\u001b[1;32m   3318\u001b[0m \u001b[43m        \u001b[49m\u001b[38;5;28;43mself\u001b[39;49m\u001b[38;5;241;43m.\u001b[39;49m\u001b[43mconfig\u001b[49m\u001b[38;5;241;43m.\u001b[39;49m\u001b[43mname\u001b[49m\u001b[43m,\u001b[49m\n\u001b[1;32m   3319\u001b[0m \u001b[43m        \u001b[49m\u001b[38;5;28;43mself\u001b[39;49m\u001b[38;5;241;43m.\u001b[39;49m\u001b[43mconfig\u001b[49m\u001b[38;5;241;43m.\u001b[39;49m\u001b[43murl\u001b[49m\u001b[43m,\u001b[49m\n\u001b[1;32m   3320\u001b[0m \u001b[43m        \u001b[49m\u001b[43musername\u001b[49m\u001b[38;5;241;43m=\u001b[39;49m\u001b[38;5;28;43mself\u001b[39;49m\u001b[38;5;241;43m.\u001b[39;49m\u001b[43mconfig\u001b[49m\u001b[38;5;241;43m.\u001b[39;49m\u001b[43musername\u001b[49m\u001b[43m,\u001b[49m\n\u001b[1;32m   3321\u001b[0m \u001b[43m        \u001b[49m\u001b[43memail\u001b[49m\u001b[38;5;241;43m=\u001b[39;49m\u001b[38;5;28;43mself\u001b[39;49m\u001b[38;5;241;43m.\u001b[39;49m\u001b[43mconfig\u001b[49m\u001b[38;5;241;43m.\u001b[39;49m\u001b[43memail\u001b[49m\u001b[43m,\u001b[49m\n\u001b[1;32m   3322\u001b[0m \u001b[43m        \u001b[49m\u001b[43mpassword\u001b[49m\u001b[38;5;241;43m=\u001b[39;49m\u001b[38;5;28;43mself\u001b[39;49m\u001b[38;5;241;43m.\u001b[39;49m\u001b[43mconfig\u001b[49m\u001b[38;5;241;43m.\u001b[39;49m\u001b[43mpassword\u001b[49m\u001b[43m,\u001b[49m\n\u001b[1;32m   3323\u001b[0m \u001b[43m        \u001b[49m\u001b[43mheaders\u001b[49m\u001b[38;5;241;43m=\u001b[39;49m\u001b[38;5;28;43mself\u001b[39;49m\u001b[38;5;241;43m.\u001b[39;49m\u001b[43mconfig\u001b[49m\u001b[38;5;241;43m.\u001b[39;49m\u001b[43mheaders\u001b[49m\u001b[43m,\u001b[49m\n\u001b[1;32m   3324\u001b[0m \u001b[43m        \u001b[49m\u001b[43morganization\u001b[49m\u001b[38;5;241;43m=\u001b[39;49m\u001b[38;5;28;43mself\u001b[39;49m\u001b[38;5;241;43m.\u001b[39;49m\u001b[43mconfig\u001b[49m\u001b[38;5;241;43m.\u001b[39;49m\u001b[43morganization\u001b[49m\u001b[43m,\u001b[49m\n\u001b[1;32m   3325\u001b[0m \u001b[43m    \u001b[49m\u001b[43m)\u001b[49m\n",
      "File \u001b[0;32m~/mcity_data_engine/.venv/lib/python3.12/site-packages/fiftyone/utils/cvat.py:3599\u001b[0m, in \u001b[0;36mCVATAnnotationAPI.__init__\u001b[0;34m(self, name, url, username, email, password, headers, organization)\u001b[0m\n\u001b[1;32m   3596\u001b[0m \u001b[38;5;28mself\u001b[39m\u001b[38;5;241m.\u001b[39m_user_id_map \u001b[38;5;241m=\u001b[39m {}\n\u001b[1;32m   3597\u001b[0m \u001b[38;5;28mself\u001b[39m\u001b[38;5;241m.\u001b[39m_project_id_map \u001b[38;5;241m=\u001b[39m {}\n\u001b[0;32m-> 3599\u001b[0m \u001b[38;5;28;43mself\u001b[39;49m\u001b[38;5;241;43m.\u001b[39;49m\u001b[43m_setup\u001b[49m\u001b[43m(\u001b[49m\u001b[43m)\u001b[49m\n",
      "File \u001b[0;32m~/mcity_data_engine/.venv/lib/python3.12/site-packages/fiftyone/utils/cvat.py:3765\u001b[0m, in \u001b[0;36mCVATAnnotationAPI._setup\u001b[0;34m(self)\u001b[0m\n\u001b[1;32m   3763\u001b[0m \u001b[38;5;28;01mexcept\u001b[39;00m requests\u001b[38;5;241m.\u001b[39mexceptions\u001b[38;5;241m.\u001b[39mHTTPError \u001b[38;5;28;01mas\u001b[39;00m e:\n\u001b[1;32m   3764\u001b[0m     \u001b[38;5;28;01mif\u001b[39;00m e\u001b[38;5;241m.\u001b[39mresponse\u001b[38;5;241m.\u001b[39mstatus_code \u001b[38;5;241m!=\u001b[39m \u001b[38;5;241m404\u001b[39m:\n\u001b[0;32m-> 3765\u001b[0m         \u001b[38;5;28;01mraise\u001b[39;00m e\n\u001b[1;32m   3767\u001b[0m     \u001b[38;5;28mself\u001b[39m\u001b[38;5;241m.\u001b[39m_server_version \u001b[38;5;241m=\u001b[39m Version(\u001b[38;5;124m\"\u001b[39m\u001b[38;5;124m1\u001b[39m\u001b[38;5;124m\"\u001b[39m)\n\u001b[1;32m   3768\u001b[0m     \u001b[38;5;28mself\u001b[39m\u001b[38;5;241m.\u001b[39m_login(username, password, email\u001b[38;5;241m=\u001b[39memail)\n",
      "File \u001b[0;32m~/mcity_data_engine/.venv/lib/python3.12/site-packages/fiftyone/utils/cvat.py:3762\u001b[0m, in \u001b[0;36mCVATAnnotationAPI._setup\u001b[0;34m(self)\u001b[0m\n\u001b[1;32m   3759\u001b[0m \u001b[38;5;28mself\u001b[39m\u001b[38;5;241m.\u001b[39m_server_version \u001b[38;5;241m=\u001b[39m Version(\u001b[38;5;124m\"\u001b[39m\u001b[38;5;124m2\u001b[39m\u001b[38;5;124m\"\u001b[39m)\n\u001b[1;32m   3761\u001b[0m \u001b[38;5;28;01mtry\u001b[39;00m:\n\u001b[0;32m-> 3762\u001b[0m     \u001b[38;5;28;43mself\u001b[39;49m\u001b[38;5;241;43m.\u001b[39;49m\u001b[43m_login\u001b[49m\u001b[43m(\u001b[49m\u001b[43musername\u001b[49m\u001b[43m,\u001b[49m\u001b[43m \u001b[49m\u001b[43mpassword\u001b[49m\u001b[43m,\u001b[49m\u001b[43m \u001b[49m\u001b[43memail\u001b[49m\u001b[38;5;241;43m=\u001b[39;49m\u001b[43memail\u001b[49m\u001b[43m)\u001b[49m\n\u001b[1;32m   3763\u001b[0m \u001b[38;5;28;01mexcept\u001b[39;00m requests\u001b[38;5;241m.\u001b[39mexceptions\u001b[38;5;241m.\u001b[39mHTTPError \u001b[38;5;28;01mas\u001b[39;00m e:\n\u001b[1;32m   3764\u001b[0m     \u001b[38;5;28;01mif\u001b[39;00m e\u001b[38;5;241m.\u001b[39mresponse\u001b[38;5;241m.\u001b[39mstatus_code \u001b[38;5;241m!=\u001b[39m \u001b[38;5;241m404\u001b[39m:\n",
      "File \u001b[0;32m~/mcity_data_engine/.venv/lib/python3.12/site-packages/fiftyone/utils/cvat.py:3813\u001b[0m, in \u001b[0;36mCVATAnnotationAPI._login\u001b[0;34m(self, username, password, email)\u001b[0m\n\u001b[1;32m   3810\u001b[0m \u001b[38;5;28;01mif\u001b[39;00m email \u001b[38;5;129;01mis\u001b[39;00m \u001b[38;5;129;01mnot\u001b[39;00m \u001b[38;5;28;01mNone\u001b[39;00m:\n\u001b[1;32m   3811\u001b[0m     payload[\u001b[38;5;124m\"\u001b[39m\u001b[38;5;124memail\u001b[39m\u001b[38;5;124m\"\u001b[39m] \u001b[38;5;241m=\u001b[39m email\n\u001b[0;32m-> 3813\u001b[0m response \u001b[38;5;241m=\u001b[39m \u001b[38;5;28;43mself\u001b[39;49m\u001b[38;5;241;43m.\u001b[39;49m\u001b[43m_make_request\u001b[49m\u001b[43m(\u001b[49m\n\u001b[1;32m   3814\u001b[0m \u001b[43m    \u001b[49m\u001b[38;5;28;43mself\u001b[39;49m\u001b[38;5;241;43m.\u001b[39;49m\u001b[43m_session\u001b[49m\u001b[38;5;241;43m.\u001b[39;49m\u001b[43mpost\u001b[49m\u001b[43m,\u001b[49m\n\u001b[1;32m   3815\u001b[0m \u001b[43m    \u001b[49m\u001b[38;5;28;43mself\u001b[39;49m\u001b[38;5;241;43m.\u001b[39;49m\u001b[43mlogin_url\u001b[49m\u001b[43m,\u001b[49m\n\u001b[1;32m   3816\u001b[0m \u001b[43m    \u001b[49m\u001b[43mprint_error_info\u001b[49m\u001b[38;5;241;43m=\u001b[39;49m\u001b[38;5;28;43;01mFalse\u001b[39;49;00m\u001b[43m,\u001b[49m\n\u001b[1;32m   3817\u001b[0m \u001b[43m    \u001b[49m\u001b[43mjson\u001b[49m\u001b[38;5;241;43m=\u001b[39;49m\u001b[43mpayload\u001b[49m\u001b[43m,\u001b[49m\n\u001b[1;32m   3818\u001b[0m \u001b[43m\u001b[49m\u001b[43m)\u001b[49m\n\u001b[1;32m   3820\u001b[0m \u001b[38;5;28;01mif\u001b[39;00m \u001b[38;5;124m\"\u001b[39m\u001b[38;5;124mcsrftoken\u001b[39m\u001b[38;5;124m\"\u001b[39m \u001b[38;5;129;01min\u001b[39;00m response\u001b[38;5;241m.\u001b[39mcookies:\n\u001b[1;32m   3821\u001b[0m     \u001b[38;5;28mself\u001b[39m\u001b[38;5;241m.\u001b[39m_session\u001b[38;5;241m.\u001b[39mheaders[\u001b[38;5;124m\"\u001b[39m\u001b[38;5;124mX-CSRFToken\u001b[39m\u001b[38;5;124m\"\u001b[39m] \u001b[38;5;241m=\u001b[39m response\u001b[38;5;241m.\u001b[39mcookies[\n\u001b[1;32m   3822\u001b[0m         \u001b[38;5;124m\"\u001b[39m\u001b[38;5;124mcsrftoken\u001b[39m\u001b[38;5;124m\"\u001b[39m\n\u001b[1;32m   3823\u001b[0m     ]\n",
      "File \u001b[0;32m~/mcity_data_engine/.venv/lib/python3.12/site-packages/fiftyone/utils/cvat.py:3832\u001b[0m, in \u001b[0;36mCVATAnnotationAPI._make_request\u001b[0;34m(self, request_method, url, print_error_info, **kwargs)\u001b[0m\n\u001b[1;32m   3830\u001b[0m     \u001b[38;5;28mself\u001b[39m\u001b[38;5;241m.\u001b[39m_validate(response, kwargs)\n\u001b[1;32m   3831\u001b[0m \u001b[38;5;28;01melse\u001b[39;00m:\n\u001b[0;32m-> 3832\u001b[0m     \u001b[43mresponse\u001b[49m\u001b[38;5;241;43m.\u001b[39;49m\u001b[43mraise_for_status\u001b[49m\u001b[43m(\u001b[49m\u001b[43m)\u001b[49m\n\u001b[1;32m   3834\u001b[0m \u001b[38;5;28;01mreturn\u001b[39;00m response\n",
      "File \u001b[0;32m~/mcity_data_engine/.venv/lib/python3.12/site-packages/requests/models.py:1024\u001b[0m, in \u001b[0;36mResponse.raise_for_status\u001b[0;34m(self)\u001b[0m\n\u001b[1;32m   1019\u001b[0m     http_error_msg \u001b[38;5;241m=\u001b[39m (\n\u001b[1;32m   1020\u001b[0m         \u001b[38;5;124mf\u001b[39m\u001b[38;5;124m\"\u001b[39m\u001b[38;5;132;01m{\u001b[39;00m\u001b[38;5;28mself\u001b[39m\u001b[38;5;241m.\u001b[39mstatus_code\u001b[38;5;132;01m}\u001b[39;00m\u001b[38;5;124m Server Error: \u001b[39m\u001b[38;5;132;01m{\u001b[39;00mreason\u001b[38;5;132;01m}\u001b[39;00m\u001b[38;5;124m for url: \u001b[39m\u001b[38;5;132;01m{\u001b[39;00m\u001b[38;5;28mself\u001b[39m\u001b[38;5;241m.\u001b[39murl\u001b[38;5;132;01m}\u001b[39;00m\u001b[38;5;124m\"\u001b[39m\n\u001b[1;32m   1021\u001b[0m     )\n\u001b[1;32m   1023\u001b[0m \u001b[38;5;28;01mif\u001b[39;00m http_error_msg:\n\u001b[0;32m-> 1024\u001b[0m     \u001b[38;5;28;01mraise\u001b[39;00m HTTPError(http_error_msg, response\u001b[38;5;241m=\u001b[39m\u001b[38;5;28mself\u001b[39m)\n",
      "\u001b[0;31mHTTPError\u001b[0m: 400 Client Error: Bad Request for url: https://app.cvat.ai/api/auth/login"
     ]
    }
   ],
   "source": [
    "# If you want to label the dataset in-house, this example shows how to use Label Studio. Voxel51 also has other integrations\n",
    "# https://docs.voxel51.com/integrations/labelstudio.html\n",
    "# To setup Label Studio, follow the instructions here: https://docs.voxel51.com/integrations/labelstudio.html#label-studio-setup\n",
    "# Before running this cell, launch Label Studio in a new terminal with 'label-studio'\n",
    "\n",
    "classes_for_labeling = [\"motorbike/cycler\", \"pedestrian\"]    # [\"car\", \"truck\", \"bus\", \"trailer\", \"motorbike/cycler\", \"pedestrian\", \"van\", \"pickup\"] Classes from Mcity Fisheye dataset\n",
    "label_schema = {\n",
    "    \"new_ground_truth\": {\n",
    "        \"type\": \"polylines\",\n",
    "        \"classes\": classes_for_labeling,\n",
    "    },\n",
    "}\n",
    "\n",
    "anno_key = \"cvat\"\n",
    "if view_selection.has_annotation_runs:\n",
    "    view_selection.delete_annotation_run(anno_key)\n",
    "\n",
    "view_selection.annotate(\n",
    "    anno_key,\n",
    "    backend=\"cvat\",\n",
    "    label_schema=label_schema,\n",
    "    launch_editor=True,\n",
    ")"
   ]
  }
 ],
 "metadata": {
  "kernelspec": {
   "display_name": ".venv",
   "language": "python",
   "name": "python3"
  },
  "language_info": {
   "codemirror_mode": {
    "name": "ipython",
    "version": 3
   },
   "file_extension": ".py",
   "mimetype": "text/x-python",
   "name": "python",
   "nbconvert_exporter": "python",
   "pygments_lexer": "ipython3",
   "version": "3.12.3"
  }
 },
 "nbformat": 4,
 "nbformat_minor": 2
}
