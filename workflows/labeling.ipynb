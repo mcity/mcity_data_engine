{
 "cells": [
  {
   "cell_type": "markdown",
   "metadata": {},
   "source": [
    "# Dataset Labeling\n",
    "\n",
    "This is a **manual workflow**. Once a dataset has been populated with the results from the **Ensemble Exploration** workflow, this workflow can be used to select the samples to be labeled. Here you manually select the final images to be labeled. These will be exported and are ready to be labeled in the second part of the notebbok, where CVAT is used for that purpose.\n"
   ]
  },
  {
   "cell_type": "code",
   "execution_count": null,
   "metadata": {},
   "outputs": [],
   "source": [
    "import sys\n",
    "\n",
    "sys.path.append(\"..\")\n",
    "\n",
    "import os\n",
    "import logging\n",
    "from tqdm import tqdm\n",
    "\n",
    "import fiftyone as fo\n",
    "import fiftyone.utils.cvat as fouc\n",
    "\n",
    "from main import configure_logging\n",
    "from utils.selector import (\n",
    "    generate_view_embedding_selection,\n",
    "    generate_view_anomaly_detection_selection,\n",
    "    generate_view_ensemble_selection,\n",
    ")\n",
    "\n",
    "configure_logging()"
   ]
  },
  {
   "cell_type": "code",
   "execution_count": null,
   "metadata": {},
   "outputs": [],
   "source": [
    "# Prepare connection to CVAT\n",
    "# Add your credentials to the .secret file. Follow these instructions: https://docs.voxel51.com/integrations/cvat.html#authentication\")\n",
    "\n",
    "try:\n",
    "    with open(\"../.secret\", \"r\") as file:\n",
    "        for line in file:\n",
    "            key, value = line.strip().split(\"=\")\n",
    "            if key in [\n",
    "                \"FIFTYONE_CVAT_USERNAME\",\n",
    "                \"FIFTYONE_CVAT_PASSWORD\",\n",
    "                \"FIFTYONE_CVAT_EMAIL\",\n",
    "            ]:\n",
    "                logging.info(f\"Key {key} found\")\n",
    "                os.environ[key] = value\n",
    "except Exception as e:\n",
    "    logging.error(f\"An error occured: {e}\")"
   ]
  },
  {
   "cell_type": "code",
   "execution_count": null,
   "metadata": {},
   "outputs": [],
   "source": [
    "# Load dataset\n",
    "dataset_name = \"fisheye8k\"  # Dataset to load\n",
    "dataset = fo.load_dataset(dataset_name)"
   ]
  },
  {
   "cell_type": "code",
   "execution_count": null,
   "metadata": {},
   "outputs": [],
   "source": [
    "# Field and tags names used in Ensemble Selection\n",
    "ensemble_selection_field = \"n_unique_ensemble_selection\"\n",
    "ensemble_selection_tag = \"detections_overlap\""
   ]
  },
  {
   "cell_type": "code",
   "execution_count": null,
   "metadata": {},
   "outputs": [],
   "source": [
    "# Field and tags names used in Ensemble Selection\n",
    "ensemble_selection_field = \"n_unique_ensemble_selection\"\n",
    "ensemble_selection_tag = \"detections_overlap\""
   ]
  },
  {
   "cell_type": "code",
   "execution_count": null,
   "metadata": {},
   "outputs": [],
   "source": [
    "# Shows only labels that belong to the unique detections\n",
    "# Key 'apply_filter': Whether to utilize the workflow output for the selection\n",
    "# Key 'function': Function to filter and return a view\n",
    "\n",
    "configuration = {\n",
    "    \"embedding_selection\": {\n",
    "        \"apply_filter\": True,\n",
    "        \"function\": generate_view_embedding_selection,\n",
    "        \"min_selection_count\": 1,  # How often a sample was selected\n",
    "    },\n",
    "    \"anomaly_detection\": {\n",
    "        \"apply_filter\": True,\n",
    "        \"function\": generate_view_anomaly_detection_selection,\n",
    "        \"model\": \"Padim\",  # Model used for mask generation\n",
    "        \"min_anomaly_score\": 0.5,  # Anomaly score of the model\n",
    "    },\n",
    "    \"ensemble_selection\": {\n",
    "        \"apply_filter\": True,\n",
    "        \"function\": generate_view_ensemble_selection,\n",
    "        \"min_n_unique_selection\": 5,  # Number of instances per frame\n",
    "    },\n",
    "}\n",
    "\n",
    "# Currently supported workflows to filter data\n",
    "view = dataset.view()\n",
    "for workflow_name, workflow_config in tqdm(\n",
    "    configuration.items(), desc=\"Filtering samples\"\n",
    "):\n",
    "    if workflow_config.get(\"apply_filter\", False) is True:\n",
    "        samples_in = len(view)\n",
    "        view = workflow_config[\"function\"](view, workflow_config)\n",
    "        samples_out = len(view)\n",
    "        logging.info(\n",
    "            f\"Reduced {samples_in} samples to {samples_out} with workflow {workflow_name}\"\n",
    "        )\n",
    "        if len(view) == 0:\n",
    "            logging.error(\"Filter settings were too strict. No samples left.\")"
   ]
  },
  {
   "cell_type": "code",
   "execution_count": null,
   "metadata": {},
   "outputs": [],
   "source": [
    "# Use this view to label the samples you want to have labeled\n",
    "# Choose the tag_for_labeling to tag the samples you want to label\n",
    "tag_for_labeling = \"todo_labeling\"\n",
    "fo.launch_app(view=view)"
   ]
  },
  {
   "cell_type": "code",
   "execution_count": null,
   "metadata": {},
   "outputs": [],
   "source": [
    "# Inspect your selection of samples to be labeled\n",
    "view_selection = dataset.match_tags(tag_for_labeling)\n",
    "if len(view_selection) == 0:\n",
    "    logging.error(\n",
    "        f\"No samples selected for labeling. Please tag samples with tag '{tag_for_labeling}'\"\n",
    "    )\n",
    "print(view_selection)"
   ]
  },
  {
   "cell_type": "code",
   "execution_count": null,
   "metadata": {},
   "outputs": [],
   "source": [
    "# Export the dataset you want to have labeled\n",
    "# This example uses the YOLOv5Dataset format which also exports labels\n",
    "# https://docs.voxel51.com/user_guide/export_datasets.html#yolov5dataset\n",
    "\n",
    "splits = [\"train\", \"val\"]  # Select all the splits your dataset has\n",
    "export_dir = \"/media/dbogdoll/Datasets/vru_labeling\"  # Directory to export the files to\n",
    "label_field = \"pred_google_owlv2_large_patch14_finetuned\"  # Include a prediction field from one of the zero-shot models\n",
    "\n",
    "classes = view_selection.distinct(\n",
    "    f\"{label_field}.detections.label\"\n",
    ")  # Get all the classes from the prediction field\n",
    "\n",
    "# Export the splits\n",
    "for split in splits:\n",
    "    split_view = view_selection.match_tags(split)\n",
    "    split_view.export(\n",
    "        export_dir=export_dir,\n",
    "        dataset_type=fo.types.YOLOv5Dataset,\n",
    "        label_field=label_field,\n",
    "        split=split,\n",
    "        classes=classes,\n",
    "    )"
   ]
  },
  {
   "cell_type": "code",
   "execution_count": null,
   "metadata": {},
   "outputs": [],
   "source": [
    "# If you want to label the dataset in-house, this example shows how to use CVAT. Voxel51 also has other integrations\n",
    "# You will only need a CVAT account and set the environment variables at the top of the notebook\n",
    "# https://docs.voxel51.com/integrations/cvat.html\n",
    "\n",
    "classes_for_labeling = [\n",
    "    \"motorbike/cycler\",\n",
    "    \"pedestrian\",\n",
    "]  # [\"car\", \"truck\", \"bus\", \"trailer\", \"motorbike/cycler\", \"pedestrian\", \"van\", \"pickup\"] Classes from Mcity Fisheye dataset\n",
    "label_schema = {\n",
    "    \"new_ground_truth\": {\n",
    "        \"type\": \"polylines\",\n",
    "        \"classes\": classes_for_labeling,\n",
    "    },\n",
    "}\n",
    "\n",
    "anno_key = \"cvat\"\n",
    "# if view_selection.has_annotation_runs:\n",
    "#    view_selection.delete_annotation_run(anno_key)"
   ]
  },
  {
   "cell_type": "code",
   "execution_count": null,
   "metadata": {},
   "outputs": [],
   "source": [
    "view_selection.annotate(\n",
    "    anno_key,\n",
    "    backend=\"cvat\",\n",
    "    label_schema=label_schema,\n",
    "    launch_editor=True,\n",
    ")"
   ]
  },
  {
   "cell_type": "code",
   "execution_count": null,
   "metadata": {},
   "outputs": [],
   "source": [
    "view_selection.list_annotation_runs()\n",
    "info = dataset.get_annotation_info(anno_key)\n",
    "print(info)"
   ]
  },
  {
   "cell_type": "code",
   "execution_count": null,
   "metadata": {},
   "outputs": [],
   "source": [
    "# Once you have annotated the dataset, you can import the labels back into FiftyOne\n",
    "dataset.load_annotations(anno_key)\n",
    "view_annotations = dataset.load_annotation_view(anno_key)\n",
    "fo.launch_app(view=view_annotations)"
   ]
  },
  {
   "cell_type": "code",
   "execution_count": null,
   "metadata": {},
   "outputs": [],
   "source": [
    "# Import a labeled dataset from CVAT if the annotation_key was deleted\n",
    "\n",
    "cvat_project_name = \"FiftyOne_mcity_fisheye_3_months\"\n",
    "\n",
    "dataset_labeled = fo.Dataset()\n",
    "fouc.import_annotations(\n",
    "    dataset,\n",
    "    project_name=cvat_project_name,\n",
    "    data_path=\"/tmp/cvat_import\",\n",
    "    download_media=True,\n",
    ")\n",
    "\n",
    "session = fo.launch_app(dataset_labeled)"
   ]
  },
  {
   "cell_type": "code",
   "execution_count": null,
   "metadata": {},
   "outputs": [],
   "source": [
    "# If dataset got extended, merge into existing dataset\n",
    "# Add tags prior to merging\n",
    "# for sample in dataset_labeled:\n",
    "#    sample.tags = [\"addition_2025_01_13\",\"train\"]\n",
    "#    sample.save()\n",
    "# dataset_exitsting.merge_samples(dataset_labeled)"
   ]
  },
  {
   "cell_type": "code",
   "execution_count": null,
   "metadata": {},
   "outputs": [],
   "source": [
    "# Cleanup\n",
    "\n",
    "# Delete tasks from CVAT\n",
    "# results = dataset.load_annotation_results(anno_key)\n",
    "# results.cleanup()\n",
    "\n",
    "# Delete run record (not the labels) from FiftyOne\n",
    "# dataset.delete_annotation_run(anno_key)"
   ]
  }
 ],
 "metadata": {
  "language_info": {
   "name": "python"
  }
 },
 "nbformat": 4,
 "nbformat_minor": 2
}
