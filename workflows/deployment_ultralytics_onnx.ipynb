{
 "cells": [
  {
   "cell_type": "markdown",
   "id": "bedf81e5",
   "metadata": {},
   "source": [
    "This manual workflow takes a trained Ultralytics model from the Hugging Face Hub and exports it into the ONNX format for deployment."
   ]
  },
  {
   "cell_type": "code",
   "execution_count": null,
   "id": "154d6ef2",
   "metadata": {},
   "outputs": [],
   "source": [
    "import os\n",
    "from huggingface_hub import hf_hub_download\n",
    "from ultralytics import YOLO"
   ]
  },
  {
   "cell_type": "code",
   "execution_count": null,
   "id": "ab2506d8",
   "metadata": {},
   "outputs": [],
   "source": [
    "deployment_dir = \"../output/deployment\"\n",
    "os.makedirs(deployment_dir, exist_ok=True)"
   ]
  },
  {
   "cell_type": "code",
   "execution_count": null,
   "id": "1d6fd630",
   "metadata": {},
   "outputs": [],
   "source": [
    "# Download Ultralytics model\n",
    "model_hf_id = \"mcity-data-engine/fisheye8k_yolo12n\"\n",
    "model_name = \"best.pt\"\n",
    "hf_hub_download(repo_id=model_hf_id, filename=model_name, local_dir=deployment_dir)"
   ]
  },
  {
   "cell_type": "code",
   "execution_count": null,
   "id": "173c673f",
   "metadata": {},
   "outputs": [],
   "source": [
    "# Model export to ONNX\n",
    "# https://docs.ultralytics.com/modes/export/\n",
    "model = YOLO(os.path.join(deployment_dir, model_name))\n",
    "model.export(format=\"onnx\", dynamic=True)"
   ]
  }
 ],
 "metadata": {
  "kernelspec": {
   "display_name": ".venv",
   "language": "python",
   "name": "python3"
  },
  "language_info": {
   "codemirror_mode": {
    "name": "ipython",
    "version": 3
   },
   "file_extension": ".py",
   "mimetype": "text/x-python",
   "name": "python",
   "nbconvert_exporter": "python",
   "pygments_lexer": "ipython3",
   "version": "3.12.3"
  }
 },
 "nbformat": 4,
 "nbformat_minor": 5
}
