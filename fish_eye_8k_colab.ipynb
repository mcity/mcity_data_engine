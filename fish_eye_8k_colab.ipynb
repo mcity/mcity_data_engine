{
  "cells": [
    {
      "cell_type": "code",
      "execution_count": null,
      "metadata": {
        "id": "FcmjORRe-ERh"
      },
      "outputs": [],
      "source": [
        "!git clone https://github.com/mcity/mcity_data_engine.git"
      ]
    },
    {
      "cell_type": "code",
      "execution_count": null,
      "metadata": {
        "id": "21GvhLMh-O_L"
      },
      "outputs": [],
      "source": [
        "!cp -R mcity_data_engine/* ."
      ]
    },
    {
      "cell_type": "code",
      "execution_count": null,
      "metadata": {
        "id": "43WVSrfh-TzX"
      },
      "outputs": [],
      "source": [
        "!pip install -r requirements_colab.txt"
      ]
    },
    {
      "cell_type": "code",
      "execution_count": null,
      "metadata": {
        "id": "U-IDicEF_yqn"
      },
      "outputs": [],
      "source": [
        "!export HF_HUB_ETAG_TIMEOUT=5000\n",
        "!export HF_HUB_DOWNLOAD_TIMEOUT=1000\n",
        "!python main.py"
      ]
    },
    {
      "cell_type": "code",
      "source": [
        "import fiftyone as fo\n",
        "samples_panel = fo.Panel(type=\"Samples\", pinned=True)\n",
        "\n",
        "embeddings_panel = fo.Panel(\n",
        "    type=\"Embeddings\",\n",
        "    state=dict(brainResult=\"clip_vit_base32_torch_umap\", colorByField=\"metadata.size_bytes\"),\n",
        ")\n",
        "\n",
        "spaces = fo.Space(\n",
        "    children=[\n",
        "        fo.Space(\n",
        "            children=[\n",
        "                fo.Space(children=[samples_panel]),\n",
        "            ],\n",
        "            orientation=\"horizontal\",\n",
        "        ),\n",
        "        fo.Space(children=[embeddings_panel]),\n",
        "    ],\n",
        "    orientation=\"vertical\",\n",
        ")\n",
        "fo.launch_app(dataset=fo.load_dataset('fisheye8k'),spaces=spaces)"
      ],
      "metadata": {
        "id": "cSfyF4bzH5bX"
      },
      "execution_count": null,
      "outputs": []
    }
  ],
  "metadata": {
    "accelerator": "GPU",
    "colab": {
      "gpuType": "T4",
      "provenance": []
    },
    "kernelspec": {
      "display_name": "Python 3",
      "name": "python3"
    },
    "language_info": {
      "name": "python"
    }
  },
  "nbformat": 4,
  "nbformat_minor": 0
}