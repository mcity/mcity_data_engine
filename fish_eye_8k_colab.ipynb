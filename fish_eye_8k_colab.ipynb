{
 "cells": [
  {
   "cell_type": "markdown",
   "metadata": {
    "id": "iXeRIbZKqMFT"
   },
   "source": [
    "[![Open in Google Colab](https://colab.research.google.com/assets/colab-badge.svg)](https://colab.research.google.com/github/mcity/mcity_data_engine/blob/main/fish_eye_8k_colab.ipynb)\n"
   ]
  },
  {
   "cell_type": "markdown",
   "metadata": {},
   "source": [
    "# 1. Introduction\n",
    "To get a first feel of the Mcity Data Engine, we provide an online demo in a Google Colab environment. We will load the Fisheye8K dataset and demonstrate the Mcity Data Engine workflow Embedding Selection. This workflow leverage a set of models to compute image embeddings. This subset will finally be visualized in the Voxel51 UI, highlighting how often a sample was picked by a model."
   ]
  },
  {
   "attachments": {},
   "cell_type": "markdown",
   "metadata": {},
   "source": [
    "## After opening in Google Colab, you can Run All (as per the below image) for the outcome or follow the steps below:\n",
    "\n",
    "![image](https://github.com/user-attachments/assets/68a5fecd-41ac-42b9-83f9-8c52b8cd96e9)"
   ]
  },
  {
   "cell_type": "markdown",
   "metadata": {},
   "source": [
    "\n",
    "\n",
    "# 2. Step-by-Step Instructions\n",
    "\n",
    "## Step 1: Clone Git repo"
   ]
  },
  {
   "cell_type": "code",
   "execution_count": null,
   "metadata": {
    "id": "FcmjORRe-ERh"
   },
   "outputs": [],
   "source": [
    "!git clone https://github.com/mcity/mcity_data_engine.git"
   ]
  },
  {
   "cell_type": "markdown",
   "metadata": {},
   "source": [
    "## Step 2: Copy code to execution path"
   ]
  },
  {
   "cell_type": "code",
   "execution_count": null,
   "metadata": {
    "id": "21GvhLMh-O_L"
   },
   "outputs": [],
   "source": [
    "!cp -R mcity_data_engine/* ."
   ]
  },
  {
   "cell_type": "markdown",
   "metadata": {},
   "source": [
    "## Step 3: Modify config for Colab workflow:"
   ]
  },
  {
   "cell_type": "code",
   "execution_count": null,
   "metadata": {},
   "outputs": [],
   "source": [
    "!pip install typed-ast"
   ]
  },
  {
   "cell_type": "code",
   "execution_count": null,
   "metadata": {},
   "outputs": [],
   "source": [
    "import ast\n",
    "import _ast\n",
    "\n",
    "\n",
    "config_file_path = './config/config.py'\n",
    "\n",
    "UPDATED_WORKFLOWS =    { \"embedding_selection\": {\n",
    "        \"mode\": \"compute\",\n",
    "        \"parameters\": {\n",
    "            \"compute_representativeness\": 0.99,\n",
    "            \"compute_unique_images_greedy\": 0.01,\n",
    "            \"compute_unique_images_deterministic\": 0.99,\n",
    "            \"compute_similar_images\": 0.03,\n",
    "            \"neighbour_count\": 3,\n",
    "        },\n",
    "        \"embedding_models\": [\n",
    "            \"detection-transformer-torch\",\n",
    "            \"zero-shot-detection-transformer-torch\",\n",
    "            \"clip-vit-base32-torch\",\n",
    "        ],\n",
    "    },}\n",
    "\n",
    "class ConfigVisitor(ast.NodeTransformer):\n",
    "        def visit_Assign(self, node):\n",
    "            # Look for the assignment of the variables we want to modify\n",
    "            if isinstance(node.targets[0], _ast.Name):\n",
    "                if node.targets[0].id == \"SELECTED_WORKFLOW\":\n",
    "                    node.value = ast.Constant(value=[\"embedding_selection\"] )\n",
    "                elif node.targets[0].id == \"WORKFLOWS\":\n",
    "                    node.value = ast.Constant(value=UPDATED_WORKFLOWS)\n",
    "                elif node.targets[0].id == \"WANDB_ACTIVE\":\n",
    "                    node.value = ast.Constant(value=False)\n",
    "                elif node.targets[0].id == \"V51_REMOTE\":\n",
    "                    node.value = ast.Constant(value=False)                                      \n",
    "            return node\n",
    "\n",
    "    # Transform the AST\n",
    "transformer = ConfigVisitor()\n",
    "\n",
    "with open(config_file_path, \"r\") as file:\n",
    "    content = file.read()\n",
    "\n",
    "parsed_ast = ast.parse(content)\n",
    "updated_ast = transformer.visit(parsed_ast)\n",
    "\n",
    "    # Convert AST back to source code\n",
    "    \n",
    "updated_content = ast.unparse(updated_ast)\n",
    "\n",
    "with open(config_file_path, \"w\") as file:\n",
    "    file.write(updated_content)\n",
    "\n",
    "print(\"Config file updated successfully.\")\n",
    "\n"
   ]
  },
  {
   "cell_type": "markdown",
   "metadata": {},
   "source": [
    "## Step 4: Install Colab specific data engine requirements"
   ]
  },
  {
   "cell_type": "code",
   "execution_count": null,
   "metadata": {
    "id": "43WVSrfh-TzX"
   },
   "outputs": [],
   "source": [
    "%%capture\n",
    "!pip install -r requirements_colab.txt"
   ]
  },
  {
   "cell_type": "markdown",
   "metadata": {},
   "source": [
    "## Step 5: Configure Huggingface timeout variables"
   ]
  },
  {
   "cell_type": "code",
   "execution_count": null,
   "metadata": {
    "id": "U-IDicEF_yqn"
   },
   "outputs": [],
   "source": [
    "!export HF_HUB_ETAG_TIMEOUT=5000\n",
    "!export HF_HUB_DOWNLOAD_TIMEOUT=1000"
   ]
  },
  {
   "cell_type": "markdown",
   "metadata": {},
   "source": [
    "## Step 6: Download sample dataset"
   ]
  },
  {
   "cell_type": "code",
   "execution_count": null,
   "metadata": {},
   "outputs": [],
   "source": [
    "from fiftyone.utils.huggingface import load_from_hub\n",
    "\n",
    "dataset = load_from_hub(\n",
    "    \"Voxel51/fisheye8k\",\n",
    "    name = \"fisheye8k\",\n",
    "    max_samples=1000,\n",
    ")"
   ]
  },
  {
   "cell_type": "markdown",
   "metadata": {},
   "source": [
    "## Step 7: start embeddings workflow"
   ]
  },
  {
   "cell_type": "code",
   "execution_count": null,
   "metadata": {},
   "outputs": [],
   "source": [
    "!python main.py"
   ]
  },
  {
   "cell_type": "markdown",
   "metadata": {},
   "source": [
    "## Step 8: Set up the Voxel51 app layout for the dataset for which embeddings are computed"
   ]
  },
  {
   "cell_type": "code",
   "execution_count": null,
   "metadata": {
    "id": "cSfyF4bzH5bX"
   },
   "outputs": [],
   "source": [
    "import fiftyone as fo\n",
    "samples_panel = fo.Panel(type=\"Samples\", pinned=True)\n",
    "\n",
    "embeddings_panel = fo.Panel(\n",
    "    type=\"Embeddings\",\n",
    "    state=dict(brainResult=\"clip_vit_base32_torch_umap\", colorByField=\"embedding_selection_count\"),\n",
    ")\n",
    "\n",
    "spaces = fo.Space(\n",
    "    children=[\n",
    "                fo.Space(children=[samples_panel]),\n",
    "                fo.Space(children=[embeddings_panel]),\n",
    "            ],\n",
    "    orientation=\"horizontal\",\n",
    ")\n",
    "fo.launch_app(dataset=fo.load_dataset('fisheye8k'),spaces=spaces)"
   ]
  },
  {
   "cell_type": "markdown",
   "metadata": {
    "jp-MarkdownHeadingCollapsed": true
   },
   "source": [
    "# 3. Handling Errors and Troubleshooting\n",
    "* If Colab requests a session restart after installing requirements, ignore the error and proceed.\n",
    "* The Voxel51 app may take 1-2 minutes to launch, depending on your internet speed.\n",
    "* If no images appear in the Samples Panel or Embeddings Panel, manually click on the Samples or Embeddings tab to load them (refer Voxel51 [Tutorial](https://docs.voxel51.com/tutorials/image_embeddings.html)).\n",
    "\n",
    "# 4. Additional Notes and Best Practices\n",
    "* Always ensure your runtime is set to GPU for optimal performance.\n",
    "* Keep an eye on execution logs for warnings or errors.\n",
    "* Save your work frequently to avoid losing progress.\n",
    "\n",
    "\n",
    "By following this manual, you will be able to execute the Fish Eye 8K notebook in Google Colab efficiently. Happy coding!"
   ]
  },
  {
   "cell_type": "code",
   "execution_count": null,
   "metadata": {},
   "outputs": [],
   "source": []
  }
 ],
 "metadata": {
  "accelerator": "GPU",
  "colab": {
   "gpuType": "T4",
   "provenance": []
  },
  "kernelspec": {
   "display_name": "Python 3 (ipykernel)",
   "language": "python",
   "name": "python3"
  },
  "language_info": {
   "codemirror_mode": {
    "name": "ipython",
    "version": 3
   },
   "file_extension": ".py",
   "mimetype": "text/x-python",
   "name": "python",
   "nbconvert_exporter": "python",
   "pygments_lexer": "ipython3",
   "version": "3.12.3"
  }
 },
 "nbformat": 4,
 "nbformat_minor": 4
}
