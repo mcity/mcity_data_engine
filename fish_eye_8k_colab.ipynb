{
 "cells": [
  {
   "cell_type": "markdown",
   "metadata": {
    "id": "iXeRIbZKqMFT"
   },
   "source": [
    "[![Open in Google Colab](https://colab.research.google.com/assets/colab-badge.svg)](https://colab.research.google.com/github/mcity/mcity_data_engine/blob/main/fish_eye_8k_colab.ipynb)\n"
   ]
  },
  {
   "cell_type": "markdown",
   "metadata": {},
   "source": [
    "# 1. Introduction\n",
    "This manual provides detailed steps for running the Mcity data engine workflow for embedding using opensource Fish Eye 8K camera data on a Google Colab notebook. \n",
    "\n",
    "# 2. Prerequisites\n",
    "Before proceeding, ensure you have:\n",
    "* A Google account\n",
    "* Access to Google Colab (https://colab.research.google.com/)\n",
    "* A stable internet connection\n",
    "* Create a Weights & Biases auth token: https://wandb.ai/authorize\n",
    "\n",
    "\n",
    "# 3. Step-by-Step Instructions\n",
    "\n",
    "## Step 1: Creating a Google Colab Workspace\n",
    "1. Open your web browser and navigate to [Google Colab](https://colab.research.google.com/).\n",
    "1. Sign in with your Google account if prompted.\n",
    "\n",
    "## Step 2: Change Runtime type to T4 GPU on Colab\n",
    "1. Click on Runtime in the menu bar.\n",
    "2. Select Change runtime type.\n",
    "3. Under the Hardware accelerator, choose T4 GPU.\n",
    "4. Click Save to apply changes.\n",
    " \n",
    "![image](https://github.com/user-attachments/assets/a6dd81f0-6066-4f82-a9d1-f4aea7201b89)\n",
    "\n",
    "\n",
    "## Step 3: Connecting to Colab\n",
    "1. Click the Connect button in the top-right corner.\n",
    "2. Wait until you see a green checkmark indicating that the runtime is connected.\n",
    "\n",
    "![image](https://github.com/user-attachments/assets/f2034bb4-7898-41c9-85b8-6d9e24fc09a2)\n",
    "\n",
    "\n",
    "## Step 4: Clone Git repo"
   ]
  },
  {
   "cell_type": "code",
   "execution_count": null,
   "metadata": {
    "id": "FcmjORRe-ERh"
   },
   "outputs": [],
   "source": [
    "!git clone https://github.com/mcity/mcity_data_engine.git"
   ]
  },
  {
   "cell_type": "markdown",
   "metadata": {},
   "source": [
    "## Step 5: Copy code to execution path"
   ]
  },
  {
   "cell_type": "code",
   "execution_count": null,
   "metadata": {
    "id": "21GvhLMh-O_L"
   },
   "outputs": [],
   "source": [
    "!cp -R mcity_data_engine/* ."
   ]
  },
  {
   "cell_type": "markdown",
   "metadata": {},
   "source": [
    "## Step 6: Modify config for Colab workflow:\n",
    "\n",
    "- Open config.py folder config folder \n",
    "\n",
    "- Mofiy selection for WORKFLOW as embedding section workflow\n",
    "\n",
    "`SELECTED_WORKFLOW = [\"embedding_selection\"]`\n",
    "\n",
    "\n",
    "- Limit number of samples in Dataset section\n",
    "\n",
    "  \n",
    "\n",
    "`SELECTED_DATASET = {\n",
    "    \"name\": \"fisheye8k\",\n",
    "    \"n_samples\": 100,  \n",
    "}`\n",
    "\n",
    "\n",
    "- Make embedding selection mode to \"load\"\n",
    "\n",
    "  `WORKFLOWS = {\n",
    "    ... ,\n",
    "    \"embedding_selection\": {\n",
    "        \"mode\": \"load\", `\n",
    "\n",
    "\n",
    "- Disable Weights and Biases Config if you dnt have a token\n",
    "  \n",
    "`\n",
    "WANDB_ACTIVE = False\n",
    "`"
   ]
  },
  {
   "cell_type": "markdown",
   "metadata": {},
   "source": [
    "## Step 7: Install Colab specific data engine requirements"
   ]
  },
  {
   "cell_type": "code",
   "execution_count": null,
   "metadata": {
    "id": "43WVSrfh-TzX"
   },
   "outputs": [],
   "source": [
    "!pip install -r requirements_colab.txt"
   ]
  },
  {
   "cell_type": "markdown",
   "metadata": {},
   "source": [
    "## Step 8: Configure Huggingface timeout variables and start embeddings workflow"
   ]
  },
  {
   "cell_type": "code",
   "execution_count": null,
   "metadata": {
    "id": "U-IDicEF_yqn"
   },
   "outputs": [],
   "source": [
    "!export HF_HUB_ETAG_TIMEOUT=5000\n",
    "!export HF_HUB_DOWNLOAD_TIMEOUT=1000\n",
    "!python main.py"
   ]
  },
  {
   "cell_type": "markdown",
   "metadata": {},
   "source": [
    "## Step 9: Set up the Voxel51 app layout for the dataset for which embeddings are computed"
   ]
  },
  {
   "cell_type": "code",
   "execution_count": null,
   "metadata": {
    "id": "cSfyF4bzH5bX"
   },
   "outputs": [],
   "source": [
    "import fiftyone as fo\n",
    "samples_panel = fo.Panel(type=\"Samples\", pinned=True)\n",
    "\n",
    "embeddings_panel = fo.Panel(\n",
    "    type=\"Embeddings\",\n",
    "    state=dict(brainResult=\"clip_vit_base32_torch_umap\", colorByField=\"metadata.size_bytes\"),\n",
    ")\n",
    "\n",
    "spaces = fo.Space(\n",
    "    children=[\n",
    "        fo.Space(\n",
    "            children=[\n",
    "                fo.Space(children=[samples_panel]),\n",
    "            ],\n",
    "            orientation=\"horizontal\",\n",
    "        ),\n",
    "        fo.Space(children=[embeddings_panel]),\n",
    "    ],\n",
    "    orientation=\"vertical\",\n",
    ")\n",
    "fo.launch_app(dataset=fo.load_dataset('fisheye8k'),spaces=spaces)"
   ]
  },
  {
   "cell_type": "markdown",
   "metadata": {},
   "source": [
    "# 4. Handling Errors and Troubleshooting\n",
    "* If Colab requests a session restart after installing requirements, ignore the error and proceed.\n",
    "* The Voxel51 app may take 1-2 minutes to launch, depending on your internet speed.\n",
    "* If no images appear in the Samples Panel or Embeddings Panel, manually click on the Samples or Embeddings tab to load them (refer Voxel51 [Tutorial](https://docs.voxel51.com/tutorials/image_embeddings.html)).\n",
    "\n",
    "# 5. Additional Notes and Best Practices\n",
    "* Always ensure your runtime is set to GPU for optimal performance.\n",
    "* Keep an eye on execution logs for warnings or errors.\n",
    "* Save your work frequently to avoid losing progress.\n",
    "\n",
    "\n",
    "By following this manual, you will be able to execute the Fish Eye 8K notebook in Google Colab efficiently. Happy coding!"
   ]
  },
  {
   "cell_type": "code",
   "execution_count": null,
   "metadata": {},
   "outputs": [],
   "source": []
  }
 ],
 "metadata": {
  "accelerator": "GPU",
  "colab": {
   "gpuType": "T4",
   "provenance": []
  },
  "kernelspec": {
   "display_name": "Python 3 (ipykernel)",
   "language": "python",
   "name": "python3"
  },
  "language_info": {
   "codemirror_mode": {
    "name": "ipython",
    "version": 3
   },
   "file_extension": ".py",
   "mimetype": "text/x-python",
   "name": "python",
   "nbconvert_exporter": "python",
   "pygments_lexer": "ipython3",
   "version": "3.12.3"
  }
 },
 "nbformat": 4,
 "nbformat_minor": 4
}
