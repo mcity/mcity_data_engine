{
 "cells": [
  {
   "cell_type": "markdown",
   "metadata": {},
   "source": [
    "This script takes the **Fisheye8K** dataset and creates new splits:\n",
    "\n",
    "- Data from only a single camera is selected\n",
    "- The rare class \"Trucks\" is chosen as an anomaly\n",
    "- The train split does not include any \"Trucks\".\n",
    "- The val split includes only frames with \"Trucks\"\n",
    "\n",
    "With the new **fisheye8k_anomaly_detection** dataset we can learn a normality without \"Trucks\" and treat them as outliers during validation. This way we might be able to detect new images with \"Trucks\"."
   ]
  },
  {
   "cell_type": "code",
   "execution_count": 7,
   "metadata": {},
   "outputs": [],
   "source": [
    "import fiftyone as fo\n",
    "from fiftyone import ViewField as F\n",
    "from PIL import Image, ImageDraw\n",
    "import plotly.graph_objects as go\n",
    "import os\n",
    "\n",
    "import sys\n",
    "\n",
    "sys.path.append(\"..\")\n",
    "\n",
    "from utils.selector import select_by_class"
   ]
  },
  {
   "cell_type": "code",
   "execution_count": 8,
   "metadata": {},
   "outputs": [],
   "source": [
    "dataset = fo.load_dataset(\n",
    "    \"fisheye8k\"\n",
    ")  # Expects that the dataset was once loaded through the Data Engine\n",
    "view_cam1 = dataset.match(F(\"location\") == \"cam1\")"
   ]
  },
  {
   "cell_type": "code",
   "execution_count": 9,
   "metadata": {},
   "outputs": [
    {
     "data": {
      "text/html": [
       "\n",
       "        <iframe\n",
       "            width=\"100%\"\n",
       "            height=\"800\"\n",
       "            src=\"http://localhost:5151/?notebook=True&subscription=cb1414e9-f66e-4134-8c61-c196442203a4\"\n",
       "            frameborder=\"0\"\n",
       "            allowfullscreen\n",
       "            \n",
       "        ></iframe>\n",
       "        "
      ],
      "text/plain": [
       "<IPython.lib.display.IFrame at 0x7fddb3cd1e20>"
      ]
     },
     "metadata": {},
     "output_type": "display_data"
    }
   ],
   "source": [
    "fo.launch_app(view_cam1)\n",
    "# Analysis of the class distribution showed that \"Truck\" is a rare class\n",
    "anomaly_class = \"Truck\""
   ]
  },
  {
   "cell_type": "code",
   "execution_count": 10,
   "metadata": {},
   "outputs": [
    {
     "name": "stdout",
     "output_type": "stream",
     "text": [
      "Train set has 351 samples; val set has 49 samples\n"
     ]
    }
   ],
   "source": [
    "view_train = select_by_class(\n",
    "    view_cam1, classes_in=[], classes_out=[anomaly_class]\n",
    ")  # Build training dataset (no anomaly_class)\n",
    "\n",
    "view_val = select_by_class(\n",
    "    view_cam1, classes_in=[anomaly_class], classes_out=[]\n",
    ")  # Build validation dataset (1-n anomaly_class in each frame)\n",
    "\n",
    "print(f\"Train set has {len(view_train)} samples; val set has {len(view_val)} samples\")"
   ]
  },
  {
   "cell_type": "code",
   "execution_count": 11,
   "metadata": {},
   "outputs": [
    {
     "name": "stdout",
     "output_type": "stream",
     "text": [
      "Directory '../output/datasets/fisheye8k_anomaly_detection' already exists; export will be merged with existing files\n",
      " 100% |█████████████████| 351/351 [4.7s elapsed, 0s remaining, 65.1 samples/s]       \n",
      "Directory '../output/datasets/fisheye8k_anomaly_detection' already exists; export will be merged with existing files\n",
      " 100% |███████████████████| 49/49 [880.4ms elapsed, 0s remaining, 55.7 samples/s]      \n"
     ]
    }
   ],
   "source": [
    "# https://github.com/voxel51/fiftyone/issues/1952\n",
    "\n",
    "export_root = \"../output/datasets/\"\n",
    "dataset_name = \"fisheye8k_anomaly_detection\"\n",
    "export_dir = os.path.join(export_root, dataset_name)\n",
    "label_field = \"ground_truth\"\n",
    "\n",
    "classes = dataset.distinct(\n",
    "    \"ground_truth.detections.label\"\n",
    ")  # Sorted list of all observed labels in a given field\n",
    "\n",
    "dataset_splits = [\"train\", \"val\"]\n",
    "dataset_type = fo.types.YOLOv5Dataset\n",
    "\n",
    "view_train.export(\n",
    "    export_dir=export_dir,\n",
    "    dataset_type=dataset_type,\n",
    "    label_field=label_field,\n",
    "    split=dataset_splits[0],\n",
    "    classes=classes,\n",
    ")\n",
    "\n",
    "view_val.export(\n",
    "    export_dir=export_dir,\n",
    "    dataset_type=dataset_type,\n",
    "    label_field=label_field,\n",
    "    split=dataset_splits[1],\n",
    "    classes=classes,\n",
    ")"
   ]
  },
  {
   "cell_type": "markdown",
   "metadata": {},
   "source": [
    "This section takes bounding boxes and generates masks in the mvtec-ad format for the validation.\n",
    "\n",
    "mvtec-ad: Black png image with white pixels where ground truth is"
   ]
  },
  {
   "cell_type": "code",
   "execution_count": 12,
   "metadata": {},
   "outputs": [
    {
     "name": "stdout",
     "output_type": "stream",
     "text": [
      " 100% |█████████████████| 351/351 [4.6s elapsed, 0s remaining, 66.2 samples/s]      \n",
      " 100% |███████████████████| 49/49 [685.6ms elapsed, 0s remaining, 71.7 samples/s]      \n",
      "Computing metadata...\n",
      " 100% |█████████████████| 400/400 [16.8s elapsed, 0s remaining, 29.9 samples/s]      \n",
      "Processing 49 val samples\n",
      " 100% |███████████████████| 49/49 [656.7ms elapsed, 0s remaining, 74.6 samples/s]      \n"
     ]
    }
   ],
   "source": [
    "# Load the dataset we just generated\n",
    "if dataset_name in fo.list_datasets():\n",
    "    dataset = fo.load_dataset(dataset_name)\n",
    "    print(\"Existing dataset \" + dataset_name + \" was loaded.\")\n",
    "else:\n",
    "    dataset = fo.Dataset(dataset_name)\n",
    "    for split in dataset_splits:\n",
    "        dataset.add_dir(\n",
    "            dataset_dir=export_dir,\n",
    "            dataset_type=dataset_type,\n",
    "            split=split,\n",
    "            tags=split,\n",
    "        )\n",
    "dataset.compute_metadata()\n",
    "anomalous_view = dataset.match_tags(\n",
    "    \"val\", \"test\"\n",
    ")  # If it got pre-processed, also select test samples\n",
    "print(f\"Processing {len(anomalous_view)} val samples\")\n",
    "\n",
    "export_folder = \"fisheye8k_anomaly_detection_masks\"\n",
    "export_dir_masks = os.path.join(export_root, export_folder)\n",
    "os.makedirs(export_dir_masks, exist_ok=True)\n",
    "\n",
    "for sample in anomalous_view.iter_samples(progress=True):\n",
    "    img_width = sample.metadata.width\n",
    "    img_height = sample.metadata.height\n",
    "    mask = Image.new(\"L\", (img_width, img_height), 0)  # Create a black image\n",
    "    draw = ImageDraw.Draw(mask)\n",
    "    for bbox in sample.ground_truth.detections:\n",
    "        if bbox.label == anomaly_class:\n",
    "            # Convert V51 format to image format\n",
    "\n",
    "            x_min_rel, y_min_rel, width_rel, height_rel = bbox.bounding_box\n",
    "            x_min = int(x_min_rel * img_width)\n",
    "            y_min = int(y_min_rel * img_height)\n",
    "            x_max = int((x_min_rel + width_rel) * img_width)\n",
    "            y_max = int((y_min_rel + height_rel) * img_height)\n",
    "\n",
    "            # draw.rectangle([x0, y0, x1, y1], fill=255)  # [x0, y0, x1, y1]\n",
    "            draw.rectangle([x_min, y_min, x_max, y_max], fill=255)  # [x0, y0, x1, y1]\n",
    "\n",
    "    # Save the mask\n",
    "    filename = os.path.basename(sample.filepath).replace(\".jpg\", \".png\")\n",
    "    mask.save(os.path.join(export_dir_masks, f\"{filename}\"))"
   ]
  }
 ],
 "metadata": {
  "kernelspec": {
   "display_name": ".venv",
   "language": "python",
   "name": "python3"
  },
  "language_info": {
   "codemirror_mode": {
    "name": "ipython",
    "version": 3
   },
   "file_extension": ".py",
   "mimetype": "text/x-python",
   "name": "python",
   "nbconvert_exporter": "python",
   "pygments_lexer": "ipython3",
   "version": "3.12.3"
  }
 },
 "nbformat": 4,
 "nbformat_minor": 2
}
